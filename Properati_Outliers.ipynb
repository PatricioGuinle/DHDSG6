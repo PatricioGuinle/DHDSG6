{
 "cells": [
  {
   "cell_type": "code",
   "execution_count": null,
   "metadata": {},
   "outputs": [],
   "source": [
    "import numpy as np\n",
    "import pandas as pd\n",
    "import seaborn as sns\n",
    "import plotly.express as px"
   ]
  },
  {
   "cell_type": "code",
   "execution_count": null,
   "metadata": {},
   "outputs": [],
   "source": [
    "data_location = \"properati.csv\""
   ]
  },
  {
   "cell_type": "code",
   "execution_count": null,
   "metadata": {},
   "outputs": [],
   "source": [
    "data= pd.read_csv(data_location, sep=',')\n",
    "#data.head(5)"
   ]
  },
  {
   "cell_type": "code",
   "execution_count": null,
   "metadata": {},
   "outputs": [],
   "source": [
    "data_clean = data.copy(deep=True)"
   ]
  },
  {
   "cell_type": "code",
   "execution_count": null,
   "metadata": {},
   "outputs": [],
   "source": [
    "data_clean.shape"
   ]
  },
  {
   "cell_type": "code",
   "execution_count": null,
   "metadata": {},
   "outputs": [],
   "source": [
    "data_clean.dtypes"
   ]
  },
  {
   "cell_type": "code",
   "execution_count": null,
   "metadata": {},
   "outputs": [],
   "source": [
    "#TABLA NULOS POR COLUMNA\n",
    "\n",
    "data_null_pct = round(data_clean.isnull().sum() / data_clean.shape[0] * 100, 2).to_frame()\n",
    "data_null_count = data_clean.isnull().sum().to_frame()\n",
    "#data_null_table = data_null_count.join(data_null_avg)\n",
    "#data_null_table\n",
    "data_null_count.rename(columns={0:'cantidad'}, inplace=True)\n",
    "data_null_pct.rename(columns={0:'pct'}, inplace=True)\n",
    "data_null_table = data_null_count.join(data_null_pct)\n",
    "data_null_table"
   ]
  },
  {
   "cell_type": "code",
   "execution_count": null,
   "metadata": {},
   "outputs": [],
   "source": [
    "# veamos como se distribuye la variable price_usd_per_m2\n",
    "sns.distplot(data_clean.price_usd_per_m2)"
   ]
  },
  {
   "cell_type": "code",
   "execution_count": null,
   "metadata": {},
   "outputs": [],
   "source": [
    "# grafico boxplot de price_usd_per_m2 para detectar outliers. En el grafico veo que a partir de 5 k ya es outlier\n",
    "fig= px.box(data_clean, y= data_clean.price_usd_per_m2)\n",
    "fig.show()"
   ]
  },
  {
   "cell_type": "code",
   "execution_count": null,
   "metadata": {},
   "outputs": [],
   "source": [
    "# me fijo cuantos casos tengo por encima de usd 5000 y los considero outliers.\n",
    "mask_outliers_price_usd_m2 = data_clean.price_usd_per_m2 > 5000\n",
    "print(mask_outliers_price_usd_m2.sum())"
   ]
  },
  {
   "cell_type": "code",
   "execution_count": null,
   "metadata": {},
   "outputs": [],
   "source": [
    "# Reemplazo los valores de outliers por NaN para no borrar información de las otras columnas que pueda ser util\n",
    "\n",
    "data_clean.loc[data_clean[mask_outliers_price_usd_m2].index, \"price_usd_per_m2\"] = np.NaN\n",
    "#data_clean.price_usd_per_m2.isnull().sum()"
   ]
  },
  {
   "cell_type": "code",
   "execution_count": null,
   "metadata": {},
   "outputs": [],
   "source": [
    "# si quiero ver como queda ahora la distribucion de la variable price_usd_per_m2\n",
    "\n",
    "sns.distplot(data_clean.price_usd_per_m2) "
   ]
  },
  {
   "cell_type": "code",
   "execution_count": null,
   "metadata": {},
   "outputs": [],
   "source": [
    "# me fijo como se distribuye la variable price_aprox_usd\n",
    "sns.distplot(data_clean.price_aprox_usd)"
   ]
  },
  {
   "cell_type": "code",
   "execution_count": null,
   "metadata": {},
   "outputs": [],
   "source": [
    "# grafico boxplot de price_aprox_usd para detectar outliers. En el grafico veo que a partir de 700 k ya es outlier\n",
    "fig= px.box(data_clean, y= data_clean.price_aprox_usd)\n",
    "fig.show()"
   ]
  },
  {
   "cell_type": "code",
   "execution_count": null,
   "metadata": {},
   "outputs": [],
   "source": [
    "# cuento cantidad de outliers. \n",
    "mask_outlier_price_aprox_usd= data_clean.price_aprox_usd > 700000\n",
    "print(mask_outlier_price_aprox_usd.sum())\n",
    "#data_clean.loc[mask_outlier_price_aprox_usd].filter(['price_aprox_usd','price_usd_per_m2','place_name','surface_covered_in_m2','surface_total_in_m2'])"
   ]
  },
  {
   "cell_type": "code",
   "execution_count": null,
   "metadata": {},
   "outputs": [],
   "source": [
    "# reemplazo los outliers de price_apox_usd por NaN para no borrar información por el momento\n",
    "\n",
    "data_clean.loc[data_clean[mask_outlier_price_aprox_usd].index, \"price_aprox_usd\"] = np.NaN\n",
    "\n",
    "#sns.distplot('price_usd_m2')"
   ]
  },
  {
   "cell_type": "code",
   "execution_count": null,
   "metadata": {},
   "outputs": [],
   "source": [
    "# me fijo como se distribuye la variable surface_covered_in_m2\n",
    "sns.distplot(data_clean.surface_covered_in_m2)"
   ]
  },
  {
   "cell_type": "code",
   "execution_count": null,
   "metadata": {},
   "outputs": [],
   "source": [
    "# grafico boxplot de surface_covered_in_m2 para detectar outliers. En el grafico veo que a partir de 600 m2 ya es outlier\n",
    "fig= px.box(data_clean, y= data_clean.surface_covered_in_m2)\n",
    "fig.show()"
   ]
  },
  {
   "cell_type": "code",
   "execution_count": null,
   "metadata": {},
   "outputs": [],
   "source": [
    "# identifico outliers.\n",
    "mask_outlier_surface_covered = data_clean.surface_covered_in_m2 > 600\n",
    "print(mask_outlier_surface_covered.sum())\n",
    "#data_clean.loc[mask_outlier_surface_covered].filter(['price_aprox_usd','price_usd_per_m2','place_name','surface_covered_in_m2','surface_total_in_m2'])"
   ]
  },
  {
   "cell_type": "code",
   "execution_count": null,
   "metadata": {},
   "outputs": [],
   "source": [
    "# reemplazo los outliers por NaN\n",
    "\n",
    "data_clean.loc[data_clean[mask_outlier_surface_covered].index, \"surface_covered_in_m2\"] = np.NaN\n",
    "#data_clean.surface_covered_in_m2_clean.isnull().sum()\n"
   ]
  },
  {
   "cell_type": "code",
   "execution_count": null,
   "metadata": {},
   "outputs": [],
   "source": [
    "# me fijo como se distribuye la variable surface_total_in_m2\n",
    "sns.distplot(data_clean.surface_covered_in_m2)"
   ]
  },
  {
   "cell_type": "code",
   "execution_count": null,
   "metadata": {},
   "outputs": [],
   "source": [
    "# grafico boxplot de surface_total_in_m2 para detectar outliers. En el grafico veo que a partir de 800 m2 ya es outlier\n",
    "fig= px.box(data_clean, y= data_clean.surface_total_in_m2)\n",
    "fig.show()"
   ]
  },
  {
   "cell_type": "code",
   "execution_count": null,
   "metadata": {},
   "outputs": [],
   "source": [
    "# identifico outliers. Veo graficamente que tengo que sacar los mayores a 800 m2\n",
    "mask_outlier_surface_total= data_clean.surface_total_in_m2 > 800\n",
    "print(mask_outlier_surface_total.sum())\n",
    "#data_clean.loc[mask_outlier_surface_total].filter(['price_aprox_usd','price_usd_per_m2','place_name','surface_covered_in_m2','surface_total_in_m2'])"
   ]
  },
  {
   "cell_type": "code",
   "execution_count": null,
   "metadata": {},
   "outputs": [],
   "source": [
    "# reemplazo outliers por NaN\n",
    "\n",
    "data_clean.loc[data_clean[mask_outlier_surface_total].index, \"surface_total_in_m2\"] = np.NaN\n",
    "#data_clean.surface_total_in_m2.isnull().sum()"
   ]
  },
  {
   "cell_type": "code",
   "execution_count": null,
   "metadata": {},
   "outputs": [],
   "source": [
    "# veamos si en algunos casos, surface_covered es mas grande que surface_total.\n",
    "mask_surface= data_clean.surface_covered_in_m2 > data_clean.surface_total_in_m2\n",
    "print(mask_surface.sum())\n",
    "data_clean.loc[mask_surface].filter(['surface_total_in_m2','surface_covered_in_m2'])"
   ]
  },
  {
   "cell_type": "code",
   "execution_count": null,
   "metadata": {},
   "outputs": [],
   "source": [
    "# intercambio las columnas de surface_covered con las de surface_total dentro de la mascara mask_surface\n",
    "data_clean.loc[mask_surface,[\"surface_total_in_m2\", \"surface_covered_in_m2\"]] = data_clean.loc[mask_surface,[\"surface_covered_in_m2\",\"surface_total_in_m2\"]].values\n"
   ]
  },
  {
   "cell_type": "code",
   "execution_count": null,
   "metadata": {},
   "outputs": [],
   "source": [
    "# vamos a ver como se distribuye la variable expenses\n",
    "sns.distplot(data_clean.expenses)"
   ]
  },
  {
   "cell_type": "code",
   "execution_count": null,
   "metadata": {},
   "outputs": [],
   "source": [
    "# deteccion de outliers\n",
    "px.box(data_clean, y= data_clean.expenses)"
   ]
  },
  {
   "cell_type": "code",
   "execution_count": null,
   "metadata": {},
   "outputs": [],
   "source": [
    "# consideramos outlier a partir de 10000 pesos\n",
    "mask_expenses= data_clean.expenses > 10000\n",
    "mask_expenses.sum()"
   ]
  },
  {
   "cell_type": "code",
   "execution_count": null,
   "metadata": {},
   "outputs": [],
   "source": [
    "# reemplazo los outliers por NaN\n",
    "\n",
    "data_clean.loc[data_clean[mask_expenses].index, \"expenses\"] = np.NaN\n",
    "\n",
    "# expenses tiene mas del 88% de sus datos nulos\n",
    "data_clean.expenses.isnull().sum() / len(data_clean.expenses)"
   ]
  },
  {
   "cell_type": "code",
   "execution_count": null,
   "metadata": {},
   "outputs": [],
   "source": []
  }
 ],
 "metadata": {
  "kernelspec": {
   "display_name": "Python 3",
   "language": "python",
   "name": "python3"
  },
  "language_info": {
   "codemirror_mode": {
    "name": "ipython",
    "version": 3
   },
   "file_extension": ".py",
   "mimetype": "text/x-python",
   "name": "python",
   "nbconvert_exporter": "python",
   "pygments_lexer": "ipython3",
   "version": "3.7.7"
  }
 },
 "nbformat": 4,
 "nbformat_minor": 4
}
