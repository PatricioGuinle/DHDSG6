{
 "cells": [
  {
   "cell_type": "code",
   "execution_count": 22,
   "metadata": {},
   "outputs": [
    {
     "name": "stdout",
     "output_type": "stream",
     "text": [
      "pandas=1.0.3 already installed\n",
      "matplotlib=2.2.2 already installed\n",
      "bokeh=2.0.0 already installed\n",
      "seaborn=0.10.0 already installed\n"
     ]
    }
   ],
   "source": [
    "# initial setup\n",
    "try:\n",
    "    # settings colab:\n",
    "    import google.colab\n",
    "        \n",
    "except ModuleNotFoundError:    \n",
    "    # settings local:\n",
    "    %run \"../../../common/0_notebooks_base_setup.py\""
   ]
  },
  {
   "cell_type": "code",
   "execution_count": 23,
   "metadata": {},
   "outputs": [],
   "source": [
    "import pandas as pd\n",
    "import seaborn as sns\n",
    "import re\n",
    "import numpy as np\n",
    "import matplotlib as mpl\n",
    "import matplotlib.pyplot as plt\n",
    "import plotly.graph_objects as go\n",
    "import plotly.express as px\n",
    "import chart_studio\n",
    "import chart_studio.plotly as py\n",
    "import unidecode as ud"
   ]
  },
  {
   "cell_type": "code",
   "execution_count": 24,
   "metadata": {},
   "outputs": [],
   "source": [
    "pd.set_option('display.max_rows', 300)\n",
    "pd.set_option('display.width', 5000)"
   ]
  },
  {
   "cell_type": "code",
   "execution_count": 25,
   "metadata": {},
   "outputs": [],
   "source": [
    "import chardet\n",
    "def get_encoding_type(csv_path):\n",
    "    rawdata = open(csv_path, 'rb').read()\n",
    "    result = chardet.detect(rawdata)\n",
    "    return result.get('encoding')"
   ]
  },
  {
   "cell_type": "code",
   "execution_count": 26,
   "metadata": {},
   "outputs": [],
   "source": [
    "data = pd.read_csv(\"properati.csv\", encoding=\"iso-8859-1\")"
   ]
  },
  {
   "cell_type": "code",
   "execution_count": 27,
   "metadata": {},
   "outputs": [],
   "source": [
    "#Creo una copia del DF\n",
    "data_clean = data.copy(deep=True)"
   ]
  },
  {
   "cell_type": "code",
   "execution_count": 28,
   "metadata": {},
   "outputs": [],
   "source": [
    "#Columnas que son string\n",
    "columnas_str = ['operation', 'property_type', 'place_name', 'place_with_parent_names', 'country_name', 'state_name', 'description', 'title']"
   ]
  },
  {
   "cell_type": "code",
   "execution_count": 29,
   "metadata": {},
   "outputs": [],
   "source": [
    "#Le quito los espacios en blanco\n",
    "for columna in columnas_str:\n",
    "    data_clean[columna] = data_clean[columna].str.strip()"
   ]
  },
  {
   "cell_type": "markdown",
   "metadata": {},
   "source": [
    "<span style=\"font-size:24px\">OPERACION<span>"
   ]
  },
  {
   "cell_type": "code",
   "execution_count": 30,
   "metadata": {},
   "outputs": [
    {
     "data": {
      "text/plain": [
       "0"
      ]
     },
     "execution_count": 30,
     "metadata": {},
     "output_type": "execute_result"
    }
   ],
   "source": [
    "#BUSCAR NULOS\n",
    "data_clean[\"property_type\"].isnull().sum()"
   ]
  },
  {
   "cell_type": "code",
   "execution_count": 31,
   "metadata": {},
   "outputs": [],
   "source": [
    "#Expresión regular para buscar venta o alquiler\n",
    "regex = re.compile(\"(venta)|(alquiler)\", flags = re.IGNORECASE)"
   ]
  },
  {
   "cell_type": "code",
   "execution_count": 32,
   "metadata": {},
   "outputs": [
    {
     "data": {
      "text/plain": [
       "Venta       4624\n",
       "Alquiler     101\n",
       "Name: Operacion_Description, dtype: int64"
      ]
     },
     "execution_count": 32,
     "metadata": {},
     "output_type": "execute_result"
    }
   ],
   "source": [
    "#Buscar Venta o Alquiler en description\n",
    "regexOperacionesDescription = data_clean.description.apply(lambda x: regex.search(str(x)))\n",
    "dfVentasDescription = regexOperacionesDescription.apply(lambda x: np.NaN if x is None else x.group(0))\n",
    "\n",
    "#Normalizar\n",
    "dfVentasDescription[dfVentasDescription.notnull()].unique()\n",
    "dfVentasDescription.replace([\"VENTA\", \"venta\"], \"Venta\", inplace=True)\n",
    "dfVentasDescription.replace([\"alquiler\", \"ALQUILER\"], \"Alquiler\", inplace=True)\n",
    "dfVentasDescription[dfVentasDescription.notnull()].unique()\n",
    "\n",
    "#Crear columna Operacion\n",
    "data_clean[\"Operacion_Description\"] = dfVentasDescription\n",
    "data_clean[\"Operacion_Description\"].value_counts()"
   ]
  },
  {
   "cell_type": "code",
   "execution_count": 33,
   "metadata": {},
   "outputs": [
    {
     "data": {
      "text/plain": [
       "Venta       6523\n",
       "Alquiler      10\n",
       "Name: Operacion_Title, dtype: int64"
      ]
     },
     "execution_count": 33,
     "metadata": {},
     "output_type": "execute_result"
    }
   ],
   "source": [
    "#Buscar Venta o Alquiler en title\n",
    "regexOperacionesTitle = data_clean.title.apply(lambda x: regex.search(str(x)))\n",
    "dfVentasTitle = regexOperacionesTitle.apply(lambda x: np.NaN if x is None else x.group(0))\n",
    "\n",
    "#Normalizar\n",
    "dfVentasTitle[dfVentasTitle.notnull()].unique()\n",
    "dfVentasTitle.replace([\"VENTA\", \"venta\"], \"Venta\", inplace=True)\n",
    "dfVentasTitle.replace([\"alquiler\", \"ALQUILER\"], \"Alquiler\", inplace=True)\n",
    "dfVentasTitle[dfVentasTitle.notnull()].unique()\n",
    "\n",
    "#Crear columna Title\n",
    "data_clean[\"Operacion_Title\"] = dfVentasTitle\n",
    "data_clean[\"Operacion_Title\"].value_counts()"
   ]
  },
  {
   "cell_type": "code",
   "execution_count": 34,
   "metadata": {},
   "outputs": [
    {
     "data": {
      "text/plain": [
       "Venta       12793\n",
       "Alquiler       38\n",
       "Name: Operacion_URL, dtype: int64"
      ]
     },
     "execution_count": 34,
     "metadata": {},
     "output_type": "execute_result"
    }
   ],
   "source": [
    "#Buscar Venta o Alquiler en properati_url\n",
    "regexOperacionesURL = data_clean.properati_url.apply(lambda x: regex.search(str(x)))\n",
    "dfVentasURL = regexOperacionesURL.apply(lambda x: np.NaN if x is None else x.group(0))\n",
    "\n",
    "#Normalizar\n",
    "dfVentasURL[dfVentasURL.notnull()].unique()\n",
    "dfVentasURL.replace([\"VENTA\", \"venta\"], \"Venta\", inplace=True)\n",
    "dfVentasURL.replace([\"alquiler\", \"ALQUILER\"], \"Alquiler\", inplace=True)\n",
    "dfVentasURL[dfVentasURL.notnull()].unique()\n",
    "\n",
    "#Crear columna URL\n",
    "data_clean[\"Operacion_URL\"] = dfVentasURL\n",
    "data_clean[\"Operacion_URL\"].value_counts()"
   ]
  },
  {
   "cell_type": "code",
   "execution_count": 35,
   "metadata": {},
   "outputs": [],
   "source": [
    "#Crear la columna Operacion con Operacion_URL que contempla todos los casos\n",
    "data_clean[\"Operacion\"] = data_clean[\"Operacion_URL\"]"
   ]
  },
  {
   "cell_type": "code",
   "execution_count": 36,
   "metadata": {},
   "outputs": [
    {
     "data": {
      "text/html": [
       "<div>\n",
       "<style scoped>\n",
       "    .dataframe tbody tr th:only-of-type {\n",
       "        vertical-align: middle;\n",
       "    }\n",
       "\n",
       "    .dataframe tbody tr th {\n",
       "        vertical-align: top;\n",
       "    }\n",
       "\n",
       "    .dataframe thead tr th {\n",
       "        text-align: left;\n",
       "    }\n",
       "\n",
       "    .dataframe thead tr:last-of-type th {\n",
       "        text-align: right;\n",
       "    }\n",
       "</style>\n",
       "<table border=\"1\" class=\"dataframe\">\n",
       "  <thead>\n",
       "    <tr>\n",
       "      <th></th>\n",
       "      <th colspan=\"2\" halign=\"left\">price_aprox_usd</th>\n",
       "    </tr>\n",
       "    <tr>\n",
       "      <th></th>\n",
       "      <th>min</th>\n",
       "      <th>max</th>\n",
       "    </tr>\n",
       "    <tr>\n",
       "      <th>property_type</th>\n",
       "      <th></th>\n",
       "      <th></th>\n",
       "    </tr>\n",
       "  </thead>\n",
       "  <tbody>\n",
       "    <tr>\n",
       "      <th>PH</th>\n",
       "      <td>14020.91</td>\n",
       "      <td>2750000.0</td>\n",
       "    </tr>\n",
       "    <tr>\n",
       "      <th>apartment</th>\n",
       "      <td>5000.00</td>\n",
       "      <td>4000000.0</td>\n",
       "    </tr>\n",
       "    <tr>\n",
       "      <th>house</th>\n",
       "      <td>7010.45</td>\n",
       "      <td>11000000.0</td>\n",
       "    </tr>\n",
       "    <tr>\n",
       "      <th>store</th>\n",
       "      <td>8412.55</td>\n",
       "      <td>4600000.0</td>\n",
       "    </tr>\n",
       "  </tbody>\n",
       "</table>\n",
       "</div>"
      ],
      "text/plain": [
       "              price_aprox_usd            \n",
       "                          min         max\n",
       "property_type                            \n",
       "PH                   14020.91   2750000.0\n",
       "apartment             5000.00   4000000.0\n",
       "house                 7010.45  11000000.0\n",
       "store                 8412.55   4600000.0"
      ]
     },
     "execution_count": 36,
     "metadata": {},
     "output_type": "execute_result"
    }
   ],
   "source": [
    "#Precios mínimos y máximos para alquiler\n",
    "data_clean[data_clean.price_aprox_usd > 0].filter(items=[\"property_type\", \"price_aprox_usd\"]).groupby(by=\"property_type\").agg(['min', 'max'])"
   ]
  },
  {
   "cell_type": "code",
   "execution_count": 37,
   "metadata": {},
   "outputs": [
    {
     "data": {
      "text/html": [
       "<div>\n",
       "<style scoped>\n",
       "    .dataframe tbody tr th:only-of-type {\n",
       "        vertical-align: middle;\n",
       "    }\n",
       "\n",
       "    .dataframe tbody tr th {\n",
       "        vertical-align: top;\n",
       "    }\n",
       "\n",
       "    .dataframe thead th {\n",
       "        text-align: right;\n",
       "    }\n",
       "</style>\n",
       "<table border=\"1\" class=\"dataframe\">\n",
       "  <thead>\n",
       "    <tr style=\"text-align: right;\">\n",
       "      <th></th>\n",
       "      <th>price_aprox_usd</th>\n",
       "      <th>description</th>\n",
       "    </tr>\n",
       "  </thead>\n",
       "  <tbody>\n",
       "    <tr>\n",
       "      <th>7440</th>\n",
       "      <td>7010.45</td>\n",
       "      <td>EXCELENTE CABAÃA 3 DORM, 2 BAÃOS, PARQUE, A ...</td>\n",
       "    </tr>\n",
       "    <tr>\n",
       "      <th>9665</th>\n",
       "      <td>9534.22</td>\n",
       "      <td>CODIGO: 7 ubicado en: Juana Manuela Gorritti -...</td>\n",
       "    </tr>\n",
       "    <tr>\n",
       "      <th>9761</th>\n",
       "      <td>0.00</td>\n",
       "      <td>Casa en Venta de 2 dorm. en Armenia</td>\n",
       "    </tr>\n",
       "    <tr>\n",
       "      <th>12372</th>\n",
       "      <td>8412.55</td>\n",
       "      <td>FRACCION DE TERRENO AL FONDOA SUBDIVIDIR. AL F...</td>\n",
       "    </tr>\n",
       "  </tbody>\n",
       "</table>\n",
       "</div>"
      ],
      "text/plain": [
       "       price_aprox_usd                                        description\n",
       "7440           7010.45  EXCELENTE CABAÃA 3 DORM, 2 BAÃOS, PARQUE, A ...\n",
       "9665           9534.22  CODIGO: 7 ubicado en: Juana Manuela Gorritti -...\n",
       "9761              0.00                Casa en Venta de 2 dorm. en Armenia\n",
       "12372          8412.55  FRACCION DE TERRENO AL FONDOA SUBDIVIDIR. AL F..."
      ]
     },
     "execution_count": 37,
     "metadata": {},
     "output_type": "execute_result"
    }
   ],
   "source": [
    "#Revisar los casos con precios menores a 10.000 para ver que no sean alquileres\n",
    "data_clean[(data_clean.property_type == \"house\") & (data_clean.price_aprox_usd < 10000)].filter(items=[\"price_aprox_usd\", \"description\"])"
   ]
  },
  {
   "cell_type": "code",
   "execution_count": 38,
   "metadata": {},
   "outputs": [
    {
     "data": {
      "text/html": [
       "<div>\n",
       "<style scoped>\n",
       "    .dataframe tbody tr th:only-of-type {\n",
       "        vertical-align: middle;\n",
       "    }\n",
       "\n",
       "    .dataframe tbody tr th {\n",
       "        vertical-align: top;\n",
       "    }\n",
       "\n",
       "    .dataframe thead th {\n",
       "        text-align: right;\n",
       "    }\n",
       "</style>\n",
       "<table border=\"1\" class=\"dataframe\">\n",
       "  <thead>\n",
       "    <tr style=\"text-align: right;\">\n",
       "      <th></th>\n",
       "      <th>price_aprox_usd</th>\n",
       "      <th>description</th>\n",
       "    </tr>\n",
       "  </thead>\n",
       "  <tbody>\n",
       "    <tr>\n",
       "      <th>4399</th>\n",
       "      <td>5000.00</td>\n",
       "      <td>Corredor Responsable: Mauro Marvisi - CMCPSI 5...</td>\n",
       "    </tr>\n",
       "    <tr>\n",
       "      <th>6720</th>\n",
       "      <td>5608.31</td>\n",
       "      <td>BV Rondeau / Nancen: A metros del Shoping Port...</td>\n",
       "    </tr>\n",
       "  </tbody>\n",
       "</table>\n",
       "</div>"
      ],
      "text/plain": [
       "      price_aprox_usd                                        description\n",
       "4399          5000.00  Corredor Responsable: Mauro Marvisi - CMCPSI 5...\n",
       "6720          5608.31  BV Rondeau / Nancen: A metros del Shoping Port..."
      ]
     },
     "execution_count": 38,
     "metadata": {},
     "output_type": "execute_result"
    }
   ],
   "source": [
    "#Revisar los casos con precios menores a 10.000 para ver que no sean alquileres\n",
    "data_clean[(data_clean.property_type == \"apartment\") & (data_clean.price_aprox_usd < 10000)].filter(items=[\"price_aprox_usd\", \"description\"])"
   ]
  },
  {
   "cell_type": "code",
   "execution_count": 39,
   "metadata": {},
   "outputs": [
    {
     "data": {
      "text/html": [
       "<div>\n",
       "<style scoped>\n",
       "    .dataframe tbody tr th:only-of-type {\n",
       "        vertical-align: middle;\n",
       "    }\n",
       "\n",
       "    .dataframe tbody tr th {\n",
       "        vertical-align: top;\n",
       "    }\n",
       "\n",
       "    .dataframe thead th {\n",
       "        text-align: right;\n",
       "    }\n",
       "</style>\n",
       "<table border=\"1\" class=\"dataframe\">\n",
       "  <thead>\n",
       "    <tr style=\"text-align: right;\">\n",
       "      <th></th>\n",
       "      <th>price_aprox_usd</th>\n",
       "      <th>description</th>\n",
       "    </tr>\n",
       "  </thead>\n",
       "  <tbody>\n",
       "    <tr>\n",
       "      <th>836</th>\n",
       "      <td>8412.55</td>\n",
       "      <td>Venta de Negocio  en Tolosa, La Plata116 entre...</td>\n",
       "    </tr>\n",
       "  </tbody>\n",
       "</table>\n",
       "</div>"
      ],
      "text/plain": [
       "     price_aprox_usd                                        description\n",
       "836          8412.55  Venta de Negocio  en Tolosa, La Plata116 entre..."
      ]
     },
     "execution_count": 39,
     "metadata": {},
     "output_type": "execute_result"
    }
   ],
   "source": [
    "#Revisar los casos con precios menores a 10.000 para ver que no sean alquileres\n",
    "data_clean[(data_clean.property_type == \"store\") & (data_clean.price_aprox_usd < 10000)].filter(items=[\"price_aprox_usd\", \"description\"])"
   ]
  }
 ],
 "metadata": {
  "kernelspec": {
   "display_name": "Python 3",
   "language": "python",
   "name": "python3"
  },
  "language_info": {
   "codemirror_mode": {
    "name": "ipython",
    "version": 3
   },
   "file_extension": ".py",
   "mimetype": "text/x-python",
   "name": "python",
   "nbconvert_exporter": "python",
   "pygments_lexer": "ipython3",
   "version": "3.7.7"
  }
 },
 "nbformat": 4,
 "nbformat_minor": 4
}
