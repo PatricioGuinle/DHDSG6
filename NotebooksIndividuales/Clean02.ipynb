{
 "cells": [
  {
   "cell_type": "code",
   "execution_count": 1,
   "metadata": {},
   "outputs": [
    {
     "name": "stdout",
     "output_type": "stream",
     "text": [
      "default checking\n",
      "Running command `conda list`... ok\n",
      "jupyterlab=1.2.6 already installed\n",
      "pandas=1.0.3 already installed\n",
      "matplotlib=2.2.2 already installed\n",
      "bokeh=2.0.0 already installed\n",
      "seaborn=0.10.0 already installed\n",
      "ipywidgets=7.5.1 already installed\n",
      "pytest=5.3.4 already installed\n",
      "chardet=3.0.4 already installed\n",
      "psutil=5.7.0 already installed\n",
      "scipy=1.4.1 already installed\n",
      "statsmodels=0.11.0 already installed\n",
      "scikit-learn=0.22.1 already installed\n",
      "xlrd=1.2.0 already installed\n",
      "plotly=4.6.0 already installed\n",
      "chart-studio=1.1.0 already installed\n",
      "plotly-orca=1.3.1 already installed\n",
      "Running command `conda install --yes unicodedata2`... ok\n",
      "Collecting package metadata (current_repodata.json): ...working... done\n",
      "Solving environment: ...working... done\n",
      "\n",
      "# All requested packages already installed.\n",
      "\n",
      "\n",
      "Importando librerías ...\n",
      "Las librerías has sido importadas con éxito\n"
     ]
    }
   ],
   "source": [
    "# initial setup\n",
    "try:\n",
    "    # settings colab:\n",
    "    import google.colab\n",
    "        \n",
    "except ModuleNotFoundError:    \n",
    "    # settings local:\n",
    "    %run \"common/0_notebooks_base_setup.py\""
   ]
  },
  {
   "cell_type": "code",
   "execution_count": 2,
   "metadata": {},
   "outputs": [],
   "source": [
    "data_clean = pd.read_csv(\"CleanCSV/Clean01_TipoOperacion.csv\")"
   ]
  },
  {
   "cell_type": "markdown",
   "metadata": {},
   "source": [
    "<hr id=\"Dummies\">\n",
    "<h2 style=\"color: lightblue\">VARIABLES DUMMIE Y SUPERFICIE</h2>"
   ]
  },
  {
   "cell_type": "markdown",
   "metadata": {},
   "source": [
    "### Generamos una lista de palabras claves obtenidas de la columna 'properati_url' ordenadas por cantidad de repeticiones"
   ]
  },
  {
   "cell_type": "code",
   "execution_count": 3,
   "metadata": {},
   "outputs": [],
   "source": [
    "pattern = r'http:\\/\\/www\\.properati.com.ar\\/\\w{6}([\\w*-]*)'\n",
    "pattern_regex = re.compile(pattern)\n",
    "result_match = data_clean['properati_url'].apply(lambda x: pattern_regex.match(x.lower().replace('-','_')))\n",
    "data_clean['url_clean'] = result_match.apply(lambda x: x.group(1).replace('_',' '))\n",
    "result =  result_match.apply(lambda x: x.group(1).split('_'))\n",
    "\n",
    "list_words = []\n",
    "\n",
    "def generate_words_series(arr):\n",
    "    for x in arr:\n",
    "        list_words.append(str(x))\n",
    "    return\n",
    "\n",
    "result.apply(generate_words_series)\n",
    "\n",
    "serie = pd.Series(list_words)\n",
    "key_words = serie.value_counts()"
   ]
  },
  {
   "cell_type": "code",
   "execution_count": 4,
   "metadata": {},
   "outputs": [
    {
     "data": {
      "text/plain": [
       "venta            121119\n",
       "departamento      71019\n",
       "garage            56620\n",
       "lavadero          44034\n",
       "balcon            42288\n",
       "propiedades       41507\n",
       "casa              40537\n",
       "parrilla          33381\n",
       "piscina           32148\n",
       "luminoso          31865\n",
       "suite             27102\n",
       "placard           26145\n",
       "terraza           25101\n",
       "toilette          22841\n",
       "subte             21984\n",
       "linea             21824\n",
       "patio             21169\n",
       "vestidor          18011\n",
       "jardin            17173\n",
       "quincho           12850\n",
       "aire              12767\n",
       "acondicionado     12763\n",
       "inmobiliaria      12184\n",
       "sum               11665\n",
       "dependencias      11316\n",
       "max               11260\n",
       "re                11258\n",
       "cordoba           11195\n",
       "amenities         10607\n",
       "baulera           10512\n",
       "estrenar          10383\n",
       "vista             10309\n",
       "de                 9768\n",
       "san                9556\n",
       "gimnasio           9363\n",
       "lujoso             9251\n",
       "plata              9215\n",
       "del                9180\n",
       "rosario            8607\n",
       "villa              8473\n",
       "dtype: int64"
      ]
     },
     "metadata": {},
     "output_type": "display_data"
    }
   ],
   "source": [
    "display(key_words.head(40))"
   ]
  },
  {
   "cell_type": "markdown",
   "metadata": {},
   "source": [
    "### a partir de estas palabras claves identificamos las que nos pueden servir para:\n",
    "\n",
    "### - generar variables dummy:\n",
    "* garage\n",
    "* lavadero\n",
    "* balcon  \n",
    "* casa\n",
    "* parrilla\n",
    "* piscina\n",
    "* terraza\n",
    "* patio\n",
    "* jardin\n",
    "* quincho\n",
    "* aire acondicionado\n",
    "* amenities\n",
    "* estrenar\n",
    "* gimnasio\n",
    "\n",
    "opcionales..\n",
    "* baulera\n",
    "* suite\n",
    "* subte - linea\n",
    "* vestidor\n",
    "\n",
    "### - completar datos faltantes\n",
    "* venta\n",
    "* departamento"
   ]
  },
  {
   "cell_type": "markdown",
   "metadata": {},
   "source": [
    "\n",
    "## generamos columnas dummy con la información de la URL\n"
   ]
  },
  {
   "cell_type": "code",
   "execution_count": 5,
   "metadata": {},
   "outputs": [],
   "source": [
    "def get_dummy_url_series(pattern):\n",
    "    pattern_regex = re.compile(pattern)\n",
    "    result_match = data_clean['url_clean'].apply(lambda x: pattern_regex.search(x))\n",
    "    result = result_match.apply(lambda x: 1 if x != None else 0)\n",
    "    result.sum()\n",
    "    return result"
   ]
  },
  {
   "cell_type": "code",
   "execution_count": 6,
   "metadata": {},
   "outputs": [],
   "source": [
    "list_columnas_dummy = ['garage|cochera', 'lavadero', 'balcon', 'parrilla', 'piscina', 'terraza', 'patio', 'jardin', 'quincho', 'aire_acondicionado', 'amenities', 'estrenar', 'gimnasio', 'subte', 'baulera']\n",
    "for column_name in list_columnas_dummy:\n",
    "    column_values = get_dummy_url_series(column_name)\n",
    "    data_clean['url_'+ column_name] = column_values"
   ]
  },
  {
   "cell_type": "code",
   "execution_count": 7,
   "metadata": {},
   "outputs": [
    {
     "data": {
      "text/html": [
       "<div>\n",
       "<style scoped>\n",
       "    .dataframe tbody tr th:only-of-type {\n",
       "        vertical-align: middle;\n",
       "    }\n",
       "\n",
       "    .dataframe tbody tr th {\n",
       "        vertical-align: top;\n",
       "    }\n",
       "\n",
       "    .dataframe thead th {\n",
       "        text-align: right;\n",
       "    }\n",
       "</style>\n",
       "<table border=\"1\" class=\"dataframe\">\n",
       "  <thead>\n",
       "    <tr style=\"text-align: right;\">\n",
       "      <th></th>\n",
       "      <th>url_clean</th>\n",
       "      <th>url_garage|cochera</th>\n",
       "      <th>url_lavadero</th>\n",
       "      <th>url_balcon</th>\n",
       "      <th>url_parrilla</th>\n",
       "      <th>url_piscina</th>\n",
       "      <th>url_terraza</th>\n",
       "      <th>url_patio</th>\n",
       "      <th>url_jardin</th>\n",
       "      <th>url_quincho</th>\n",
       "      <th>url_aire_acondicionado</th>\n",
       "      <th>url_amenities</th>\n",
       "      <th>url_estrenar</th>\n",
       "      <th>url_gimnasio</th>\n",
       "      <th>url_subte</th>\n",
       "      <th>url_baulera</th>\n",
       "    </tr>\n",
       "  </thead>\n",
       "  <tbody>\n",
       "    <tr>\n",
       "      <th>0</th>\n",
       "      <td>venta ph mataderos lavadero patio inmobiliaria...</td>\n",
       "      <td>0</td>\n",
       "      <td>1</td>\n",
       "      <td>0</td>\n",
       "      <td>0</td>\n",
       "      <td>0</td>\n",
       "      <td>0</td>\n",
       "      <td>1</td>\n",
       "      <td>0</td>\n",
       "      <td>0</td>\n",
       "      <td>0</td>\n",
       "      <td>0</td>\n",
       "      <td>0</td>\n",
       "      <td>0</td>\n",
       "      <td>0</td>\n",
       "      <td>0</td>\n",
       "    </tr>\n",
       "    <tr>\n",
       "      <th>1</th>\n",
       "      <td>venta departamentos la plata balcon lavadero t...</td>\n",
       "      <td>1</td>\n",
       "      <td>1</td>\n",
       "      <td>1</td>\n",
       "      <td>0</td>\n",
       "      <td>0</td>\n",
       "      <td>0</td>\n",
       "      <td>0</td>\n",
       "      <td>0</td>\n",
       "      <td>0</td>\n",
       "      <td>0</td>\n",
       "      <td>0</td>\n",
       "      <td>1</td>\n",
       "      <td>0</td>\n",
       "      <td>0</td>\n",
       "      <td>0</td>\n",
       "    </tr>\n",
       "    <tr>\n",
       "      <th>2</th>\n",
       "      <td>venta departamentos mataderos lavadero placard...</td>\n",
       "      <td>0</td>\n",
       "      <td>1</td>\n",
       "      <td>0</td>\n",
       "      <td>0</td>\n",
       "      <td>0</td>\n",
       "      <td>0</td>\n",
       "      <td>0</td>\n",
       "      <td>0</td>\n",
       "      <td>0</td>\n",
       "      <td>0</td>\n",
       "      <td>0</td>\n",
       "      <td>0</td>\n",
       "      <td>0</td>\n",
       "      <td>0</td>\n",
       "      <td>0</td>\n",
       "    </tr>\n",
       "    <tr>\n",
       "      <th>3</th>\n",
       "      <td>venta ph liniers patio g goffredo</td>\n",
       "      <td>0</td>\n",
       "      <td>0</td>\n",
       "      <td>0</td>\n",
       "      <td>0</td>\n",
       "      <td>0</td>\n",
       "      <td>0</td>\n",
       "      <td>1</td>\n",
       "      <td>0</td>\n",
       "      <td>0</td>\n",
       "      <td>0</td>\n",
       "      <td>0</td>\n",
       "      <td>0</td>\n",
       "      <td>0</td>\n",
       "      <td>0</td>\n",
       "      <td>0</td>\n",
       "    </tr>\n",
       "    <tr>\n",
       "      <th>4</th>\n",
       "      <td>venta departamentos centro cristina pavone neg...</td>\n",
       "      <td>0</td>\n",
       "      <td>0</td>\n",
       "      <td>0</td>\n",
       "      <td>0</td>\n",
       "      <td>0</td>\n",
       "      <td>0</td>\n",
       "      <td>0</td>\n",
       "      <td>0</td>\n",
       "      <td>0</td>\n",
       "      <td>0</td>\n",
       "      <td>0</td>\n",
       "      <td>0</td>\n",
       "      <td>0</td>\n",
       "      <td>0</td>\n",
       "      <td>0</td>\n",
       "    </tr>\n",
       "    <tr>\n",
       "      <th>...</th>\n",
       "      <td>...</td>\n",
       "      <td>...</td>\n",
       "      <td>...</td>\n",
       "      <td>...</td>\n",
       "      <td>...</td>\n",
       "      <td>...</td>\n",
       "      <td>...</td>\n",
       "      <td>...</td>\n",
       "      <td>...</td>\n",
       "      <td>...</td>\n",
       "      <td>...</td>\n",
       "      <td>...</td>\n",
       "      <td>...</td>\n",
       "      <td>...</td>\n",
       "      <td>...</td>\n",
       "      <td>...</td>\n",
       "    </tr>\n",
       "    <tr>\n",
       "      <th>121215</th>\n",
       "      <td>venta departamento belgrano balcon suite parri...</td>\n",
       "      <td>1</td>\n",
       "      <td>0</td>\n",
       "      <td>1</td>\n",
       "      <td>1</td>\n",
       "      <td>1</td>\n",
       "      <td>0</td>\n",
       "      <td>0</td>\n",
       "      <td>0</td>\n",
       "      <td>1</td>\n",
       "      <td>0</td>\n",
       "      <td>0</td>\n",
       "      <td>0</td>\n",
       "      <td>0</td>\n",
       "      <td>0</td>\n",
       "      <td>0</td>\n",
       "    </tr>\n",
       "    <tr>\n",
       "      <th>121216</th>\n",
       "      <td>venta casa beccar suite hidromasaje jardin par...</td>\n",
       "      <td>1</td>\n",
       "      <td>0</td>\n",
       "      <td>0</td>\n",
       "      <td>1</td>\n",
       "      <td>1</td>\n",
       "      <td>0</td>\n",
       "      <td>0</td>\n",
       "      <td>1</td>\n",
       "      <td>1</td>\n",
       "      <td>0</td>\n",
       "      <td>0</td>\n",
       "      <td>0</td>\n",
       "      <td>0</td>\n",
       "      <td>0</td>\n",
       "      <td>0</td>\n",
       "    </tr>\n",
       "    <tr>\n",
       "      <th>121217</th>\n",
       "      <td>venta departamento villa urquiza holmberg 2300...</td>\n",
       "      <td>1</td>\n",
       "      <td>1</td>\n",
       "      <td>1</td>\n",
       "      <td>1</td>\n",
       "      <td>0</td>\n",
       "      <td>1</td>\n",
       "      <td>0</td>\n",
       "      <td>0</td>\n",
       "      <td>0</td>\n",
       "      <td>0</td>\n",
       "      <td>1</td>\n",
       "      <td>1</td>\n",
       "      <td>0</td>\n",
       "      <td>0</td>\n",
       "      <td>0</td>\n",
       "    </tr>\n",
       "    <tr>\n",
       "      <th>121218</th>\n",
       "      <td>venta departamento plaza colon lavadero lumino...</td>\n",
       "      <td>0</td>\n",
       "      <td>1</td>\n",
       "      <td>0</td>\n",
       "      <td>0</td>\n",
       "      <td>0</td>\n",
       "      <td>0</td>\n",
       "      <td>0</td>\n",
       "      <td>0</td>\n",
       "      <td>0</td>\n",
       "      <td>0</td>\n",
       "      <td>0</td>\n",
       "      <td>0</td>\n",
       "      <td>0</td>\n",
       "      <td>0</td>\n",
       "      <td>0</td>\n",
       "    </tr>\n",
       "    <tr>\n",
       "      <th>121219</th>\n",
       "      <td>venta departamento capital federal baulera lav...</td>\n",
       "      <td>0</td>\n",
       "      <td>1</td>\n",
       "      <td>0</td>\n",
       "      <td>0</td>\n",
       "      <td>0</td>\n",
       "      <td>0</td>\n",
       "      <td>0</td>\n",
       "      <td>0</td>\n",
       "      <td>0</td>\n",
       "      <td>0</td>\n",
       "      <td>0</td>\n",
       "      <td>0</td>\n",
       "      <td>0</td>\n",
       "      <td>0</td>\n",
       "      <td>1</td>\n",
       "    </tr>\n",
       "  </tbody>\n",
       "</table>\n",
       "<p>121220 rows × 16 columns</p>\n",
       "</div>"
      ],
      "text/plain": [
       "                                                url_clean  url_garage|cochera  url_lavadero  url_balcon  url_parrilla  url_piscina  url_terraza  url_patio  url_jardin  url_quincho  url_aire_acondicionado  url_amenities  url_estrenar  url_gimnasio  url_subte  url_baulera\n",
       "0       venta ph mataderos lavadero patio inmobiliaria...                   0             1           0             0            0            0          1           0            0                       0              0             0             0          0            0\n",
       "1       venta departamentos la plata balcon lavadero t...                   1             1           1             0            0            0          0           0            0                       0              0             1             0          0            0\n",
       "2       venta departamentos mataderos lavadero placard...                   0             1           0             0            0            0          0           0            0                       0              0             0             0          0            0\n",
       "3                       venta ph liniers patio g goffredo                   0             0           0             0            0            0          1           0            0                       0              0             0             0          0            0\n",
       "4       venta departamentos centro cristina pavone neg...                   0             0           0             0            0            0          0           0            0                       0              0             0             0          0            0\n",
       "...                                                   ...                 ...           ...         ...           ...          ...          ...        ...         ...          ...                     ...            ...           ...           ...        ...          ...\n",
       "121215  venta departamento belgrano balcon suite parri...                   1             0           1             1            1            0          0           0            1                       0              0             0             0          0            0\n",
       "121216  venta casa beccar suite hidromasaje jardin par...                   1             0           0             1            1            0          0           1            1                       0              0             0             0          0            0\n",
       "121217  venta departamento villa urquiza holmberg 2300...                   1             1           1             1            0            1          0           0            0                       0              1             1             0          0            0\n",
       "121218  venta departamento plaza colon lavadero lumino...                   0             1           0             0            0            0          0           0            0                       0              0             0             0          0            0\n",
       "121219  venta departamento capital federal baulera lav...                   0             1           0             0            0            0          0           0            0                       0              0             0             0          0            1\n",
       "\n",
       "[121220 rows x 16 columns]"
      ]
     },
     "execution_count": 7,
     "metadata": {},
     "output_type": "execute_result"
    }
   ],
   "source": [
    "data_clean[data_clean.columns[-16:]] "
   ]
  },
  {
   "cell_type": "markdown",
   "metadata": {},
   "source": [
    "## Ahora hacemos lo mismo con la columna 'descripcion'"
   ]
  },
  {
   "cell_type": "code",
   "execution_count": 8,
   "metadata": {},
   "outputs": [],
   "source": [
    "pattern_desc = r'(\\w\\w\\w\\w\\w*)'\n",
    "pattern_desc_regex = re.compile(pattern_desc, flags=re.IGNORECASE )\n",
    "result_match = data_clean['description'].apply(lambda x: re.finditer(pattern_desc_regex, str(x).lower()))\n",
    "\n",
    "list_words_desc = []\n",
    "\n",
    "def generate_words_series_desc(matches):\n",
    "    for matchNum, match in enumerate(matches, start=1):\n",
    "        for groupNum in range(0, len(match.groups())):\n",
    "            groupNum = groupNum + 1\n",
    "            \n",
    "            cadena = unicodedata.normalize('NFKD', match.group(groupNum)).encode('ASCII', 'ignore') \n",
    "            \n",
    "            list_words_desc.append(cadena)\n",
    "    return\n",
    "\n",
    "result =  result_match.apply(generate_words_series_desc)\n",
    "\n",
    "serie_desc = pd.Series(list_words_desc)\n",
    "key_words_desc = serie_desc.value_counts()"
   ]
  },
  {
   "cell_type": "code",
   "execution_count": 9,
   "metadata": {},
   "outputs": [
    {
     "data": {
      "text/plain": [
       "b'cocina'          110088\n",
       "b'bano'             98520\n",
       "b'comedor'          96205\n",
       "b'para'             85190\n",
       "b'living'           70516\n",
       "b'dormitorios'      67240\n",
       "b'ambientes'        56062\n",
       "b'dormitorio'       53025\n",
       "b'piso'             50769\n",
       "b'completo'         49287\n",
       "b'departamento'     48517\n",
       "b'balcon'           47086\n",
       "b'pisos'            45367\n",
       "b'planta'           44549\n",
       "b'frente'           43095\n",
       "b'casa'             39426\n",
       "b'lavadero'         39128\n",
       "b'excelente'        37242\n",
       "b'amplio'           36923\n",
       "b'edificio'         36296\n",
       "b'venta'            35989\n",
       "b'parrilla'         33136\n",
       "b'cochera'          31810\n",
       "b'cuenta'           31541\n",
       "b'placard'          31247\n",
       "b'suite'            31146\n",
       "b'sobre'            28899\n",
       "b'terraza'          28332\n",
       "b'patio'            25833\n",
       "b'vista'            24966\n",
       "b'mesada'           24908\n",
       "b'gran'             24171\n",
       "b'propiedad'        23457\n",
       "b'baja'             23351\n",
       "b'ubicado'          22884\n",
       "b'barrio'           22826\n",
       "b'esta'             22535\n",
       "b'zona'             22516\n",
       "b'servicio'         22140\n",
       "b'toilette'         22110\n",
       "dtype: int64"
      ]
     },
     "metadata": {},
     "output_type": "display_data"
    }
   ],
   "source": [
    "display(key_words_desc.head(40))"
   ]
  },
  {
   "cell_type": "markdown",
   "metadata": {},
   "source": [
    "### Palabras para generar variables dummy\n",
    "* balcon\n",
    "* frente\n",
    "* parrilla\n",
    "* cochera\n",
    "* terraza\n",
    "\n",
    "\n",
    "Opcionales:\n",
    "suite\n",
    "\n",
    "### Palabras para completar datos faltantes\n",
    "* dormitorio/s\n",
    "* ambientes\n",
    "* piso - planta\n",
    "* departamento - casa - edificio\n",
    "* venta\n",
    "* ubicado - barrio"
   ]
  },
  {
   "cell_type": "markdown",
   "metadata": {},
   "source": [
    "### Creamos una funcion que nos permita:\n",
    "\n",
    "* Observar el contexto de una palabra clave seleccionada dentro de la descripcion\n",
    "* Obtener un set de indices de filas que en su descripcion contienen esa palabra\n",
    "* Determinar cuantas filas queremos recorrer"
   ]
  },
  {
   "cell_type": "code",
   "execution_count": 10,
   "metadata": {},
   "outputs": [],
   "source": [
    "def generate_context_df(word, column, rows=5000, has_context=True, context_words_before=4, context_words_after=4):\n",
    "    global data_index\n",
    "    if has_context is True:\n",
    "        pattern_context = r'(?P<context>(\\w*\\W?\\s\\W?){0,' + str(context_words_before) + '}' + word + '(\\w*\\W?\\s\\W?){0,' + str(context_words_after) + '})'\n",
    "    else:    \n",
    "        pattern_context = word\n",
    "\n",
    "    pattern_context_regex = re.compile(pattern_context, flags=re.IGNORECASE )\n",
    "    result_match = data_clean[column].apply(lambda x: re.finditer(pattern_context_regex, str(x).lower()))\n",
    "\n",
    "    list_words_desc_context = []\n",
    "    list_words_desc_index = []\n",
    "    data_index = 0\n",
    "    df_context = pd.DataFrame()\n",
    "        \n",
    "    def generate_context_df(matches):\n",
    "        global data_index\n",
    "        for matchNum, match in enumerate(matches, start=1):  \n",
    "            if has_context is True:\n",
    "                context = match.group('context')     \n",
    "                list_words_desc_context.append(context)\n",
    "            list_words_desc_index.append(data_index)\n",
    "        data_index += 1\n",
    "        return\n",
    "    \n",
    "    if rows == 0:\n",
    "        result = result_match.apply(generate_context_df)\n",
    "    else:\n",
    "        result = result_match[0:rows].apply(generate_context_df)\n",
    "        \n",
    "    if has_context is True:\n",
    "        df_context['context'] = list_words_desc_context\n",
    "        \n",
    "    df_context['index'] = list_words_desc_index\n",
    "    print('cantidad de matches: ', df_context.shape[0], ' en ', rows if rows != 0 else 'TODOS los' , ' registros buscados')\n",
    "    return df_context"
   ]
  },
  {
   "cell_type": "markdown",
   "metadata": {},
   "source": [
    "### Comprobamos su funcionamiento solicitando 5000 registros de la potencial variable dummy 'garage|cochera'"
   ]
  },
  {
   "cell_type": "code",
   "execution_count": 11,
   "metadata": {},
   "outputs": [
    {
     "name": "stdout",
     "output_type": "stream",
     "text": [
      "cantidad de matches:  2726  en  5000  registros buscados\n"
     ]
    },
    {
     "data": {
      "text/html": [
       "<div>\n",
       "<style scoped>\n",
       "    .dataframe tbody tr th:only-of-type {\n",
       "        vertical-align: middle;\n",
       "    }\n",
       "\n",
       "    .dataframe tbody tr th {\n",
       "        vertical-align: top;\n",
       "    }\n",
       "\n",
       "    .dataframe thead th {\n",
       "        text-align: right;\n",
       "    }\n",
       "</style>\n",
       "<table border=\"1\" class=\"dataframe\">\n",
       "  <thead>\n",
       "    <tr style=\"text-align: right;\">\n",
       "      <th></th>\n",
       "      <th>context</th>\n",
       "      <th>index</th>\n",
       "    </tr>\n",
       "  </thead>\n",
       "  <tbody>\n",
       "    <tr>\n",
       "      <th>0</th>\n",
       "      <td>cochera semicubierta.</td>\n",
       "      <td>1</td>\n",
       "    </tr>\n",
       "    <tr>\n",
       "      <th>1</th>\n",
       "      <td>cochera</td>\n",
       "      <td>10</td>\n",
       "    </tr>\n",
       "    <tr>\n",
       "      <th>2</th>\n",
       "      <td>cochera y jardín propio,</td>\n",
       "      <td>15</td>\n",
       "    </tr>\n",
       "    <tr>\n",
       "      <th>3</th>\n",
       "      <td>cochera fija subterranea y</td>\n",
       "      <td>17</td>\n",
       "    </tr>\n",
       "    <tr>\n",
       "      <th>4</th>\n",
       "      <td>cochera. en cumplimiento de</td>\n",
       "      <td>23</td>\n",
       "    </tr>\n",
       "    <tr>\n",
       "      <th>5</th>\n",
       "      <td>cochera. entrega marzo</td>\n",
       "      <td>24</td>\n",
       "    </tr>\n",
       "    <tr>\n",
       "      <th>6</th>\n",
       "      <td>cochera</td>\n",
       "      <td>24</td>\n",
       "    </tr>\n",
       "    <tr>\n",
       "      <th>7</th>\n",
       "      <td>cochera. entrega marzo</td>\n",
       "      <td>25</td>\n",
       "    </tr>\n",
       "    <tr>\n",
       "      <th>8</th>\n",
       "      <td>cochera</td>\n",
       "      <td>25</td>\n",
       "    </tr>\n",
       "    <tr>\n",
       "      <th>9</th>\n",
       "      <td>cochera. entrega marzo</td>\n",
       "      <td>28</td>\n",
       "    </tr>\n",
       "  </tbody>\n",
       "</table>\n",
       "</div>"
      ],
      "text/plain": [
       "                        context  index\n",
       "0        cochera semicubierta.       1\n",
       "1                       cochera     10\n",
       "2     cochera y jardín propio,      15\n",
       "3   cochera fija subterranea y      17\n",
       "4  cochera. en cumplimiento de      23\n",
       "5       cochera. entrega marzo      24\n",
       "6                       cochera     24\n",
       "7       cochera. entrega marzo      25\n",
       "8                       cochera     25\n",
       "9       cochera. entrega marzo      28"
      ]
     },
     "execution_count": 11,
     "metadata": {},
     "output_type": "execute_result"
    }
   ],
   "source": [
    "generate_context_df(\"garage|cochera\", \"description\", 5000, True).head(10)"
   ]
  },
  {
   "cell_type": "markdown",
   "metadata": {},
   "source": [
    "### Creamos una funcion que nos permite generar variables dummies a partir de palabras clave"
   ]
  },
  {
   "cell_type": "code",
   "execution_count": 12,
   "metadata": {},
   "outputs": [],
   "source": [
    "def create_dummy(data, data_dummy, column_name):\n",
    "    data_dummy.drop_duplicates(inplace=True)\n",
    "    col_dummy_name = 'desc_' + column_name.replace(' ','_')\n",
    "    data_dummy[col_dummy_name] = 1\n",
    "    data_dummy[col_dummy_name].astype(int)\n",
    "    data_clean_dummy = pd.merge(data, data_dummy, how='left', left_on='Unnamed: 0', right_on='index')\n",
    "    del data_clean_dummy['index']\n",
    "    data_clean_dummy[col_dummy_name].fillna(0, inplace=True)\n",
    "    print('Col generada: '  + col_dummy_name + ' ' + str(data_dummy.shape[0]))\n",
    "    return data_clean_dummy"
   ]
  },
  {
   "cell_type": "markdown",
   "metadata": {},
   "source": [
    "### Creamos una lista de palabras claves que recorremos utilizando la funcion mencionada anteriormente\n",
    "\n",
    "como resultado vamos a haber agregado a nuestro DataFrame una columna por cada variable dummy"
   ]
  },
  {
   "cell_type": "code",
   "execution_count": 13,
   "metadata": {},
   "outputs": [
    {
     "name": "stdout",
     "output_type": "stream",
     "text": [
      "cantidad de matches:  63489  en  TODOS los  registros buscados\n",
      "Col generada: desc_garage|cochera 50494\n",
      "cantidad de matches:  40637  en  TODOS los  registros buscados\n",
      "Col generada: desc_lavadero 38329\n",
      "cantidad de matches:  19817  en  TODOS los  registros buscados\n",
      "Col generada: desc_balcon 16577\n",
      "cantidad de matches:  38015  en  TODOS los  registros buscados\n",
      "Col generada: desc_parrilla 34037\n",
      "cantidad de matches:  18059  en  TODOS los  registros buscados\n",
      "Col generada: desc_piscina 15247\n",
      "cantidad de matches:  35678  en  TODOS los  registros buscados\n",
      "Col generada: desc_terraza 27509\n",
      "cantidad de matches:  27922  en  TODOS los  registros buscados\n",
      "Col generada: desc_patio 21494\n",
      "cantidad de matches:  9955  en  TODOS los  registros buscados\n",
      "Col generada: desc_jardin 7785\n",
      "cantidad de matches:  14636  en  TODOS los  registros buscados\n",
      "Col generada: desc_quincho 13094\n",
      "cantidad de matches:  0  en  TODOS los  registros buscados\n",
      "Col generada: desc_aire_acondicionado 0\n",
      "cantidad de matches:  12381  en  TODOS los  registros buscados\n",
      "Col generada: desc_amenities 10970\n",
      "cantidad de matches:  11504  en  TODOS los  registros buscados\n",
      "Col generada: desc_estrenar 10611\n",
      "cantidad de matches:  7295  en  TODOS los  registros buscados\n",
      "Col generada: desc_gimnasio 7012\n",
      "cantidad de matches:  8539  en  TODOS los  registros buscados\n",
      "Col generada: desc_subte 7503\n",
      "cantidad de matches:  12131  en  TODOS los  registros buscados\n",
      "Col generada: desc_baulera 10795\n"
     ]
    }
   ],
   "source": [
    "for columna in list_columnas_dummy:\n",
    "    data_dummy = generate_context_df(columna, \"description\", 0, False)\n",
    "    data_clean = create_dummy(data_clean, data_dummy, columna)"
   ]
  },
  {
   "cell_type": "code",
   "execution_count": 14,
   "metadata": {},
   "outputs": [
    {
     "data": {
      "text/html": [
       "<div>\n",
       "<style scoped>\n",
       "    .dataframe tbody tr th:only-of-type {\n",
       "        vertical-align: middle;\n",
       "    }\n",
       "\n",
       "    .dataframe tbody tr th {\n",
       "        vertical-align: top;\n",
       "    }\n",
       "\n",
       "    .dataframe thead th {\n",
       "        text-align: right;\n",
       "    }\n",
       "</style>\n",
       "<table border=\"1\" class=\"dataframe\">\n",
       "  <thead>\n",
       "    <tr style=\"text-align: right;\">\n",
       "      <th></th>\n",
       "      <th>url_baulera</th>\n",
       "      <th>desc_garage|cochera</th>\n",
       "      <th>desc_lavadero</th>\n",
       "      <th>desc_balcon</th>\n",
       "      <th>desc_parrilla</th>\n",
       "      <th>desc_piscina</th>\n",
       "      <th>desc_terraza</th>\n",
       "      <th>desc_patio</th>\n",
       "      <th>desc_jardin</th>\n",
       "      <th>desc_quincho</th>\n",
       "      <th>desc_aire_acondicionado</th>\n",
       "      <th>desc_amenities</th>\n",
       "      <th>desc_estrenar</th>\n",
       "      <th>desc_gimnasio</th>\n",
       "      <th>desc_subte</th>\n",
       "      <th>desc_baulera</th>\n",
       "    </tr>\n",
       "  </thead>\n",
       "  <tbody>\n",
       "    <tr>\n",
       "      <th>0</th>\n",
       "      <td>0</td>\n",
       "      <td>0.0</td>\n",
       "      <td>1.0</td>\n",
       "      <td>0.0</td>\n",
       "      <td>0.0</td>\n",
       "      <td>0.0</td>\n",
       "      <td>0.0</td>\n",
       "      <td>1.0</td>\n",
       "      <td>0.0</td>\n",
       "      <td>0.0</td>\n",
       "      <td>0.0</td>\n",
       "      <td>0.0</td>\n",
       "      <td>0.0</td>\n",
       "      <td>0.0</td>\n",
       "      <td>0.0</td>\n",
       "      <td>0.0</td>\n",
       "    </tr>\n",
       "    <tr>\n",
       "      <th>1</th>\n",
       "      <td>0</td>\n",
       "      <td>1.0</td>\n",
       "      <td>1.0</td>\n",
       "      <td>0.0</td>\n",
       "      <td>0.0</td>\n",
       "      <td>0.0</td>\n",
       "      <td>0.0</td>\n",
       "      <td>0.0</td>\n",
       "      <td>0.0</td>\n",
       "      <td>0.0</td>\n",
       "      <td>0.0</td>\n",
       "      <td>0.0</td>\n",
       "      <td>1.0</td>\n",
       "      <td>0.0</td>\n",
       "      <td>0.0</td>\n",
       "      <td>0.0</td>\n",
       "    </tr>\n",
       "    <tr>\n",
       "      <th>2</th>\n",
       "      <td>0</td>\n",
       "      <td>0.0</td>\n",
       "      <td>1.0</td>\n",
       "      <td>0.0</td>\n",
       "      <td>0.0</td>\n",
       "      <td>0.0</td>\n",
       "      <td>0.0</td>\n",
       "      <td>0.0</td>\n",
       "      <td>0.0</td>\n",
       "      <td>0.0</td>\n",
       "      <td>0.0</td>\n",
       "      <td>0.0</td>\n",
       "      <td>0.0</td>\n",
       "      <td>0.0</td>\n",
       "      <td>0.0</td>\n",
       "      <td>0.0</td>\n",
       "    </tr>\n",
       "  </tbody>\n",
       "</table>\n",
       "</div>"
      ],
      "text/plain": [
       "   url_baulera  desc_garage|cochera  desc_lavadero  desc_balcon  desc_parrilla  desc_piscina  desc_terraza  desc_patio  desc_jardin  desc_quincho  desc_aire_acondicionado  desc_amenities  desc_estrenar  desc_gimnasio  desc_subte  desc_baulera\n",
       "0            0                  0.0            1.0          0.0            0.0           0.0           0.0         1.0          0.0           0.0                      0.0             0.0            0.0            0.0         0.0           0.0\n",
       "1            0                  1.0            1.0          0.0            0.0           0.0           0.0         0.0          0.0           0.0                      0.0             0.0            1.0            0.0         0.0           0.0\n",
       "2            0                  0.0            1.0          0.0            0.0           0.0           0.0         0.0          0.0           0.0                      0.0             0.0            0.0            0.0         0.0           0.0"
      ]
     },
     "execution_count": 14,
     "metadata": {},
     "output_type": "execute_result"
    }
   ],
   "source": [
    "data_clean[data_clean.columns[-16:]].head(3)"
   ]
  },
  {
   "cell_type": "markdown",
   "metadata": {},
   "source": [
    "## corroboramos la relacion entre variables dummy obtenidas con title y description\n",
    "\n",
    "recorremos las columnas buscando el valor de correlación"
   ]
  },
  {
   "cell_type": "code",
   "execution_count": 15,
   "metadata": {},
   "outputs": [
    {
     "name": "stdout",
     "output_type": "stream",
     "text": [
      "garage|cochera:  0.8602882129317675\n",
      "lavadero:  0.8681289024952435\n",
      "balcon:  0.5081233097817958\n",
      "parrilla:  0.9822555938926155\n",
      "piscina:  0.6067186979410569\n",
      "terraza:  0.938134060364859\n",
      "patio:  0.9847387877679887\n",
      "jardin:  0.6237720897463092\n",
      "quincho:  0.9830049594035731\n",
      "aire_acondicionado:  nan\n",
      "amenities:  0.9760022603551674\n",
      "estrenar:  0.9747240900685272\n",
      "gimnasio:  0.8207016867870898\n",
      "subte:  0.3481246803358617\n",
      "baulera:  0.972369268850563\n"
     ]
    }
   ],
   "source": [
    "for col in list_columnas_dummy:\n",
    "    col_name = col.replace(' ','_')\n",
    "    print (col + ': ', data_clean[['desc_' + col_name ,'url_' + col_name]].corr().iloc[1,0])\n",
    "    "
   ]
  },
  {
   "cell_type": "code",
   "execution_count": 16,
   "metadata": {},
   "outputs": [
    {
     "data": {
      "text/plain": [
       "[['garage|cochera', 0.86],\n",
       " ['lavadero', 0.87],\n",
       " ['balcon', 0.51],\n",
       " ['parrilla', 0.98],\n",
       " ['piscina', 0.61],\n",
       " ['terraza', 0.94],\n",
       " ['patio', 0.98],\n",
       " ['jardin', 0.62],\n",
       " ['quincho', 0.98],\n",
       " ['aire_acondicionado', nan],\n",
       " ['amenities', 0.98],\n",
       " ['estrenar', 0.97],\n",
       " ['gimnasio', 0.82],\n",
       " ['subte', 0.35],\n",
       " ['baulera', 0.97]]"
      ]
     },
     "execution_count": 16,
     "metadata": {},
     "output_type": "execute_result"
    }
   ],
   "source": [
    "corr_columns = [ [col, round(data_clean[['desc_' + col.replace(' ','_') ,'url_' + col.replace(' ','_')]].corr().iloc[1,0],2)] for col in list_columnas_dummy]\n",
    "corr_columns"
   ]
  },
  {
   "cell_type": "markdown",
   "metadata": {},
   "source": [
    ".\n",
    "\n",
    "ahora recorremos las columnas buscando la diferencia porcentual de aciertos"
   ]
  },
  {
   "cell_type": "code",
   "execution_count": 17,
   "metadata": {},
   "outputs": [
    {
     "name": "stdout",
     "output_type": "stream",
     "text": [
      "garage|cochera:  0.93\n",
      "lavadero:  0.94\n",
      "balcon:  0.78\n",
      "parrilla:  0.99\n",
      "piscina:  0.85\n",
      "terraza:  0.98\n",
      "patio:  1.0\n",
      "jardin:  0.92\n",
      "quincho:  1.0\n",
      "aire_acondicionado:  1.0\n",
      "amenities:  1.0\n",
      "estrenar:  1.0\n",
      "gimnasio:  0.98\n",
      "subte:  0.89\n",
      "baulera:  1.0\n"
     ]
    }
   ],
   "source": [
    "for col in list_columnas_dummy:\n",
    "    col_name = col.replace(' ','_')\n",
    "    serie = data_clean['desc_' + col_name ] == data_clean['url_' + col_name]\n",
    "    print(col + ': ',round(1 - (serie.shape[0] - serie.sum()) / serie.shape[0],2))\n",
    "    "
   ]
  },
  {
   "cell_type": "markdown",
   "metadata": {},
   "source": [
    "## Seleccion y refinamiento en variables dummies"
   ]
  },
  {
   "cell_type": "code",
   "execution_count": 18,
   "metadata": {},
   "outputs": [],
   "source": [
    "#unificamos los valores encontrados en descripcion y URL\n",
    "def unify_cols(column, column_name=\"\"):\n",
    "    if column_name == \"\":\n",
    "        column_name = column\n",
    "    data_clean[column_name] = data_clean.apply(lambda df: max([df['desc_' + column],df['url_' + column]]), axis=1)\n",
    "    del data_clean['desc_' + column]\n",
    "    del data_clean['url_' + column]\n",
    "    print(column_name, data_clean[column_name].sum())"
   ]
  },
  {
   "cell_type": "code",
   "execution_count": 19,
   "metadata": {},
   "outputs": [
    {
     "name": "stdout",
     "output_type": "stream",
     "text": [
      "garage 57880.0\n",
      "lavadero 44906.0\n",
      "balcon 42994.0\n",
      "parrilla 34143.0\n",
      "piscina 32584.0\n",
      "jardin 17364.0\n",
      "patio 21600.0\n",
      "amenities 11026.0\n",
      "estrenar 10739.0\n",
      "gimnasio 9633.0\n",
      "subte 17893.0\n",
      "baulera 10923.0\n"
     ]
    }
   ],
   "source": [
    "unify_cols('garage|cochera', 'garage')\n",
    "unify_cols('lavadero')\n",
    "unify_cols('balcon')\n",
    "unify_cols('parrilla')\n",
    "unify_cols('piscina')\n",
    "unify_cols('jardin')\n",
    "unify_cols('patio')\n",
    "unify_cols('amenities')\n",
    "unify_cols('estrenar')\n",
    "unify_cols('gimnasio')\n",
    "unify_cols('subte')\n",
    "unify_cols('baulera')\n"
   ]
  },
  {
   "cell_type": "code",
   "execution_count": 20,
   "metadata": {},
   "outputs": [],
   "source": [
    "del data_clean['desc_aire_acondicionado']\n",
    "del data_clean['url_aire_acondicionado']"
   ]
  },
  {
   "cell_type": "code",
   "execution_count": 21,
   "metadata": {},
   "outputs": [],
   "source": [
    "data_clean['piscina_house'] = 0\n",
    "data_clean['piscina_depart'] = 0\n",
    "piscina_house_mask = (data_clean['property_type'] == 'house') & (data_clean['piscina'] == 1)\n",
    "piscina_not_house_mask = (data_clean['property_type'] != 'house') & (data_clean['piscina'] == 1)\n",
    "data_clean.loc[piscina_house_mask, 'piscina_house'] = 1\n",
    "data_clean.loc[piscina_not_house_mask, 'piscina_depart'] = 1\n",
    "del data_clean['piscina']"
   ]
  },
  {
   "cell_type": "code",
   "execution_count": 22,
   "metadata": {},
   "outputs": [
    {
     "name": "stdout",
     "output_type": "stream",
     "text": [
      "15380\n",
      "17204\n"
     ]
    }
   ],
   "source": [
    "print(data_clean['piscina_house'].sum())\n",
    "print(data_clean['piscina_depart'].sum())"
   ]
  },
  {
   "cell_type": "markdown",
   "metadata": {},
   "source": [
    "## Imputación de ambientes a partir de la columna 'titles'"
   ]
  },
  {
   "cell_type": "code",
   "execution_count": 23,
   "metadata": {},
   "outputs": [
    {
     "name": "stdout",
     "output_type": "stream",
     "text": [
      "cantidad de matches:  17363  en  TODOS los  registros buscados\n"
     ]
    }
   ],
   "source": [
    "df_cant_ambientes = generate_context_df(\"ambiente[s]|monoambiente\", \"title\", 0, True, 1,0)"
   ]
  },
  {
   "cell_type": "code",
   "execution_count": 24,
   "metadata": {},
   "outputs": [
    {
     "data": {
      "text/plain": [
       "2 ambientes         4384\n",
       "3 ambientes         4142\n",
       "monoambiente        3338\n",
       "4 ambientes         2300\n",
       "dos ambientes        918\n",
       "5 ambientes          697\n",
       "tres ambientes       477\n",
       "venta. ambientes     437\n",
       "6 ambientes          194\n",
       "cuatro ambientes     109\n",
       "Name: context, dtype: int64"
      ]
     },
     "execution_count": 24,
     "metadata": {},
     "output_type": "execute_result"
    }
   ],
   "source": [
    "df_cant_ambientes.context.value_counts().head(10)"
   ]
  },
  {
   "cell_type": "code",
   "execution_count": 25,
   "metadata": {},
   "outputs": [
    {
     "data": {
      "text/plain": [
       "2               4384\n",
       "3               4142\n",
       "monoambiente    3338\n",
       "4               2300\n",
       "dos              918\n",
       "5                697\n",
       "tres             477\n",
       "venta.           437\n",
       "6                194\n",
       "cuatro           109\n",
       "Name: context, dtype: int64"
      ]
     },
     "execution_count": 25,
     "metadata": {},
     "output_type": "execute_result"
    }
   ],
   "source": [
    "df_cant_ambientes.context = df_cant_ambientes.context.str.replace(' ambientes','')\n",
    "df_cant_ambientes.context.value_counts().head(10)"
   ]
  },
  {
   "cell_type": "code",
   "execution_count": 26,
   "metadata": {},
   "outputs": [
    {
     "data": {
      "text/plain": [
       "2            5302\n",
       "3            4619\n",
       "1            3353\n",
       "4            2409\n",
       "5             730\n",
       "venta.        437\n",
       "6             198\n",
       "7              69\n",
       "ambientes      47\n",
       "amplios        26\n",
       "Name: context, dtype: int64"
      ]
     },
     "execution_count": 26,
     "metadata": {},
     "output_type": "execute_result"
    }
   ],
   "source": [
    "import re\n",
    "\n",
    "dic = {\"dos\": \"2\", \"tres\": \"3\", \"cuatro\": \"4\", \"cinco\": \"5\", \"seis\": \"6\", \"siete\": \"7\", \"ocho\": \"8\", \"monoambiente\": \"1\"} # define desired replacements here\n",
    "\n",
    "def replace_all(text):\n",
    "    for key in dic:\n",
    "        text = text.replace(key, dic[key])\n",
    "    return text\n",
    "\n",
    "df_cant_ambientes.context = df_cant_ambientes.context.apply(replace_all)\n",
    "df_cant_ambientes.context.value_counts().head(10)"
   ]
  },
  {
   "cell_type": "code",
   "execution_count": 27,
   "metadata": {},
   "outputs": [],
   "source": [
    "df_cant_ambientes_not_numeric_mask = df_cant_ambientes.context.apply(lambda x: False if x.isnumeric() else True)\n",
    "df_cant_ambientes.drop(df_cant_ambientes[df_cant_ambientes_not_numeric_mask].index,inplace=True)\n",
    "df_cant_ambientes.drop(df_cant_ambientes[df_cant_ambientes.context == '4000'].index,inplace=True)\n",
    "df_cant_ambientes.context = df_cant_ambientes.context.astype(int)"
   ]
  },
  {
   "cell_type": "code",
   "execution_count": 28,
   "metadata": {},
   "outputs": [
    {
     "data": {
      "text/html": [
       "<div>\n",
       "<style scoped>\n",
       "    .dataframe tbody tr th:only-of-type {\n",
       "        vertical-align: middle;\n",
       "    }\n",
       "\n",
       "    .dataframe tbody tr th {\n",
       "        vertical-align: top;\n",
       "    }\n",
       "\n",
       "    .dataframe thead th {\n",
       "        text-align: right;\n",
       "    }\n",
       "</style>\n",
       "<table border=\"1\" class=\"dataframe\">\n",
       "  <thead>\n",
       "    <tr style=\"text-align: right;\">\n",
       "      <th></th>\n",
       "      <th>desc_ambientes</th>\n",
       "      <th>index</th>\n",
       "    </tr>\n",
       "  </thead>\n",
       "  <tbody>\n",
       "    <tr>\n",
       "      <th>0</th>\n",
       "      <td>1</td>\n",
       "      <td>7</td>\n",
       "    </tr>\n",
       "    <tr>\n",
       "      <th>1</th>\n",
       "      <td>2</td>\n",
       "      <td>8</td>\n",
       "    </tr>\n",
       "    <tr>\n",
       "      <th>2</th>\n",
       "      <td>2</td>\n",
       "      <td>12</td>\n",
       "    </tr>\n",
       "    <tr>\n",
       "      <th>3</th>\n",
       "      <td>3</td>\n",
       "      <td>17</td>\n",
       "    </tr>\n",
       "    <tr>\n",
       "      <th>4</th>\n",
       "      <td>4</td>\n",
       "      <td>21</td>\n",
       "    </tr>\n",
       "    <tr>\n",
       "      <th>...</th>\n",
       "      <td>...</td>\n",
       "      <td>...</td>\n",
       "    </tr>\n",
       "    <tr>\n",
       "      <th>17358</th>\n",
       "      <td>3</td>\n",
       "      <td>121112</td>\n",
       "    </tr>\n",
       "    <tr>\n",
       "      <th>17359</th>\n",
       "      <td>2</td>\n",
       "      <td>121138</td>\n",
       "    </tr>\n",
       "    <tr>\n",
       "      <th>17360</th>\n",
       "      <td>3</td>\n",
       "      <td>121139</td>\n",
       "    </tr>\n",
       "    <tr>\n",
       "      <th>17361</th>\n",
       "      <td>3</td>\n",
       "      <td>121153</td>\n",
       "    </tr>\n",
       "    <tr>\n",
       "      <th>17362</th>\n",
       "      <td>3</td>\n",
       "      <td>121215</td>\n",
       "    </tr>\n",
       "  </tbody>\n",
       "</table>\n",
       "<p>16716 rows × 2 columns</p>\n",
       "</div>"
      ],
      "text/plain": [
       "       desc_ambientes   index\n",
       "0                   1       7\n",
       "1                   2       8\n",
       "2                   2      12\n",
       "3                   3      17\n",
       "4                   4      21\n",
       "...               ...     ...\n",
       "17358               3  121112\n",
       "17359               2  121138\n",
       "17360               3  121139\n",
       "17361               3  121153\n",
       "17362               3  121215\n",
       "\n",
       "[16716 rows x 2 columns]"
      ]
     },
     "execution_count": 28,
     "metadata": {},
     "output_type": "execute_result"
    }
   ],
   "source": [
    "df_cant_ambientes.rename({'context': 'desc_ambientes'}, axis=1,inplace=True)\n",
    "df_cant_ambientes"
   ]
  },
  {
   "cell_type": "code",
   "execution_count": 29,
   "metadata": {},
   "outputs": [
    {
     "name": "stdout",
     "output_type": "stream",
     "text": [
      "(16716, 2)\n",
      "(16658, 2)\n"
     ]
    }
   ],
   "source": [
    "print(df_cant_ambientes.shape)\n",
    "df_cant_ambientes.drop_duplicates(['index'], inplace=True)\n",
    "print(df_cant_ambientes.shape)"
   ]
  },
  {
   "cell_type": "code",
   "execution_count": 30,
   "metadata": {},
   "outputs": [],
   "source": [
    "data_clean_ambientes = pd.merge(data_clean, df_cant_ambientes, how='left', left_on='Unnamed: 0', right_on='index')\n",
    "del data_clean_ambientes['index']\n",
    "data_clean = data_clean_ambientes"
   ]
  },
  {
   "cell_type": "code",
   "execution_count": 31,
   "metadata": {},
   "outputs": [
    {
     "data": {
      "text/html": [
       "<div>\n",
       "<style scoped>\n",
       "    .dataframe tbody tr th:only-of-type {\n",
       "        vertical-align: middle;\n",
       "    }\n",
       "\n",
       "    .dataframe tbody tr th {\n",
       "        vertical-align: top;\n",
       "    }\n",
       "\n",
       "    .dataframe thead th {\n",
       "        text-align: right;\n",
       "    }\n",
       "</style>\n",
       "<table border=\"1\" class=\"dataframe\">\n",
       "  <thead>\n",
       "    <tr style=\"text-align: right;\">\n",
       "      <th></th>\n",
       "      <th>rooms</th>\n",
       "      <th>desc_ambientes</th>\n",
       "    </tr>\n",
       "  </thead>\n",
       "  <tbody>\n",
       "    <tr>\n",
       "      <th>rooms</th>\n",
       "      <td>1.000000</td>\n",
       "      <td>0.916597</td>\n",
       "    </tr>\n",
       "    <tr>\n",
       "      <th>desc_ambientes</th>\n",
       "      <td>0.916597</td>\n",
       "      <td>1.000000</td>\n",
       "    </tr>\n",
       "  </tbody>\n",
       "</table>\n",
       "</div>"
      ],
      "text/plain": [
       "                   rooms  desc_ambientes\n",
       "rooms           1.000000        0.916597\n",
       "desc_ambientes  0.916597        1.000000"
      ]
     },
     "execution_count": 31,
     "metadata": {},
     "output_type": "execute_result"
    }
   ],
   "source": [
    "#Comprobamos la correlación entre los datos obtenidos por la descripciones y los preexistentes en data_clean\n",
    "#encontramos que la correlacion entre ambas variables es 0,91\n",
    "\n",
    "data_clean_ambientes_mask = data_clean.rooms.notnull() & data_clean.desc_ambientes.notnull()\n",
    "data_clean.loc[data_clean_ambientes_mask,['rooms','desc_ambientes']].corr()"
   ]
  },
  {
   "cell_type": "code",
   "execution_count": 32,
   "metadata": {},
   "outputs": [
    {
     "data": {
      "text/plain": [
       "7779"
      ]
     },
     "execution_count": 32,
     "metadata": {},
     "output_type": "execute_result"
    }
   ],
   "source": [
    "#creamos una mascara para imputar datos faltantes en rooms\n",
    "data_clean_ambientes_mask = data_clean.rooms.isnull() & data_clean.desc_ambientes.notnull()\n",
    "data_clean_ambientes_mask.sum()"
   ]
  },
  {
   "cell_type": "code",
   "execution_count": 33,
   "metadata": {},
   "outputs": [],
   "source": [
    "#imputamos los datos \n",
    "data_clean.loc[data_clean_ambientes_mask,['rooms']] = data_clean.loc[data_clean_ambientes_mask,['desc_ambientes']].desc_ambientes\n"
   ]
  },
  {
   "cell_type": "code",
   "execution_count": 34,
   "metadata": {},
   "outputs": [
    {
     "data": {
      "text/plain": [
       "0"
      ]
     },
     "execution_count": 34,
     "metadata": {},
     "output_type": "execute_result"
    }
   ],
   "source": [
    "#verificamos que los nulos se hayan reemplazado por valores de la columna desc_ambientes\n",
    "data_clean_ambientes_mask_2 = data_clean.rooms.isnull() & data_clean.desc_ambientes.notnull()\n",
    "data_clean_ambientes_mask_2.sum()"
   ]
  },
  {
   "cell_type": "code",
   "execution_count": 35,
   "metadata": {},
   "outputs": [],
   "source": [
    "#eliminamos la columna desc_ambientes\n",
    "del data_clean['desc_ambientes']"
   ]
  },
  {
   "cell_type": "markdown",
   "metadata": {},
   "source": [
    "## imputacion de ambientes a partir de baños"
   ]
  },
  {
   "cell_type": "code",
   "execution_count": 36,
   "metadata": {},
   "outputs": [
    {
     "name": "stdout",
     "output_type": "stream",
     "text": [
      "cantidad de matches:  121131  en  TODOS los  registros buscados\n"
     ]
    }
   ],
   "source": [
    "banios = generate_context_df(\"baños|baño\", \"description\", 0, True, 1,0)"
   ]
  },
  {
   "cell_type": "code",
   "execution_count": 37,
   "metadata": {},
   "outputs": [
    {
     "data": {
      "text/plain": [
       "baño              100496\n",
       "2 baños             5567\n",
       "dos baños           3071\n",
       "en baños            1663\n",
       "3 baños             1368\n",
       "y baños             1187\n",
       "baños                919\n",
       "de baños             852\n",
       "los baños            710\n",
       "4 baños              401\n",
       "- baños              322\n",
       "con baños            300\n",
       "tres baños           289\n",
       "* baños              146\n",
       "5 baños              134\n",
       "1 baños               95\n",
       "placard, baños        93\n",
       "cocinas, baños        88\n",
       "cocina, baños         83\n",
       "ambos baños           74\n",
       "Name: context, dtype: int64"
      ]
     },
     "execution_count": 37,
     "metadata": {},
     "output_type": "execute_result"
    }
   ],
   "source": [
    "banios.context.value_counts().head(20)"
   ]
  },
  {
   "cell_type": "code",
   "execution_count": 38,
   "metadata": {},
   "outputs": [],
   "source": [
    "dic = {\"2 baños\": \"2\", \"dos baños\": \"2\", \"3 baños\": \"3\", \"4 baños\": \"4\", \"tres baños\": \"3\", \"5 baños\": \"5\", \"1 baños\": \"1\", \"ambos baños\": \"2\", \"baño\": \"1\"}\n",
    "\n",
    "def replace_all(text):\n",
    "    for key in dic:\n",
    "        text = text.strip().replace(key, dic[key])\n",
    "    return text\n",
    "banios_replaced = banios\n",
    "banios_replaced.context = banios.context.apply(replace_all)"
   ]
  },
  {
   "cell_type": "code",
   "execution_count": 39,
   "metadata": {},
   "outputs": [
    {
     "data": {
      "text/plain": [
       "1         100591\n",
       "2           8712\n",
       "en 1s       1663\n",
       "3           1657\n",
       "y 1s        1187\n",
       "1s           969\n",
       "de 1s        852\n",
       "los 1s       710\n",
       "4            401\n",
       "- 1s         322\n",
       "Name: context, dtype: int64"
      ]
     },
     "execution_count": 39,
     "metadata": {},
     "output_type": "execute_result"
    }
   ],
   "source": [
    "banios_replaced.context.value_counts().head(10)"
   ]
  },
  {
   "cell_type": "code",
   "execution_count": 40,
   "metadata": {},
   "outputs": [],
   "source": [
    "banios_replaced_not_numeric_mask = banios_replaced.context.apply(lambda x: False if x.isnumeric() else True)"
   ]
  },
  {
   "cell_type": "code",
   "execution_count": 41,
   "metadata": {},
   "outputs": [],
   "source": [
    "banios_replaced.drop(banios_replaced[banios_replaced_not_numeric_mask].index,inplace=True)"
   ]
  },
  {
   "cell_type": "code",
   "execution_count": 42,
   "metadata": {},
   "outputs": [],
   "source": [
    "banios_replaced.context = banios_replaced.context.astype(int)"
   ]
  },
  {
   "cell_type": "code",
   "execution_count": 43,
   "metadata": {},
   "outputs": [],
   "source": [
    "banios_replaced_outlayers_mask = banios_replaced.context > 5\n",
    "banios_replaced.drop(banios_replaced[banios_replaced_outlayers_mask].index,inplace=True)"
   ]
  },
  {
   "cell_type": "code",
   "execution_count": 44,
   "metadata": {},
   "outputs": [
    {
     "data": {
      "text/plain": [
       "1    100591\n",
       "2      8713\n",
       "3      1657\n",
       "4       401\n",
       "5       134\n",
       "Name: context, dtype: int64"
      ]
     },
     "execution_count": 44,
     "metadata": {},
     "output_type": "execute_result"
    }
   ],
   "source": [
    "banios_replaced.context.value_counts().head(10)"
   ]
  },
  {
   "cell_type": "code",
   "execution_count": 45,
   "metadata": {},
   "outputs": [],
   "source": [
    "banios_replaced.drop_duplicates(['index'], inplace=True)"
   ]
  },
  {
   "cell_type": "code",
   "execution_count": 46,
   "metadata": {},
   "outputs": [
    {
     "data": {
      "text/html": [
       "<div>\n",
       "<style scoped>\n",
       "    .dataframe tbody tr th:only-of-type {\n",
       "        vertical-align: middle;\n",
       "    }\n",
       "\n",
       "    .dataframe tbody tr th {\n",
       "        vertical-align: top;\n",
       "    }\n",
       "\n",
       "    .dataframe thead th {\n",
       "        text-align: right;\n",
       "    }\n",
       "</style>\n",
       "<table border=\"1\" class=\"dataframe\">\n",
       "  <thead>\n",
       "    <tr style=\"text-align: right;\">\n",
       "      <th></th>\n",
       "      <th>desc_banios</th>\n",
       "      <th>index</th>\n",
       "    </tr>\n",
       "  </thead>\n",
       "  <tbody>\n",
       "    <tr>\n",
       "      <th>0</th>\n",
       "      <td>1</td>\n",
       "      <td>0</td>\n",
       "    </tr>\n",
       "    <tr>\n",
       "      <th>1</th>\n",
       "      <td>1</td>\n",
       "      <td>1</td>\n",
       "    </tr>\n",
       "    <tr>\n",
       "      <th>2</th>\n",
       "      <td>1</td>\n",
       "      <td>2</td>\n",
       "    </tr>\n",
       "    <tr>\n",
       "      <th>3</th>\n",
       "      <td>1</td>\n",
       "      <td>4</td>\n",
       "    </tr>\n",
       "    <tr>\n",
       "      <th>4</th>\n",
       "      <td>1</td>\n",
       "      <td>5</td>\n",
       "    </tr>\n",
       "    <tr>\n",
       "      <th>...</th>\n",
       "      <td>...</td>\n",
       "      <td>...</td>\n",
       "    </tr>\n",
       "    <tr>\n",
       "      <th>121121</th>\n",
       "      <td>2</td>\n",
       "      <td>121214</td>\n",
       "    </tr>\n",
       "    <tr>\n",
       "      <th>121122</th>\n",
       "      <td>1</td>\n",
       "      <td>121216</td>\n",
       "    </tr>\n",
       "    <tr>\n",
       "      <th>121126</th>\n",
       "      <td>1</td>\n",
       "      <td>121217</td>\n",
       "    </tr>\n",
       "    <tr>\n",
       "      <th>121127</th>\n",
       "      <td>1</td>\n",
       "      <td>121218</td>\n",
       "    </tr>\n",
       "    <tr>\n",
       "      <th>121129</th>\n",
       "      <td>1</td>\n",
       "      <td>121219</td>\n",
       "    </tr>\n",
       "  </tbody>\n",
       "</table>\n",
       "<p>75840 rows × 2 columns</p>\n",
       "</div>"
      ],
      "text/plain": [
       "        desc_banios   index\n",
       "0                 1       0\n",
       "1                 1       1\n",
       "2                 1       2\n",
       "3                 1       4\n",
       "4                 1       5\n",
       "...             ...     ...\n",
       "121121            2  121214\n",
       "121122            1  121216\n",
       "121126            1  121217\n",
       "121127            1  121218\n",
       "121129            1  121219\n",
       "\n",
       "[75840 rows x 2 columns]"
      ]
     },
     "execution_count": 46,
     "metadata": {},
     "output_type": "execute_result"
    }
   ],
   "source": [
    "banios_replaced.rename({'context': 'desc_banios'}, axis=1,inplace=True)\n",
    "banios_replaced"
   ]
  },
  {
   "cell_type": "code",
   "execution_count": 47,
   "metadata": {},
   "outputs": [],
   "source": [
    "data_clean_banios = pd.merge(data_clean, banios_replaced, how='left', left_on='Unnamed: 0', right_on='index')\n",
    "del data_clean_banios['index']\n",
    "data_clean = data_clean_banios"
   ]
  },
  {
   "cell_type": "code",
   "execution_count": 48,
   "metadata": {},
   "outputs": [],
   "source": [
    "banios_not_null_mask = data_clean.desc_banios.notnull() & data_clean.rooms.notnull()"
   ]
  },
  {
   "cell_type": "code",
   "execution_count": 49,
   "metadata": {},
   "outputs": [
    {
     "data": {
      "text/html": [
       "<div>\n",
       "<style scoped>\n",
       "    .dataframe tbody tr th:only-of-type {\n",
       "        vertical-align: middle;\n",
       "    }\n",
       "\n",
       "    .dataframe tbody tr th {\n",
       "        vertical-align: top;\n",
       "    }\n",
       "\n",
       "    .dataframe thead th {\n",
       "        text-align: right;\n",
       "    }\n",
       "</style>\n",
       "<table border=\"1\" class=\"dataframe\">\n",
       "  <thead>\n",
       "    <tr style=\"text-align: right;\">\n",
       "      <th></th>\n",
       "      <th>desc_banios</th>\n",
       "      <th>rooms</th>\n",
       "    </tr>\n",
       "  </thead>\n",
       "  <tbody>\n",
       "    <tr>\n",
       "      <th>desc_banios</th>\n",
       "      <td>1.000000</td>\n",
       "      <td>0.254149</td>\n",
       "    </tr>\n",
       "    <tr>\n",
       "      <th>rooms</th>\n",
       "      <td>0.254149</td>\n",
       "      <td>1.000000</td>\n",
       "    </tr>\n",
       "  </tbody>\n",
       "</table>\n",
       "</div>"
      ],
      "text/plain": [
       "             desc_banios     rooms\n",
       "desc_banios     1.000000  0.254149\n",
       "rooms           0.254149  1.000000"
      ]
     },
     "execution_count": 49,
     "metadata": {},
     "output_type": "execute_result"
    }
   ],
   "source": [
    "#analizamos la correlación entre habitaciones y baños\n",
    "feature_cols = ['desc_banios', 'rooms']\n",
    "data_clean.loc[banios_not_null_mask, feature_cols].corr()"
   ]
  },
  {
   "cell_type": "code",
   "execution_count": 50,
   "metadata": {},
   "outputs": [],
   "source": [
    "corr_banios_rooms = data_clean.loc[banios_not_null_mask, feature_cols].apply(lambda df: str(df['desc_banios'].astype(int)) + '-' + str(df['rooms'].astype(int)), axis=1)"
   ]
  },
  {
   "cell_type": "code",
   "execution_count": 51,
   "metadata": {},
   "outputs": [
    {
     "data": {
      "text/plain": [
       "1-3    8732\n",
       "1-2    8695\n",
       "1-4    5405\n",
       "1-1    4428\n",
       "1-5    2413\n",
       "2-4    1112\n",
       "1-6     963\n",
       "2-3     898\n",
       "1-7     503\n",
       "2-5     486\n",
       "dtype: int64"
      ]
     },
     "execution_count": 51,
     "metadata": {},
     "output_type": "execute_result"
    }
   ],
   "source": [
    "corr_banios_rooms.value_counts().head(10)"
   ]
  },
  {
   "cell_type": "markdown",
   "metadata": {},
   "source": [
    "### se desestima la imputacion de habitaciones a partir de la cantidad de baños por su baja correlación"
   ]
  },
  {
   "cell_type": "markdown",
   "metadata": {},
   "source": [
    "### Ahora vamos a trabajar sobre la columna 'descripcion' para:\n",
    "\n",
    "* capturar los valores en m2 de las descripciones donde existan faltantes\n",
    "* obervar el contexto de los valores capturados\n",
    "* preservar el indice para una posterior imputación de datos\n",
    "* crear una lista de palabras claves a buscar ordenadas por cantidad de repeticiones"
   ]
  },
  {
   "cell_type": "code",
   "execution_count": 52,
   "metadata": {},
   "outputs": [
    {
     "data": {
      "text/html": [
       "<div>\n",
       "<style scoped>\n",
       "    .dataframe tbody tr th:only-of-type {\n",
       "        vertical-align: middle;\n",
       "    }\n",
       "\n",
       "    .dataframe tbody tr th {\n",
       "        vertical-align: top;\n",
       "    }\n",
       "\n",
       "    .dataframe thead th {\n",
       "        text-align: right;\n",
       "    }\n",
       "</style>\n",
       "<table border=\"1\" class=\"dataframe\">\n",
       "  <thead>\n",
       "    <tr style=\"text-align: right;\">\n",
       "      <th></th>\n",
       "      <th>before</th>\n",
       "      <th>m2</th>\n",
       "      <th>after</th>\n",
       "      <th>index</th>\n",
       "    </tr>\n",
       "  </thead>\n",
       "  <tbody>\n",
       "    <tr>\n",
       "      <th>0</th>\n",
       "      <td>y servicios. lote de</td>\n",
       "      <td>1514</td>\n",
       "      <td>.</td>\n",
       "      <td>10</td>\n",
       "    </tr>\n",
       "    <tr>\n",
       "      <th>1</th>\n",
       "      <td></td>\n",
       "      <td>23</td>\n",
       "      <td>contado u$d250.000haus</td>\n",
       "      <td>15</td>\n",
       "    </tr>\n",
       "    <tr>\n",
       "      <th>2</th>\n",
       "      <td>x83o de</td>\n",
       "      <td>50</td>\n",
       "      <td>cuadrados,con terraza y</td>\n",
       "      <td>65</td>\n",
       "    </tr>\n",
       "    <tr>\n",
       "      <th>3</th>\n",
       "      <td>balcon. super luminoso tiene</td>\n",
       "      <td>38</td>\n",
       "      <td>aprox. cuenta con ban\\</td>\n",
       "      <td>66</td>\n",
       "    </tr>\n",
       "    <tr>\n",
       "      <th>4</th>\n",
       "      <td>monoambientes de</td>\n",
       "      <td>22</td>\n",
       "      <td>+ 5.30m21 dormitorio</td>\n",
       "      <td>101</td>\n",
       "    </tr>\n",
       "    <tr>\n",
       "      <th>5</th>\n",
       "      <td>al frente de</td>\n",
       "      <td>36</td>\n",
       "      <td>+ 5.30m21 dormitorio</td>\n",
       "      <td>101</td>\n",
       "    </tr>\n",
       "    <tr>\n",
       "      <th>6</th>\n",
       "      <td></td>\n",
       "      <td>50</td>\n",
       "      <td>+ 2.30m22 dormitorios</td>\n",
       "      <td>101</td>\n",
       "    </tr>\n",
       "    <tr>\n",
       "      <th>7</th>\n",
       "      <td></td>\n",
       "      <td>50</td>\n",
       "      <td>+ 2.70m2entrega enero</td>\n",
       "      <td>101</td>\n",
       "    </tr>\n",
       "    <tr>\n",
       "      <th>8</th>\n",
       "      <td>monoambientes de</td>\n",
       "      <td>22</td>\n",
       "      <td>+ 5.30m21 dormitorio</td>\n",
       "      <td>102</td>\n",
       "    </tr>\n",
       "    <tr>\n",
       "      <th>9</th>\n",
       "      <td>al frente de</td>\n",
       "      <td>36</td>\n",
       "      <td>+ 5.30m21 dormitorio</td>\n",
       "      <td>102</td>\n",
       "    </tr>\n",
       "    <tr>\n",
       "      <th>10</th>\n",
       "      <td></td>\n",
       "      <td>50</td>\n",
       "      <td>+ 2.30m22 dormitorios</td>\n",
       "      <td>102</td>\n",
       "    </tr>\n",
       "    <tr>\n",
       "      <th>11</th>\n",
       "      <td></td>\n",
       "      <td>50</td>\n",
       "      <td>+ 2.70m2entrega enero</td>\n",
       "      <td>102</td>\n",
       "    </tr>\n",
       "    <tr>\n",
       "      <th>12</th>\n",
       "      <td>sup. cub</td>\n",
       "      <td>60</td>\n",
       "      <td>'</td>\n",
       "      <td>109</td>\n",
       "    </tr>\n",
       "    <tr>\n",
       "      <th>13</th>\n",
       "      <td>centro de san isidro,</td>\n",
       "      <td>90</td>\n",
       "      <td>cubiertos ma\\xcc\\x83\\</td>\n",
       "      <td>111</td>\n",
       "    </tr>\n",
       "    <tr>\n",
       "      <th>14</th>\n",
       "      <td>xa1s terraza de</td>\n",
       "      <td>25</td>\n",
       "      <td>.1a\\xcc\\x82o piso:</td>\n",
       "      <td>111</td>\n",
       "    </tr>\n",
       "    <tr>\n",
       "      <th>15</th>\n",
       "      <td>centro de san isidro,</td>\n",
       "      <td>90</td>\n",
       "      <td>cubiertos ma\\xcc\\x83\\</td>\n",
       "      <td>112</td>\n",
       "    </tr>\n",
       "    <tr>\n",
       "      <th>16</th>\n",
       "      <td>xa1s terraza de</td>\n",
       "      <td>25</td>\n",
       "      <td>.1a\\xcc\\x82o piso:</td>\n",
       "      <td>112</td>\n",
       "    </tr>\n",
       "    <tr>\n",
       "      <th>17</th>\n",
       "      <td>la planta baja son</td>\n",
       "      <td>63</td>\n",
       "      <td>cubiertos y en el</td>\n",
       "      <td>137</td>\n",
       "    </tr>\n",
       "    <tr>\n",
       "      <th>18</th>\n",
       "      <td>primer piso otros</td>\n",
       "      <td>63</td>\n",
       "      <td>cubiertos + 4 m2</td>\n",
       "      <td>137</td>\n",
       "    </tr>\n",
       "    <tr>\n",
       "      <th>19</th>\n",
       "      <td>descubiertos de patio +</td>\n",
       "      <td>26</td>\n",
       "      <td>de terraza. pueden proyectarse</td>\n",
       "      <td>137</td>\n",
       "    </tr>\n",
       "  </tbody>\n",
       "</table>\n",
       "</div>"
      ],
      "text/plain": [
       "                           before    m2                            after  index\n",
       "0           y servicios. lote de   1514                     .                10\n",
       "1                                    23          contado u$d250.000haus      15\n",
       "2                        x83o de     50         cuadrados,con terraza y      65\n",
       "3   balcon. super luminoso tiene     38           aprox. cuenta con ban\\     66\n",
       "4               monoambientes de     22            + 5.30m21 dormitorio     101\n",
       "5                   al frente de     36            + 5.30m21 dormitorio     101\n",
       "6                                    50           + 2.30m22 dormitorios     101\n",
       "7                                    50           + 2.70m2entrega enero     101\n",
       "8               monoambientes de     22            + 5.30m21 dormitorio     102\n",
       "9                   al frente de     36            + 5.30m21 dormitorio     102\n",
       "10                                   50           + 2.30m22 dormitorios     102\n",
       "11                                   50           + 2.70m2entrega enero     102\n",
       "12                      sup. cub     60                                '    109\n",
       "13         centro de san isidro,     90            cubiertos ma\\xcc\\x83\\    111\n",
       "14               xa1s terraza de     25              .1a\\xcc\\x82o piso:     111\n",
       "15         centro de san isidro,     90            cubiertos ma\\xcc\\x83\\    112\n",
       "16               xa1s terraza de     25              .1a\\xcc\\x82o piso:     112\n",
       "17            la planta baja son     63               cubiertos y en el     137\n",
       "18             primer piso otros     63                cubiertos + 4 m2     137\n",
       "19       descubiertos de patio +     26  de terraza. pueden proyectarse     137"
      ]
     },
     "metadata": {},
     "output_type": "display_data"
    },
    {
     "name": "stdout",
     "output_type": "stream",
     "text": [
      "cantidad de matches:  75476\n"
     ]
    }
   ],
   "source": [
    "#tomamos solo las filas con faltantes en los campos de m2\n",
    "#normalizamos las cadenas de texto para remover caracteres especiales\n",
    "mask_m2_any_null = data_clean.surface_total_in_m2.isnull() | data_clean.surface_covered_in_m2.isnull()\n",
    "data_m2_null = data_clean.loc[mask_m2_any_null, 'description'].apply(lambda x: unicodedata.normalize('NFKD', str(x)).encode('utf-8', 'ignore').lower())\n",
    "\n",
    "#generamos un patron que captura el valor de los m2 y el contexto en el que fue encontrado\n",
    "pattern_m2 = r'(?P<before>(\\w*\\W?\\s\\W?){0,4})\\s?(?P<value>\\d{1,5})\\s*(m2|metros)\\s?(?P<after>(\\W?\\w*\\W?\\s?){0,4})'\n",
    "\n",
    "pattern_m2_regex = re.compile(pattern_m2, flags=re.IGNORECASE )\n",
    "result_match = data_m2_null.apply(lambda x: re.finditer(pattern_m2_regex, str(x)))\n",
    "\n",
    "df_result_match = result_match.to_frame().copy()\n",
    "df_result_match['indice'] = result_match.to_frame().index\n",
    "df_result_match\n",
    "\n",
    "list_words_desc_after = []\n",
    "list_words_desc_before = []\n",
    "list_words_desc_values = []\n",
    "list_words_desc_index = []\n",
    "\n",
    "df_m2 = pd.DataFrame(columns=('before', 'm2', 'after', 'index'))\n",
    "\n",
    "#recorremos los resultados\n",
    "for index, row in df_result_match.iterrows():\n",
    "    matches = row['description']\n",
    "    indice = row['indice']\n",
    "    for match in matches:  \n",
    "        before = match.group('before')\n",
    "        after =  match.group('after')\n",
    "        value = match.group('value').strip()    \n",
    "\n",
    "        list_words_desc_before.append(before)\n",
    "        list_words_desc_values.append(value)\n",
    "        list_words_desc_index.append(indice)\n",
    "        list_words_desc_after.append(after)\n",
    "\n",
    "df_m2['m2'] = list_words_desc_values\n",
    "df_m2['before'] = list_words_desc_before\n",
    "df_m2['index'] = list_words_desc_index\n",
    "df_m2['after'] = list_words_desc_after\n",
    "display(df_m2.head(20))\n",
    "print('cantidad de matches: ', df_m2.size)"
   ]
  },
  {
   "cell_type": "markdown",
   "metadata": {},
   "source": [
    "### Generamos una lista de palabras claves tomadas del contexto del DataFrame anterior\n",
    "### Estas palabras nos permitirán, luego, imputar datos faltantes en m2"
   ]
  },
  {
   "cell_type": "code",
   "execution_count": 53,
   "metadata": {},
   "outputs": [
    {
     "data": {
      "text/plain": [
       "con             3685\n",
       "superficie      2197\n",
       "cubiertos       1582\n",
       "lote            1458\n",
       "total           1192\n",
       "cubierta        1191\n",
       "sobre           1180\n",
       "terreno         1154\n",
       "una              956\n",
       "sup              802\n",
       "frente           760\n",
       "casa             719\n",
       "planta           712\n",
       "x81n             704\n",
       "aprox            685\n",
       "ambientes        669\n",
       "totales          596\n",
       "dos              585\n",
       "por              578\n",
       "del              575\n",
       "cuadrados        565\n",
       "departamento     541\n",
       "los              534\n",
       "terraza          493\n",
       "cocina           471\n",
       "piso             470\n",
       "cuenta           452\n",
       "dormitorios      452\n",
       "living           451\n",
       "comedor          410\n",
       "dtype: int64"
      ]
     },
     "execution_count": 53,
     "metadata": {},
     "output_type": "execute_result"
    }
   ],
   "source": [
    "keys_m2 = list_words_desc_before + list_words_desc_after\n",
    "list_keys_words_m2 = []\n",
    "for key in keys_m2:\n",
    "    list_key_words = key.replace('.', '').replace(',', '').replace(':', '').split(' ')\n",
    "    for word in list_key_words:\n",
    "        if (word != '') & (len(word) > 2):\n",
    "            list_keys_words_m2.append(word)\n",
    "        \n",
    "list_keys_words_m2\n",
    "\n",
    "serie_keys_words_m2 = pd.Series(list_keys_words_m2)\n",
    "serie_keys_words_m2_counts = serie_keys_words_m2.value_counts()\n",
    "serie_keys_words_m2_counts.head(30)"
   ]
  },
  {
   "cell_type": "markdown",
   "metadata": {},
   "source": [
    "### Elegimos de la lista las palabras mas relevantes\n",
    "### Creamos a partir de ellas dos series con los cuales imputaremos valores en las columnas 'surface_total_in_m2' y 'surface_covered_in_m2'"
   ]
  },
  {
   "cell_type": "code",
   "execution_count": 54,
   "metadata": {},
   "outputs": [
    {
     "name": "stdout",
     "output_type": "stream",
     "text": [
      "cantidad de veces que TOTAL fué encontrada:  1969\n",
      "cantidad de veces que *sup cub* y *cubiert* fueron encontradas:  3641\n"
     ]
    }
   ],
   "source": [
    "#Unimos las columnas de contexto\n",
    "df_m2['context'] = df_m2['before'] + \" \" + df_m2['after']\n",
    "\n",
    "#buscamos los m2 totales\n",
    "WORD = \"total\" #buscamos los m2 totales\n",
    "\n",
    "key_word_mask_totales = df_m2['context'].apply(lambda x: True if WORD in x else False)\n",
    "print('cantidad de veces que', WORD.upper(), 'fué encontrada: ', key_word_mask_totales.sum())\n",
    "\n",
    "#df_m2_totales = df_m2.loc[key_word_mask,[\"m2\",\"index\"]]\n",
    "df_m2_totales = df_m2.loc[key_word_mask_totales,[\"m2\",\"index\"]]\n",
    "\n",
    "#buscamos los m2 cubiertos\n",
    "list_words = [\"sup cub\", \"cubiert\"] \n",
    "\n",
    "def find_list_words_m2(list, row):\n",
    "    existe = False\n",
    "    for word in list:\n",
    "        if word in row:\n",
    "            existe = True\n",
    "    return existe\n",
    "\n",
    "key_word_mask_cubiertos = df_m2['context'].apply(lambda x : find_list_words_m2(list_words, x))\n",
    "print('cantidad de veces que *sup cub* y *cubiert* fueron encontradas: ', key_word_mask_cubiertos.sum())\n",
    "\n",
    "df_m2_cubiertos = df_m2.loc[key_word_mask_cubiertos,[\"m2\",\"index\", \"context\"]]"
   ]
  },
  {
   "cell_type": "code",
   "execution_count": 55,
   "metadata": {},
   "outputs": [
    {
     "data": {
      "text/html": [
       "<div>\n",
       "<style scoped>\n",
       "    .dataframe tbody tr th:only-of-type {\n",
       "        vertical-align: middle;\n",
       "    }\n",
       "\n",
       "    .dataframe tbody tr th {\n",
       "        vertical-align: top;\n",
       "    }\n",
       "\n",
       "    .dataframe thead th {\n",
       "        text-align: right;\n",
       "    }\n",
       "</style>\n",
       "<table border=\"1\" class=\"dataframe\">\n",
       "  <thead>\n",
       "    <tr style=\"text-align: right;\">\n",
       "      <th></th>\n",
       "      <th>m2</th>\n",
       "    </tr>\n",
       "    <tr>\n",
       "      <th>index</th>\n",
       "      <th></th>\n",
       "    </tr>\n",
       "  </thead>\n",
       "  <tbody>\n",
       "    <tr>\n",
       "      <th>175</th>\n",
       "      <td>88</td>\n",
       "    </tr>\n",
       "    <tr>\n",
       "      <th>491</th>\n",
       "      <td>122</td>\n",
       "    </tr>\n",
       "    <tr>\n",
       "      <th>538</th>\n",
       "      <td>2290</td>\n",
       "    </tr>\n",
       "    <tr>\n",
       "      <th>539</th>\n",
       "      <td>2290</td>\n",
       "    </tr>\n",
       "    <tr>\n",
       "      <th>869</th>\n",
       "      <td>84</td>\n",
       "    </tr>\n",
       "    <tr>\n",
       "      <th>...</th>\n",
       "      <td>...</td>\n",
       "    </tr>\n",
       "    <tr>\n",
       "      <th>120585</th>\n",
       "      <td>110</td>\n",
       "    </tr>\n",
       "    <tr>\n",
       "      <th>120633</th>\n",
       "      <td>56</td>\n",
       "    </tr>\n",
       "    <tr>\n",
       "      <th>120634</th>\n",
       "      <td>655</td>\n",
       "    </tr>\n",
       "    <tr>\n",
       "      <th>120722</th>\n",
       "      <td>116</td>\n",
       "    </tr>\n",
       "    <tr>\n",
       "      <th>120929</th>\n",
       "      <td>287</td>\n",
       "    </tr>\n",
       "  </tbody>\n",
       "</table>\n",
       "<p>1827 rows × 1 columns</p>\n",
       "</div>"
      ],
      "text/plain": [
       "          m2\n",
       "index       \n",
       "175       88\n",
       "491      122\n",
       "538     2290\n",
       "539     2290\n",
       "869       84\n",
       "...      ...\n",
       "120585   110\n",
       "120633    56\n",
       "120634   655\n",
       "120722   116\n",
       "120929   287\n",
       "\n",
       "[1827 rows x 1 columns]"
      ]
     },
     "execution_count": 55,
     "metadata": {},
     "output_type": "execute_result"
    }
   ],
   "source": [
    "m2_totales_a_imputar = df_m2_totales.groupby('index').max()\n",
    "m2_totales_a_imputar"
   ]
  },
  {
   "cell_type": "markdown",
   "metadata": {},
   "source": [
    "### Reemplazamos los valores obtenidos para 'm2 totales'"
   ]
  },
  {
   "cell_type": "code",
   "execution_count": 56,
   "metadata": {},
   "outputs": [
    {
     "name": "stdout",
     "output_type": "stream",
     "text": [
      "\n",
      " ..data_clean.loc[m2_totales_a_imputar.index, 'surface_total_in_m2']:\n"
     ]
    },
    {
     "data": {
      "text/plain": [
       "index\n",
       "175         NaN\n",
       "491         NaN\n",
       "538         NaN\n",
       "539         NaN\n",
       "869         NaN\n",
       "          ...  \n",
       "120585      NaN\n",
       "120633      NaN\n",
       "120634      NaN\n",
       "120722    116.0\n",
       "120929    287.0\n",
       "Name: surface_total_in_m2, Length: 1827, dtype: float64"
      ]
     },
     "metadata": {},
     "output_type": "display_data"
    },
    {
     "name": "stdout",
     "output_type": "stream",
     "text": [
      "\n",
      ".. data_clean.loc[mask_m2_total_imputar_null_final.index, 'surface_total_in_m2']:\n"
     ]
    },
    {
     "data": {
      "text/plain": [
       "index\n",
       "175      NaN\n",
       "491      NaN\n",
       "538      NaN\n",
       "539      NaN\n",
       "869      NaN\n",
       "          ..\n",
       "120184   NaN\n",
       "120527   NaN\n",
       "120585   NaN\n",
       "120633   NaN\n",
       "120634   NaN\n",
       "Name: surface_total_in_m2, Length: 1549, dtype: float64"
      ]
     },
     "execution_count": 56,
     "metadata": {},
     "output_type": "execute_result"
    }
   ],
   "source": [
    "print(\"\\n ..data_clean.loc[m2_totales_a_imputar.index, 'surface_total_in_m2']:\")\n",
    "display(data_clean.loc[m2_totales_a_imputar.index, 'surface_total_in_m2']) \n",
    "# ALGUNOS YA TIENE VALORES, NO LOS VAMOS A SOBREESCRIBIR.\n",
    "mask_m2_total_imputar_null = data_clean.loc[m2_totales_a_imputar.index, 'surface_total_in_m2'].isnull()\n",
    "mask_m2_total_imputar_null_final= mask_m2_total_imputar_null[mask_m2_total_imputar_null]   \n",
    "# SOLO VAMOS A IMPUTAR DONDE NO TENGO NINGÚN VALOR\n",
    "print(\"\\n.. data_clean.loc[mask_m2_total_imputar_null_final.index, 'surface_total_in_m2']:\")\n",
    "data_clean.loc[mask_m2_total_imputar_null_final.index, 'surface_total_in_m2']"
   ]
  },
  {
   "cell_type": "code",
   "execution_count": 57,
   "metadata": {},
   "outputs": [
    {
     "name": "stdout",
     "output_type": "stream",
     "text": [
      "\n",
      " ..data_clean:\n"
     ]
    },
    {
     "data": {
      "text/plain": [
       "index\n",
       "175      NaN\n",
       "491      NaN\n",
       "538      NaN\n",
       "539      NaN\n",
       "869      NaN\n",
       "          ..\n",
       "120184   NaN\n",
       "120527   NaN\n",
       "120585   NaN\n",
       "120633   NaN\n",
       "120634   NaN\n",
       "Name: surface_total_in_m2, Length: 1549, dtype: float64"
      ]
     },
     "metadata": {},
     "output_type": "display_data"
    },
    {
     "name": "stdout",
     "output_type": "stream",
     "text": [
      "\n",
      " Luego de imputarlos..data_clean:\n"
     ]
    },
    {
     "data": {
      "text/plain": [
       "index\n",
       "175         88\n",
       "491        122\n",
       "538       2290\n",
       "539       2290\n",
       "869         84\n",
       "          ... \n",
       "120184      95\n",
       "120527      89\n",
       "120585     110\n",
       "120633      56\n",
       "120634     655\n",
       "Name: surface_total_in_m2, Length: 1549, dtype: object"
      ]
     },
     "metadata": {},
     "output_type": "display_data"
    },
    {
     "name": "stdout",
     "output_type": "stream",
     "text": [
      "\n",
      " m2_totales_a_imputar:\n"
     ]
    },
    {
     "data": {
      "text/plain": [
       "index\n",
       "175         88\n",
       "491        122\n",
       "538       2290\n",
       "539       2290\n",
       "869         84\n",
       "          ... \n",
       "120184      95\n",
       "120527      89\n",
       "120585     110\n",
       "120633      56\n",
       "120634     655\n",
       "Name: m2, Length: 1549, dtype: object"
      ]
     },
     "execution_count": 57,
     "metadata": {},
     "output_type": "execute_result"
    }
   ],
   "source": [
    "print('\\n ..data_clean:')\n",
    "display(data_clean.loc[mask_m2_total_imputar_null_final.index, 'surface_total_in_m2'])\n",
    "data_clean.loc[mask_m2_total_imputar_null_final.index, 'surface_total_in_m2'] = \\\n",
    "                                                m2_totales_a_imputar.loc[mask_m2_total_imputar_null_final.index, 'm2']\n",
    "\n",
    "print('\\n Luego de imputarlos..data_clean:')\n",
    "display(data_clean.loc[mask_m2_total_imputar_null_final.index, 'surface_total_in_m2'])\n",
    "\n",
    "print('\\n m2_totales_a_imputar:')\n",
    "m2_totales_a_imputar.loc[mask_m2_total_imputar_null_final.index, 'm2']"
   ]
  },
  {
   "cell_type": "markdown",
   "metadata": {},
   "source": [
    "### Pequeña verificación de la asignación"
   ]
  },
  {
   "cell_type": "code",
   "execution_count": 58,
   "metadata": {},
   "outputs": [
    {
     "name": "stdout",
     "output_type": "stream",
     "text": [
      "\n",
      " ..data_clean:\n"
     ]
    },
    {
     "data": {
      "text/plain": [
       "537     NaN\n",
       "538    2290\n",
       "539    2290\n",
       "540     NaN\n",
       "Name: surface_total_in_m2, dtype: object"
      ]
     },
     "metadata": {},
     "output_type": "display_data"
    },
    {
     "name": "stdout",
     "output_type": "stream",
     "text": [
      "\n",
      " ..m2_totales_a_imputar:\n"
     ]
    },
    {
     "data": {
      "text/plain": [
       "index\n",
       "538    2290\n",
       "539    2290\n",
       "Name: m2, dtype: object"
      ]
     },
     "metadata": {},
     "output_type": "display_data"
    }
   ],
   "source": [
    "print('\\n ..data_clean:')\n",
    "display(data_clean.loc[537:540, 'surface_total_in_m2'])\n",
    "print('\\n ..m2_totales_a_imputar:')\n",
    "display(m2_totales_a_imputar.loc[537:540, 'm2'])"
   ]
  },
  {
   "cell_type": "code",
   "execution_count": 59,
   "metadata": {},
   "outputs": [],
   "source": [
    "correccionSurfaceTotalInM2 = data_clean.surface_total_in_m2.apply(lambda x: str(x).lower().replace(\"m2\", \"\").replace(\"superficie\", \"\").strip())\n",
    "correccionSurfaceTotalInM2Final = correccionSurfaceTotalInM2.apply(lambda x: x if x[0] != \".\" else x[1:]).astype(np.float64)\n",
    "data_clean.loc[correccionSurfaceTotalInM2Final.index, \"surface_total_in_m2\"] = correccionSurfaceTotalInM2Final"
   ]
  },
  {
   "cell_type": "code",
   "execution_count": 60,
   "metadata": {},
   "outputs": [],
   "source": [
    "property_type_dummies = pd.get_dummies(data_clean[\"property_type\"], columns=[\"property_type\"], prefix=\"tipo_propiedad\", drop_first=True)\n",
    "data_clean = pd.concat([data_clean, property_type_dummies], axis=1)"
   ]
  },
  {
   "cell_type": "code",
   "execution_count": 61,
   "metadata": {},
   "outputs": [],
   "source": [
    "data_clean.drop(\n",
    "    ['Unnamed: 0'], \\\n",
    "    axis=1, inplace=True)"
   ]
  },
  {
   "cell_type": "code",
   "execution_count": 62,
   "metadata": {},
   "outputs": [],
   "source": [
    "data_clean.to_csv(\"CleanCSV/Clean02_DummiesYSuperficie.csv\")"
   ]
  }
 ],
 "metadata": {
  "kernelspec": {
   "display_name": "Python 3",
   "language": "python",
   "name": "python3"
  },
  "language_info": {
   "codemirror_mode": {
    "name": "ipython",
    "version": 3
   },
   "file_extension": ".py",
   "mimetype": "text/x-python",
   "name": "python",
   "nbconvert_exporter": "python",
   "pygments_lexer": "ipython3",
   "version": "3.7.7"
  }
 },
 "nbformat": 4,
 "nbformat_minor": 4
}
