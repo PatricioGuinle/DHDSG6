{
 "cells": [
  {
   "cell_type": "code",
   "execution_count": 1,
   "metadata": {},
   "outputs": [
    {
     "name": "stdout",
     "output_type": "stream",
     "text": [
      "default checking\n",
      "Running command `conda list`... ok\n",
      "jupyterlab=1.2.6 already installed\n",
      "pandas=1.0.3 already installed\n",
      "matplotlib=2.2.2 already installed\n",
      "bokeh=2.0.0 already installed\n",
      "seaborn=0.10.0 already installed\n",
      "ipywidgets=7.5.1 already installed\n",
      "pytest=5.3.4 already installed\n",
      "chardet=3.0.4 already installed\n",
      "psutil=5.7.0 already installed\n",
      "scipy=1.4.1 already installed\n",
      "statsmodels=0.11.0 already installed\n",
      "scikit-learn=0.22.1 already installed\n",
      "xlrd=1.2.0 already installed\n",
      "plotly=4.6.0 already installed\n",
      "chart-studio=1.1.0 already installed\n",
      "plotly-orca=1.3.1 already installed\n",
      "Running command `conda install --yes unicodedata2`... ok\n",
      "Collecting package metadata (current_repodata.json): ...working... done\n",
      "Solving environment: ...working... done\n",
      "\n",
      "# All requested packages already installed.\n",
      "\n",
      "\n",
      "Importando librerías ...\n",
      "Las librerías has sido importadas con éxito\n"
     ]
    }
   ],
   "source": [
    "# initial setup\n",
    "try:\n",
    "    # settings colab:\n",
    "    import google.colab\n",
    "        \n",
    "except ModuleNotFoundError:    \n",
    "    # settings local:\n",
    "    %run \"common/0_notebooks_base_setup.py\""
   ]
  },
  {
   "cell_type": "code",
   "execution_count": 2,
   "metadata": {},
   "outputs": [],
   "source": [
    "data = pd.read_csv(\"properati.csv\")"
   ]
  },
  {
   "cell_type": "code",
   "execution_count": 3,
   "metadata": {},
   "outputs": [],
   "source": [
    "data_clean = pd.read_csv(\"CleanCSV/Clean01_TipoOperacion.csv\")"
   ]
  },
  {
   "cell_type": "markdown",
   "metadata": {},
   "source": [
    "<hr id=\"Dummies\">\n",
    "<h2 style=\"color: lightblue\">VARIABLES DUMMIE Y SUPERFICIE</h2>"
   ]
  },
  {
   "cell_type": "markdown",
   "metadata": {},
   "source": [
    "### Generamos una lista de palabras claves obtenidas de la columna 'properati_url' ordenadas por cantidad de repeticiones"
   ]
  },
  {
   "cell_type": "code",
   "execution_count": 4,
   "metadata": {},
   "outputs": [],
   "source": [
    "pattern = r'http:\\/\\/www\\.properati.com.ar\\/\\w{6}([\\w*-]*)'\n",
    "pattern_regex = re.compile(pattern)\n",
    "result_match = data['properati_url'].apply(lambda x: pattern_regex.match(x.lower().replace('-','_')))\n",
    "result =  result_match.apply(lambda x: x.group(1).split('_'))\n",
    "\n",
    "list_words = []\n",
    "\n",
    "def generate_words_series(arr):\n",
    "    for x in arr:\n",
    "        list_words.append(str(x))\n",
    "    return\n",
    "\n",
    "result.apply(generate_words_series)\n",
    "\n",
    "serie = pd.Series(list_words)\n",
    "key_words = serie.value_counts()"
   ]
  },
  {
   "cell_type": "code",
   "execution_count": 5,
   "metadata": {},
   "outputs": [
    {
     "data": {
      "text/plain": [
       "venta            121119\n",
       "departamento      71019\n",
       "garage            56620\n",
       "lavadero          44034\n",
       "balcon            42288\n",
       "propiedades       41507\n",
       "casa              40537\n",
       "parrilla          33381\n",
       "piscina           32148\n",
       "luminoso          31865\n",
       "suite             27102\n",
       "placard           26145\n",
       "terraza           25101\n",
       "toilette          22841\n",
       "subte             21984\n",
       "linea             21824\n",
       "patio             21169\n",
       "vestidor          18011\n",
       "jardin            17173\n",
       "quincho           12850\n",
       "aire              12767\n",
       "acondicionado     12763\n",
       "inmobiliaria      12184\n",
       "sum               11665\n",
       "dependencias      11316\n",
       "max               11260\n",
       "re                11258\n",
       "cordoba           11195\n",
       "amenities         10607\n",
       "baulera           10512\n",
       "estrenar          10383\n",
       "vista             10309\n",
       "de                 9768\n",
       "san                9556\n",
       "gimnasio           9363\n",
       "lujoso             9251\n",
       "plata              9215\n",
       "del                9180\n",
       "rosario            8607\n",
       "villa              8473\n",
       "dtype: int64"
      ]
     },
     "metadata": {},
     "output_type": "display_data"
    }
   ],
   "source": [
    "display(key_words.head(40))"
   ]
  },
  {
   "cell_type": "markdown",
   "metadata": {},
   "source": [
    "### a partir de estas palabras claves identificamos las que nos pueden servir para:\n",
    "\n",
    "### - generar variables dummy:\n",
    "* garage\n",
    "* lavadero\n",
    "* balcon  \n",
    "* casa\n",
    "* parrilla\n",
    "* piscina\n",
    "* terraza\n",
    "* patio\n",
    "* jardin\n",
    "* quincho\n",
    "* aire acondicionado\n",
    "* amenities\n",
    "* estrenar\n",
    "* gimnasio\n",
    "\n",
    "opcionales..\n",
    "* baulera\n",
    "* suite\n",
    "* subte - linea\n",
    "* vestidor\n",
    "\n",
    "### - completar datos faltantes\n",
    "* venta\n",
    "* departamento"
   ]
  },
  {
   "cell_type": "markdown",
   "metadata": {},
   "source": [
    "\n",
    "\n",
    "## Ahora hacemos lo mismo con la columna 'descripcion'"
   ]
  },
  {
   "cell_type": "code",
   "execution_count": 6,
   "metadata": {},
   "outputs": [],
   "source": [
    "pattern_desc = r'(\\w\\w\\w\\w\\w*)'\n",
    "pattern_desc_regex = re.compile(pattern_desc, flags=re.IGNORECASE )\n",
    "result_match = data['description'].apply(lambda x: re.finditer(pattern_desc_regex, str(x).lower()))\n",
    "\n",
    "list_words_desc = []\n",
    "\n",
    "def generate_words_series_desc(matches):\n",
    "    for matchNum, match in enumerate(matches, start=1):\n",
    "        for groupNum in range(0, len(match.groups())):\n",
    "            groupNum = groupNum + 1\n",
    "            \n",
    "            cadena = unicodedata.normalize('NFKD', match.group(groupNum)).encode('ASCII', 'ignore') \n",
    "            \n",
    "            list_words_desc.append(cadena)\n",
    "    return\n",
    "\n",
    "result =  result_match.apply(generate_words_series_desc)\n",
    "\n",
    "serie_desc = pd.Series(list_words_desc)\n",
    "key_words_desc = serie_desc.value_counts()"
   ]
  },
  {
   "cell_type": "code",
   "execution_count": 7,
   "metadata": {},
   "outputs": [
    {
     "data": {
      "text/plain": [
       "b'cocina'          110088\n",
       "b'bano'             98520\n",
       "b'comedor'          96205\n",
       "b'para'             85190\n",
       "b'living'           70516\n",
       "b'dormitorios'      67240\n",
       "b'ambientes'        56062\n",
       "b'dormitorio'       53025\n",
       "b'piso'             50769\n",
       "b'completo'         49287\n",
       "b'departamento'     48517\n",
       "b'balcon'           47086\n",
       "b'pisos'            45367\n",
       "b'planta'           44549\n",
       "b'frente'           43095\n",
       "b'casa'             39426\n",
       "b'lavadero'         39128\n",
       "b'excelente'        37242\n",
       "b'amplio'           36923\n",
       "b'edificio'         36296\n",
       "b'venta'            35989\n",
       "b'parrilla'         33136\n",
       "b'cochera'          31810\n",
       "b'cuenta'           31541\n",
       "b'placard'          31247\n",
       "b'suite'            31146\n",
       "b'sobre'            28899\n",
       "b'terraza'          28332\n",
       "b'patio'            25833\n",
       "b'vista'            24966\n",
       "b'mesada'           24908\n",
       "b'gran'             24171\n",
       "b'propiedad'        23457\n",
       "b'baja'             23351\n",
       "b'ubicado'          22884\n",
       "b'barrio'           22826\n",
       "b'esta'             22535\n",
       "b'zona'             22516\n",
       "b'servicio'         22140\n",
       "b'toilette'         22110\n",
       "dtype: int64"
      ]
     },
     "metadata": {},
     "output_type": "display_data"
    }
   ],
   "source": [
    "display(key_words_desc.head(40))"
   ]
  },
  {
   "cell_type": "markdown",
   "metadata": {},
   "source": [
    "### Palabras para generar variables dummy\n",
    "* balcon\n",
    "* frente\n",
    "* parrilla\n",
    "* cochera\n",
    "* terraza\n",
    "\n",
    "\n",
    "Opcionales:\n",
    "suite\n",
    "\n",
    "### Palabras para completar datos faltantes\n",
    "* dormitorio/s\n",
    "* ambientes\n",
    "* piso - planta\n",
    "* departamento - casa - edificio\n",
    "* venta\n",
    "* ubicado - barrio"
   ]
  },
  {
   "cell_type": "markdown",
   "metadata": {},
   "source": [
    "### Creamos una funcion que nos permita:\n",
    "\n",
    "* Observar el contexto de una palabra clave seleccionada dentro de la descripcion\n",
    "* Obtener un set de indices de filas que en su descripcion contienen esa palabra\n",
    "* Determinar cuantas filas queremos recorrer"
   ]
  },
  {
   "cell_type": "code",
   "execution_count": 8,
   "metadata": {},
   "outputs": [],
   "source": [
    "def generate_context_df(word, column, rows=5000, has_context=True):\n",
    "    global data_index\n",
    "    if has_context is True:\n",
    "        pattern_context = r'(?P<context>(\\w*\\W?\\s\\W?){0,4}' + word + '(\\w*\\W?\\s\\W?){0,4})'\n",
    "    else:    \n",
    "        pattern_context = word\n",
    "\n",
    "    pattern_context_regex = re.compile(pattern_context, flags=re.IGNORECASE )\n",
    "    result_match = data[column].apply(lambda x: re.finditer(pattern_context_regex, str(x).lower()))\n",
    "\n",
    "    list_words_desc_context = []\n",
    "    list_words_desc_index = []\n",
    "    data_index = 0\n",
    "    df_context = pd.DataFrame()\n",
    "        \n",
    "    def generate_context_df(matches):\n",
    "        global data_index\n",
    "        for matchNum, match in enumerate(matches, start=1):  \n",
    "            if has_context is True:\n",
    "                context = match.group('context')     \n",
    "                list_words_desc_context.append(context)\n",
    "            list_words_desc_index.append(data_index)\n",
    "        data_index += 1\n",
    "        return\n",
    "    \n",
    "    if rows == 0:\n",
    "        result = result_match.apply(generate_context_df)\n",
    "    else:\n",
    "        result = result_match[0:rows].apply(generate_context_df)\n",
    "        \n",
    "    if has_context is True:\n",
    "        df_context['context'] = list_words_desc_context\n",
    "        \n",
    "    df_context['index'] = list_words_desc_index\n",
    "    print('cantidad de matches: ', df_context.shape[0], ' en ', rows if rows != 0 else 'TODOS los' , ' registros buscados')\n",
    "    return df_context"
   ]
  },
  {
   "cell_type": "markdown",
   "metadata": {},
   "source": [
    "### Comprobamos su funcionamiento solicitando 5000 registros de la potencial variable dummy 'garage|cochera'"
   ]
  },
  {
   "cell_type": "code",
   "execution_count": 9,
   "metadata": {},
   "outputs": [
    {
     "name": "stdout",
     "output_type": "stream",
     "text": [
      "cantidad de matches:  2726  en  5000  registros buscados\n"
     ]
    },
    {
     "data": {
      "text/html": [
       "<div>\n",
       "<style scoped>\n",
       "    .dataframe tbody tr th:only-of-type {\n",
       "        vertical-align: middle;\n",
       "    }\n",
       "\n",
       "    .dataframe tbody tr th {\n",
       "        vertical-align: top;\n",
       "    }\n",
       "\n",
       "    .dataframe thead th {\n",
       "        text-align: right;\n",
       "    }\n",
       "</style>\n",
       "<table border=\"1\" class=\"dataframe\">\n",
       "  <thead>\n",
       "    <tr style=\"text-align: right;\">\n",
       "      <th></th>\n",
       "      <th>context</th>\n",
       "      <th>index</th>\n",
       "    </tr>\n",
       "  </thead>\n",
       "  <tbody>\n",
       "    <tr>\n",
       "      <th>0</th>\n",
       "      <td>cochera semicubierta.</td>\n",
       "      <td>1</td>\n",
       "    </tr>\n",
       "    <tr>\n",
       "      <th>1</th>\n",
       "      <td>cochera</td>\n",
       "      <td>10</td>\n",
       "    </tr>\n",
       "    <tr>\n",
       "      <th>2</th>\n",
       "      <td>cochera y jardín propio,</td>\n",
       "      <td>15</td>\n",
       "    </tr>\n",
       "    <tr>\n",
       "      <th>3</th>\n",
       "      <td>cochera fija subterranea y</td>\n",
       "      <td>17</td>\n",
       "    </tr>\n",
       "    <tr>\n",
       "      <th>4</th>\n",
       "      <td>cochera. en cumplimiento de</td>\n",
       "      <td>23</td>\n",
       "    </tr>\n",
       "    <tr>\n",
       "      <th>5</th>\n",
       "      <td>cochera. entrega marzo</td>\n",
       "      <td>24</td>\n",
       "    </tr>\n",
       "    <tr>\n",
       "      <th>6</th>\n",
       "      <td>cochera</td>\n",
       "      <td>24</td>\n",
       "    </tr>\n",
       "    <tr>\n",
       "      <th>7</th>\n",
       "      <td>cochera. entrega marzo</td>\n",
       "      <td>25</td>\n",
       "    </tr>\n",
       "    <tr>\n",
       "      <th>8</th>\n",
       "      <td>cochera</td>\n",
       "      <td>25</td>\n",
       "    </tr>\n",
       "    <tr>\n",
       "      <th>9</th>\n",
       "      <td>cochera. entrega marzo</td>\n",
       "      <td>28</td>\n",
       "    </tr>\n",
       "  </tbody>\n",
       "</table>\n",
       "</div>"
      ],
      "text/plain": [
       "                        context  index\n",
       "0        cochera semicubierta.       1\n",
       "1                       cochera     10\n",
       "2     cochera y jardín propio,      15\n",
       "3   cochera fija subterranea y      17\n",
       "4  cochera. en cumplimiento de      23\n",
       "5       cochera. entrega marzo      24\n",
       "6                       cochera     24\n",
       "7       cochera. entrega marzo      25\n",
       "8                       cochera     25\n",
       "9       cochera. entrega marzo      28"
      ]
     },
     "execution_count": 9,
     "metadata": {},
     "output_type": "execute_result"
    }
   ],
   "source": [
    "generate_context_df(\"garage|cochera\", \"description\", 5000, True).head(10)"
   ]
  },
  {
   "cell_type": "markdown",
   "metadata": {},
   "source": [
    "### Creamos una funcion que nos permite generar variables dummies a partir de palabras clave"
   ]
  },
  {
   "cell_type": "code",
   "execution_count": 10,
   "metadata": {},
   "outputs": [],
   "source": [
    "def create_dummy(data, data_dummy, column_name):\n",
    "    data_dummy.drop_duplicates(inplace=True)\n",
    "    col_dummy_name = column_name + '_dummy'\n",
    "    data_dummy[col_dummy_name] = True\n",
    "    data_clean_dummy = pd.merge(data, data_dummy, how='left', left_on='Unnamed: 0', right_on='index')\n",
    "    del data_clean_dummy['index']\n",
    "    data_clean_dummy[col_dummy_name].fillna(False, inplace=True)\n",
    "    print('Col generada: ' + column_name + '_dummy')\n",
    "    return data_clean_dummy"
   ]
  },
  {
   "cell_type": "markdown",
   "metadata": {},
   "source": [
    "### Creamos una lista de palabras claves que recorremos utilizando la funcion mencionada anteriormente\n",
    "\n",
    "como resultado vamos a haber agregado a nuestro DataFrame una columna por cada variable dummy"
   ]
  },
  {
   "cell_type": "code",
   "execution_count": 11,
   "metadata": {},
   "outputs": [
    {
     "name": "stdout",
     "output_type": "stream",
     "text": [
      "cantidad de matches:  63489  en  TODOS los  registros buscados\n",
      "Col generada: garage|cochera_dummy\n",
      "cantidad de matches:  40637  en  TODOS los  registros buscados\n",
      "Col generada: lavadero_dummy\n",
      "cantidad de matches:  19817  en  TODOS los  registros buscados\n",
      "Col generada: balcon_dummy\n",
      "cantidad de matches:  38015  en  TODOS los  registros buscados\n",
      "Col generada: parrilla_dummy\n",
      "cantidad de matches:  18059  en  TODOS los  registros buscados\n",
      "Col generada: piscina_dummy\n",
      "cantidad de matches:  35678  en  TODOS los  registros buscados\n",
      "Col generada: terraza_dummy\n",
      "cantidad de matches:  27922  en  TODOS los  registros buscados\n",
      "Col generada: patio_dummy\n",
      "cantidad de matches:  9955  en  TODOS los  registros buscados\n",
      "Col generada: jardin_dummy\n",
      "cantidad de matches:  14636  en  TODOS los  registros buscados\n",
      "Col generada: quincho_dummy\n",
      "cantidad de matches:  12429  en  TODOS los  registros buscados\n",
      "Col generada: aire acondicionado_dummy\n",
      "cantidad de matches:  12381  en  TODOS los  registros buscados\n",
      "Col generada: amenities_dummy\n",
      "cantidad de matches:  11504  en  TODOS los  registros buscados\n",
      "Col generada: estrenar_dummy\n",
      "cantidad de matches:  7295  en  TODOS los  registros buscados\n",
      "Col generada: gimnasio_dummy\n",
      "cantidad de matches:  57184  en  TODOS los  registros buscados\n",
      "Col generada: frente_dummy\n",
      "cantidad de matches:  8539  en  TODOS los  registros buscados\n",
      "Col generada: subte_dummy\n",
      "cantidad de matches:  12131  en  TODOS los  registros buscados\n",
      "Col generada: baulera_dummy\n"
     ]
    }
   ],
   "source": [
    "list_columnas_dummy = ['garage|cochera', 'lavadero', 'balcon', 'parrilla', 'piscina', 'terraza', 'patio', 'jardin', 'quincho', 'aire acondicionado', 'amenities', 'estrenar', 'gimnasio', 'frente', 'subte', 'baulera' ]\n",
    "for columna in list_columnas_dummy:\n",
    "    data_dummy = generate_context_df(columna, \"description\", 0, False)\n",
    "    data_clean =create_dummy(data_clean, data_dummy, columna)"
   ]
  },
  {
   "cell_type": "code",
   "execution_count": 12,
   "metadata": {},
   "outputs": [
    {
     "data": {
      "text/html": [
       "<div>\n",
       "<style scoped>\n",
       "    .dataframe tbody tr th:only-of-type {\n",
       "        vertical-align: middle;\n",
       "    }\n",
       "\n",
       "    .dataframe tbody tr th {\n",
       "        vertical-align: top;\n",
       "    }\n",
       "\n",
       "    .dataframe thead th {\n",
       "        text-align: right;\n",
       "    }\n",
       "</style>\n",
       "<table border=\"1\" class=\"dataframe\">\n",
       "  <thead>\n",
       "    <tr style=\"text-align: right;\">\n",
       "      <th></th>\n",
       "      <th>garage|cochera_dummy</th>\n",
       "      <th>lavadero_dummy</th>\n",
       "      <th>balcon_dummy</th>\n",
       "      <th>parrilla_dummy</th>\n",
       "      <th>piscina_dummy</th>\n",
       "      <th>terraza_dummy</th>\n",
       "      <th>patio_dummy</th>\n",
       "      <th>jardin_dummy</th>\n",
       "      <th>quincho_dummy</th>\n",
       "      <th>aire acondicionado_dummy</th>\n",
       "      <th>amenities_dummy</th>\n",
       "      <th>estrenar_dummy</th>\n",
       "      <th>gimnasio_dummy</th>\n",
       "      <th>frente_dummy</th>\n",
       "      <th>subte_dummy</th>\n",
       "      <th>baulera_dummy</th>\n",
       "    </tr>\n",
       "  </thead>\n",
       "  <tbody>\n",
       "    <tr>\n",
       "      <th>0</th>\n",
       "      <td>False</td>\n",
       "      <td>True</td>\n",
       "      <td>False</td>\n",
       "      <td>False</td>\n",
       "      <td>False</td>\n",
       "      <td>False</td>\n",
       "      <td>True</td>\n",
       "      <td>False</td>\n",
       "      <td>False</td>\n",
       "      <td>False</td>\n",
       "      <td>False</td>\n",
       "      <td>False</td>\n",
       "      <td>False</td>\n",
       "      <td>False</td>\n",
       "      <td>False</td>\n",
       "      <td>False</td>\n",
       "    </tr>\n",
       "    <tr>\n",
       "      <th>1</th>\n",
       "      <td>True</td>\n",
       "      <td>True</td>\n",
       "      <td>False</td>\n",
       "      <td>False</td>\n",
       "      <td>False</td>\n",
       "      <td>False</td>\n",
       "      <td>False</td>\n",
       "      <td>False</td>\n",
       "      <td>False</td>\n",
       "      <td>False</td>\n",
       "      <td>False</td>\n",
       "      <td>True</td>\n",
       "      <td>False</td>\n",
       "      <td>True</td>\n",
       "      <td>False</td>\n",
       "      <td>False</td>\n",
       "    </tr>\n",
       "    <tr>\n",
       "      <th>2</th>\n",
       "      <td>False</td>\n",
       "      <td>True</td>\n",
       "      <td>False</td>\n",
       "      <td>False</td>\n",
       "      <td>False</td>\n",
       "      <td>False</td>\n",
       "      <td>False</td>\n",
       "      <td>False</td>\n",
       "      <td>False</td>\n",
       "      <td>False</td>\n",
       "      <td>False</td>\n",
       "      <td>False</td>\n",
       "      <td>False</td>\n",
       "      <td>False</td>\n",
       "      <td>False</td>\n",
       "      <td>False</td>\n",
       "    </tr>\n",
       "  </tbody>\n",
       "</table>\n",
       "</div>"
      ],
      "text/plain": [
       "   garage|cochera_dummy  lavadero_dummy  balcon_dummy  parrilla_dummy  piscina_dummy  terraza_dummy  patio_dummy  jardin_dummy  quincho_dummy  aire acondicionado_dummy  amenities_dummy  estrenar_dummy  gimnasio_dummy  frente_dummy  subte_dummy  baulera_dummy\n",
       "0                 False            True         False           False          False          False         True         False          False                     False            False           False           False         False        False          False\n",
       "1                  True            True         False           False          False          False        False         False          False                     False            False            True           False          True        False          False\n",
       "2                 False            True         False           False          False          False        False         False          False                     False            False           False           False         False        False          False"
      ]
     },
     "execution_count": 12,
     "metadata": {},
     "output_type": "execute_result"
    }
   ],
   "source": [
    "data_clean[data_clean.columns[-16:]].head(3)"
   ]
  },
  {
   "cell_type": "markdown",
   "metadata": {},
   "source": [
    "### Ahora vamos a trabajar sobre la columna 'descripcion' para:\n",
    "\n",
    "* capturar los valores en m2 de las descripciones donde existan faltantes\n",
    "* obervar el contexto de los valores capturados\n",
    "* preservar el indice para una posterior imputación de datos\n",
    "* crear una lista de palabras claves a buscar ordenadas por cantidad de repeticiones"
   ]
  },
  {
   "cell_type": "code",
   "execution_count": 13,
   "metadata": {},
   "outputs": [
    {
     "data": {
      "text/html": [
       "<div>\n",
       "<style scoped>\n",
       "    .dataframe tbody tr th:only-of-type {\n",
       "        vertical-align: middle;\n",
       "    }\n",
       "\n",
       "    .dataframe tbody tr th {\n",
       "        vertical-align: top;\n",
       "    }\n",
       "\n",
       "    .dataframe thead th {\n",
       "        text-align: right;\n",
       "    }\n",
       "</style>\n",
       "<table border=\"1\" class=\"dataframe\">\n",
       "  <thead>\n",
       "    <tr style=\"text-align: right;\">\n",
       "      <th></th>\n",
       "      <th>before</th>\n",
       "      <th>m2</th>\n",
       "      <th>after</th>\n",
       "      <th>index</th>\n",
       "    </tr>\n",
       "  </thead>\n",
       "  <tbody>\n",
       "    <tr>\n",
       "      <th>0</th>\n",
       "      <td>y servicios. lote de</td>\n",
       "      <td>1514</td>\n",
       "      <td>.</td>\n",
       "      <td>10</td>\n",
       "    </tr>\n",
       "    <tr>\n",
       "      <th>1</th>\n",
       "      <td></td>\n",
       "      <td>23</td>\n",
       "      <td>contado u$d250.000haus</td>\n",
       "      <td>15</td>\n",
       "    </tr>\n",
       "    <tr>\n",
       "      <th>2</th>\n",
       "      <td>x83o de</td>\n",
       "      <td>50</td>\n",
       "      <td>cuadrados,con terraza y</td>\n",
       "      <td>65</td>\n",
       "    </tr>\n",
       "    <tr>\n",
       "      <th>3</th>\n",
       "      <td>balcon. super luminoso tiene</td>\n",
       "      <td>38</td>\n",
       "      <td>aprox. cuenta con ban\\</td>\n",
       "      <td>66</td>\n",
       "    </tr>\n",
       "    <tr>\n",
       "      <th>4</th>\n",
       "      <td>monoambientes de</td>\n",
       "      <td>22</td>\n",
       "      <td>+ 5.30m21 dormitorio</td>\n",
       "      <td>101</td>\n",
       "    </tr>\n",
       "    <tr>\n",
       "      <th>5</th>\n",
       "      <td>al frente de</td>\n",
       "      <td>36</td>\n",
       "      <td>+ 5.30m21 dormitorio</td>\n",
       "      <td>101</td>\n",
       "    </tr>\n",
       "    <tr>\n",
       "      <th>6</th>\n",
       "      <td></td>\n",
       "      <td>50</td>\n",
       "      <td>+ 2.30m22 dormitorios</td>\n",
       "      <td>101</td>\n",
       "    </tr>\n",
       "    <tr>\n",
       "      <th>7</th>\n",
       "      <td></td>\n",
       "      <td>50</td>\n",
       "      <td>+ 2.70m2entrega enero</td>\n",
       "      <td>101</td>\n",
       "    </tr>\n",
       "    <tr>\n",
       "      <th>8</th>\n",
       "      <td>monoambientes de</td>\n",
       "      <td>22</td>\n",
       "      <td>+ 5.30m21 dormitorio</td>\n",
       "      <td>102</td>\n",
       "    </tr>\n",
       "    <tr>\n",
       "      <th>9</th>\n",
       "      <td>al frente de</td>\n",
       "      <td>36</td>\n",
       "      <td>+ 5.30m21 dormitorio</td>\n",
       "      <td>102</td>\n",
       "    </tr>\n",
       "    <tr>\n",
       "      <th>10</th>\n",
       "      <td></td>\n",
       "      <td>50</td>\n",
       "      <td>+ 2.30m22 dormitorios</td>\n",
       "      <td>102</td>\n",
       "    </tr>\n",
       "    <tr>\n",
       "      <th>11</th>\n",
       "      <td></td>\n",
       "      <td>50</td>\n",
       "      <td>+ 2.70m2entrega enero</td>\n",
       "      <td>102</td>\n",
       "    </tr>\n",
       "    <tr>\n",
       "      <th>12</th>\n",
       "      <td>sup. cub</td>\n",
       "      <td>60</td>\n",
       "      <td>'</td>\n",
       "      <td>109</td>\n",
       "    </tr>\n",
       "    <tr>\n",
       "      <th>13</th>\n",
       "      <td>centro de san isidro,</td>\n",
       "      <td>90</td>\n",
       "      <td>cubiertos ma\\xcc\\x83\\</td>\n",
       "      <td>111</td>\n",
       "    </tr>\n",
       "    <tr>\n",
       "      <th>14</th>\n",
       "      <td>xa1s terraza de</td>\n",
       "      <td>25</td>\n",
       "      <td>.1a\\xcc\\x82o piso:</td>\n",
       "      <td>111</td>\n",
       "    </tr>\n",
       "    <tr>\n",
       "      <th>15</th>\n",
       "      <td>centro de san isidro,</td>\n",
       "      <td>90</td>\n",
       "      <td>cubiertos ma\\xcc\\x83\\</td>\n",
       "      <td>112</td>\n",
       "    </tr>\n",
       "    <tr>\n",
       "      <th>16</th>\n",
       "      <td>xa1s terraza de</td>\n",
       "      <td>25</td>\n",
       "      <td>.1a\\xcc\\x82o piso:</td>\n",
       "      <td>112</td>\n",
       "    </tr>\n",
       "    <tr>\n",
       "      <th>17</th>\n",
       "      <td>la planta baja son</td>\n",
       "      <td>63</td>\n",
       "      <td>cubiertos y en el</td>\n",
       "      <td>137</td>\n",
       "    </tr>\n",
       "    <tr>\n",
       "      <th>18</th>\n",
       "      <td>primer piso otros</td>\n",
       "      <td>63</td>\n",
       "      <td>cubiertos + 4 m2</td>\n",
       "      <td>137</td>\n",
       "    </tr>\n",
       "    <tr>\n",
       "      <th>19</th>\n",
       "      <td>descubiertos de patio +</td>\n",
       "      <td>26</td>\n",
       "      <td>de terraza. pueden proyectarse</td>\n",
       "      <td>137</td>\n",
       "    </tr>\n",
       "  </tbody>\n",
       "</table>\n",
       "</div>"
      ],
      "text/plain": [
       "                           before    m2                            after  index\n",
       "0           y servicios. lote de   1514                     .                10\n",
       "1                                    23          contado u$d250.000haus      15\n",
       "2                        x83o de     50         cuadrados,con terraza y      65\n",
       "3   balcon. super luminoso tiene     38           aprox. cuenta con ban\\     66\n",
       "4               monoambientes de     22            + 5.30m21 dormitorio     101\n",
       "5                   al frente de     36            + 5.30m21 dormitorio     101\n",
       "6                                    50           + 2.30m22 dormitorios     101\n",
       "7                                    50           + 2.70m2entrega enero     101\n",
       "8               monoambientes de     22            + 5.30m21 dormitorio     102\n",
       "9                   al frente de     36            + 5.30m21 dormitorio     102\n",
       "10                                   50           + 2.30m22 dormitorios     102\n",
       "11                                   50           + 2.70m2entrega enero     102\n",
       "12                      sup. cub     60                                '    109\n",
       "13         centro de san isidro,     90            cubiertos ma\\xcc\\x83\\    111\n",
       "14               xa1s terraza de     25              .1a\\xcc\\x82o piso:     111\n",
       "15         centro de san isidro,     90            cubiertos ma\\xcc\\x83\\    112\n",
       "16               xa1s terraza de     25              .1a\\xcc\\x82o piso:     112\n",
       "17            la planta baja son     63               cubiertos y en el     137\n",
       "18             primer piso otros     63                cubiertos + 4 m2     137\n",
       "19       descubiertos de patio +     26  de terraza. pueden proyectarse     137"
      ]
     },
     "metadata": {},
     "output_type": "display_data"
    },
    {
     "name": "stdout",
     "output_type": "stream",
     "text": [
      "cantidad de matches:  75476\n"
     ]
    }
   ],
   "source": [
    "#tomamos solo las filas con faltantes en los campos de m2\n",
    "#normalizamos las cadenas de texto para remover caracteres especiales\n",
    "mask_m2_any_null = data.surface_total_in_m2.isnull() | data.surface_covered_in_m2.isnull()\n",
    "data_m2_null = data.loc[mask_m2_any_null, 'description'].apply(lambda x: unicodedata.normalize('NFKD', str(x)).encode('utf-8', 'ignore').lower())\n",
    "\n",
    "#generamos un patron que captura el valor de los m2 y el contexto en el que fue encontrado\n",
    "pattern_m2 = r'(?P<before>(\\w*\\W?\\s\\W?){0,4})\\s?(?P<value>\\d{1,5})\\s*(m2|metros)\\s?(?P<after>(\\W?\\w*\\W?\\s?){0,4})'\n",
    "\n",
    "pattern_m2_regex = re.compile(pattern_m2, flags=re.IGNORECASE )\n",
    "result_match = data_m2_null.apply(lambda x: re.finditer(pattern_m2_regex, str(x)))\n",
    "\n",
    "df_result_match = result_match.to_frame().copy()\n",
    "df_result_match['indice'] = result_match.to_frame().index\n",
    "df_result_match\n",
    "\n",
    "list_words_desc_after = []\n",
    "list_words_desc_before = []\n",
    "list_words_desc_values = []\n",
    "list_words_desc_index = []\n",
    "\n",
    "df_m2 = pd.DataFrame(columns=('before', 'm2', 'after', 'index'))\n",
    "\n",
    "#recorremos los resultados\n",
    "for index, row in df_result_match.iterrows():\n",
    "    matches = row['description']\n",
    "    indice = row['indice']\n",
    "    for match in matches:  \n",
    "        before = match.group('before')\n",
    "        after =  match.group('after')\n",
    "        value = match.group('value').strip()    \n",
    "\n",
    "        list_words_desc_before.append(before)\n",
    "        list_words_desc_values.append(value)\n",
    "        list_words_desc_index.append(indice)\n",
    "        list_words_desc_after.append(after)\n",
    "\n",
    "df_m2['m2'] = list_words_desc_values\n",
    "df_m2['before'] = list_words_desc_before\n",
    "df_m2['index'] = list_words_desc_index\n",
    "df_m2['after'] = list_words_desc_after\n",
    "display(df_m2.head(20))\n",
    "print('cantidad de matches: ', df_m2.size)"
   ]
  },
  {
   "cell_type": "markdown",
   "metadata": {},
   "source": [
    "### Generamos una lista de palabras claves tomadas del contexto del DataFrame anterior\n",
    "### Estas palabras nos permitirán, luego, imputar datos faltantes en m2"
   ]
  },
  {
   "cell_type": "code",
   "execution_count": 14,
   "metadata": {},
   "outputs": [
    {
     "data": {
      "text/plain": [
       "con             3685\n",
       "superficie      2197\n",
       "cubiertos       1587\n",
       "lote            1458\n",
       "total           1192\n",
       "cubierta        1191\n",
       "sobre           1180\n",
       "terreno         1156\n",
       "una              956\n",
       "sup              802\n",
       "frente           760\n",
       "casa             719\n",
       "planta           712\n",
       "x81n             704\n",
       "aprox            688\n",
       "ambientes        669\n",
       "totales          600\n",
       "dos              585\n",
       "por              583\n",
       "del              575\n",
       "cuadrados        565\n",
       "departamento     541\n",
       "los              534\n",
       "terraza          493\n",
       "cocina           471\n",
       "piso             470\n",
       "cuenta           452\n",
       "dormitorios      452\n",
       "living           451\n",
       "comedor          410\n",
       "dtype: int64"
      ]
     },
     "execution_count": 14,
     "metadata": {},
     "output_type": "execute_result"
    }
   ],
   "source": [
    "keys_m2 = list_words_desc_before + list_words_desc_after\n",
    "list_keys_words_m2 = []\n",
    "for key in keys_m2:\n",
    "    list_key_words = key.replace('.', '').replace(',', '').replace(':', '').split(' ')\n",
    "    for word in list_key_words:\n",
    "        if (word != '') & (len(word) > 2):\n",
    "            list_keys_words_m2.append(word)\n",
    "        \n",
    "list_keys_words_m2\n",
    "\n",
    "serie_keys_words_m2 = pd.Series(list_keys_words_m2)\n",
    "serie_keys_words_m2_counts = serie_keys_words_m2.value_counts()\n",
    "serie_keys_words_m2_counts.head(30)"
   ]
  },
  {
   "cell_type": "markdown",
   "metadata": {},
   "source": [
    "### Elegimos de la lista las palabras mas relevantes\n",
    "### Creamos a partir de ellas dos series con los cuales imputaremos valores en las columnas 'surface_total_in_m2' y 'surface_covered_in_m2'"
   ]
  },
  {
   "cell_type": "code",
   "execution_count": 15,
   "metadata": {},
   "outputs": [
    {
     "name": "stdout",
     "output_type": "stream",
     "text": [
      "cantidad de veces que TOTAL fué encontrada:  1969\n",
      "cantidad de veces que *sup cub* y *cubiert* fueron encontradas:  3641\n"
     ]
    }
   ],
   "source": [
    "#Unimos las columnas de contexto\n",
    "df_m2['context'] = df_m2['before'] + \" \" + df_m2['after']\n",
    "\n",
    "#buscamos los m2 totales\n",
    "WORD = \"total\" #buscamos los m2 totales\n",
    "\n",
    "key_word_mask_totales = df_m2['context'].apply(lambda x: True if WORD in x else False)\n",
    "print('cantidad de veces que', WORD.upper(), 'fué encontrada: ', key_word_mask_totales.sum())\n",
    "\n",
    "#df_m2_totales = df_m2.loc[key_word_mask,[\"m2\",\"index\"]]\n",
    "df_m2_totales = df_m2.loc[key_word_mask_totales,[\"m2\",\"index\"]]\n",
    "\n",
    "#buscamos los m2 cubiertos\n",
    "list_words = [\"sup cub\", \"cubiert\"] \n",
    "\n",
    "def find_list_words_m2(list, row):\n",
    "    existe = False\n",
    "    for word in list:\n",
    "        if word in row:\n",
    "            existe = True\n",
    "    return existe\n",
    "\n",
    "key_word_mask_cubiertos = df_m2['context'].apply(lambda x : find_list_words_m2(list_words, x))\n",
    "print('cantidad de veces que *sup cub* y *cubiert* fueron encontradas: ', key_word_mask_cubiertos.sum())\n",
    "\n",
    "df_m2_cubiertos = df_m2.loc[key_word_mask_cubiertos,[\"m2\",\"index\", \"context\"]]"
   ]
  },
  {
   "cell_type": "code",
   "execution_count": 16,
   "metadata": {},
   "outputs": [
    {
     "data": {
      "text/html": [
       "<div>\n",
       "<style scoped>\n",
       "    .dataframe tbody tr th:only-of-type {\n",
       "        vertical-align: middle;\n",
       "    }\n",
       "\n",
       "    .dataframe tbody tr th {\n",
       "        vertical-align: top;\n",
       "    }\n",
       "\n",
       "    .dataframe thead th {\n",
       "        text-align: right;\n",
       "    }\n",
       "</style>\n",
       "<table border=\"1\" class=\"dataframe\">\n",
       "  <thead>\n",
       "    <tr style=\"text-align: right;\">\n",
       "      <th></th>\n",
       "      <th>m2</th>\n",
       "    </tr>\n",
       "    <tr>\n",
       "      <th>index</th>\n",
       "      <th></th>\n",
       "    </tr>\n",
       "  </thead>\n",
       "  <tbody>\n",
       "    <tr>\n",
       "      <th>175</th>\n",
       "      <td>88</td>\n",
       "    </tr>\n",
       "    <tr>\n",
       "      <th>491</th>\n",
       "      <td>122</td>\n",
       "    </tr>\n",
       "    <tr>\n",
       "      <th>538</th>\n",
       "      <td>2290</td>\n",
       "    </tr>\n",
       "    <tr>\n",
       "      <th>539</th>\n",
       "      <td>2290</td>\n",
       "    </tr>\n",
       "    <tr>\n",
       "      <th>869</th>\n",
       "      <td>84</td>\n",
       "    </tr>\n",
       "    <tr>\n",
       "      <th>...</th>\n",
       "      <td>...</td>\n",
       "    </tr>\n",
       "    <tr>\n",
       "      <th>120585</th>\n",
       "      <td>110</td>\n",
       "    </tr>\n",
       "    <tr>\n",
       "      <th>120633</th>\n",
       "      <td>56</td>\n",
       "    </tr>\n",
       "    <tr>\n",
       "      <th>120634</th>\n",
       "      <td>655</td>\n",
       "    </tr>\n",
       "    <tr>\n",
       "      <th>120722</th>\n",
       "      <td>116</td>\n",
       "    </tr>\n",
       "    <tr>\n",
       "      <th>120929</th>\n",
       "      <td>287</td>\n",
       "    </tr>\n",
       "  </tbody>\n",
       "</table>\n",
       "<p>1827 rows × 1 columns</p>\n",
       "</div>"
      ],
      "text/plain": [
       "          m2\n",
       "index       \n",
       "175       88\n",
       "491      122\n",
       "538     2290\n",
       "539     2290\n",
       "869       84\n",
       "...      ...\n",
       "120585   110\n",
       "120633    56\n",
       "120634   655\n",
       "120722   116\n",
       "120929   287\n",
       "\n",
       "[1827 rows x 1 columns]"
      ]
     },
     "execution_count": 16,
     "metadata": {},
     "output_type": "execute_result"
    }
   ],
   "source": [
    "m2_totales_a_imputar = df_m2_totales.groupby('index').max()\n",
    "m2_totales_a_imputar"
   ]
  },
  {
   "cell_type": "markdown",
   "metadata": {},
   "source": [
    "### Reemplazamos los valores obtenidos para 'm2 totales'"
   ]
  },
  {
   "cell_type": "code",
   "execution_count": 17,
   "metadata": {},
   "outputs": [
    {
     "name": "stdout",
     "output_type": "stream",
     "text": [
      "\n",
      " ..data_clean.loc[m2_totales_a_imputar.index, 'surface_total_in_m2']:\n"
     ]
    },
    {
     "data": {
      "text/plain": [
       "index\n",
       "175         NaN\n",
       "491         NaN\n",
       "538         NaN\n",
       "539         NaN\n",
       "869         NaN\n",
       "          ...  \n",
       "120585      NaN\n",
       "120633      NaN\n",
       "120634      NaN\n",
       "120722    116.0\n",
       "120929    287.0\n",
       "Name: surface_total_in_m2, Length: 1827, dtype: float64"
      ]
     },
     "metadata": {},
     "output_type": "display_data"
    },
    {
     "name": "stdout",
     "output_type": "stream",
     "text": [
      "\n",
      ".. data_clean.loc[mask_m2_total_imputar_null_final.index, 'surface_total_in_m2']:\n"
     ]
    },
    {
     "data": {
      "text/plain": [
       "index\n",
       "175      NaN\n",
       "491      NaN\n",
       "538      NaN\n",
       "539      NaN\n",
       "869      NaN\n",
       "          ..\n",
       "120184   NaN\n",
       "120527   NaN\n",
       "120585   NaN\n",
       "120633   NaN\n",
       "120634   NaN\n",
       "Name: surface_total_in_m2, Length: 1549, dtype: float64"
      ]
     },
     "execution_count": 17,
     "metadata": {},
     "output_type": "execute_result"
    }
   ],
   "source": [
    "print(\"\\n ..data_clean.loc[m2_totales_a_imputar.index, 'surface_total_in_m2']:\")\n",
    "display(data_clean.loc[m2_totales_a_imputar.index, 'surface_total_in_m2']) \n",
    "# ALGUNOS YA TIENE VALORES, NO LOS VAMOS A SOBREESCRIBIR.\n",
    "mask_m2_total_imputar_null = data_clean.loc[m2_totales_a_imputar.index, 'surface_total_in_m2'].isnull()\n",
    "mask_m2_total_imputar_null_final= mask_m2_total_imputar_null[mask_m2_total_imputar_null]   \n",
    "# SOLO VAMOS A IMPUTAR DONDE NO TENGO NINGÚN VALOR\n",
    "print(\"\\n.. data_clean.loc[mask_m2_total_imputar_null_final.index, 'surface_total_in_m2']:\")\n",
    "data_clean.loc[mask_m2_total_imputar_null_final.index, 'surface_total_in_m2']"
   ]
  },
  {
   "cell_type": "code",
   "execution_count": 18,
   "metadata": {},
   "outputs": [
    {
     "name": "stdout",
     "output_type": "stream",
     "text": [
      "\n",
      " ..data_clean:\n"
     ]
    },
    {
     "data": {
      "text/plain": [
       "index\n",
       "175      NaN\n",
       "491      NaN\n",
       "538      NaN\n",
       "539      NaN\n",
       "869      NaN\n",
       "          ..\n",
       "120184   NaN\n",
       "120527   NaN\n",
       "120585   NaN\n",
       "120633   NaN\n",
       "120634   NaN\n",
       "Name: surface_total_in_m2, Length: 1549, dtype: float64"
      ]
     },
     "metadata": {},
     "output_type": "display_data"
    },
    {
     "name": "stdout",
     "output_type": "stream",
     "text": [
      "\n",
      " Luego de imputarlos..data_clean:\n"
     ]
    },
    {
     "data": {
      "text/plain": [
       "index\n",
       "175         88\n",
       "491        122\n",
       "538       2290\n",
       "539       2290\n",
       "869         84\n",
       "          ... \n",
       "120184      95\n",
       "120527      89\n",
       "120585     110\n",
       "120633      56\n",
       "120634     655\n",
       "Name: surface_total_in_m2, Length: 1549, dtype: object"
      ]
     },
     "metadata": {},
     "output_type": "display_data"
    },
    {
     "name": "stdout",
     "output_type": "stream",
     "text": [
      "\n",
      " m2_totales_a_imputar:\n"
     ]
    },
    {
     "data": {
      "text/plain": [
       "index\n",
       "175         88\n",
       "491        122\n",
       "538       2290\n",
       "539       2290\n",
       "869         84\n",
       "          ... \n",
       "120184      95\n",
       "120527      89\n",
       "120585     110\n",
       "120633      56\n",
       "120634     655\n",
       "Name: m2, Length: 1549, dtype: object"
      ]
     },
     "execution_count": 18,
     "metadata": {},
     "output_type": "execute_result"
    }
   ],
   "source": [
    "print('\\n ..data_clean:')\n",
    "display(data_clean.loc[mask_m2_total_imputar_null_final.index, 'surface_total_in_m2'])\n",
    "data_clean.loc[mask_m2_total_imputar_null_final.index, 'surface_total_in_m2'] = \\\n",
    "                                                m2_totales_a_imputar.loc[mask_m2_total_imputar_null_final.index, 'm2']\n",
    "\n",
    "print('\\n Luego de imputarlos..data_clean:')\n",
    "display(data_clean.loc[mask_m2_total_imputar_null_final.index, 'surface_total_in_m2'])\n",
    "\n",
    "print('\\n m2_totales_a_imputar:')\n",
    "m2_totales_a_imputar.loc[mask_m2_total_imputar_null_final.index, 'm2']"
   ]
  },
  {
   "cell_type": "markdown",
   "metadata": {},
   "source": [
    "### Pequeña verificación de la asignación"
   ]
  },
  {
   "cell_type": "code",
   "execution_count": 19,
   "metadata": {},
   "outputs": [
    {
     "name": "stdout",
     "output_type": "stream",
     "text": [
      "\n",
      " ..data_clean:\n"
     ]
    },
    {
     "data": {
      "text/plain": [
       "537     NaN\n",
       "538    2290\n",
       "539    2290\n",
       "540     NaN\n",
       "Name: surface_total_in_m2, dtype: object"
      ]
     },
     "metadata": {},
     "output_type": "display_data"
    },
    {
     "name": "stdout",
     "output_type": "stream",
     "text": [
      "\n",
      " ..m2_totales_a_imputar:\n"
     ]
    },
    {
     "data": {
      "text/plain": [
       "index\n",
       "538    2290\n",
       "539    2290\n",
       "Name: m2, dtype: object"
      ]
     },
     "metadata": {},
     "output_type": "display_data"
    }
   ],
   "source": [
    "print('\\n ..data_clean:')\n",
    "display(data_clean.loc[537:540, 'surface_total_in_m2'])\n",
    "print('\\n ..m2_totales_a_imputar:')\n",
    "display(m2_totales_a_imputar.loc[537:540, 'm2'])"
   ]
  },
  {
   "cell_type": "code",
   "execution_count": 20,
   "metadata": {},
   "outputs": [],
   "source": [
    "correccionSurfaceTotalInM2 = data_clean.surface_total_in_m2.apply(lambda x: str(x).lower().replace(\"m2\", \"\").replace(\"superficie\", \"\").strip())\n",
    "correccionSurfaceTotalInM2Final = correccionSurfaceTotalInM2.apply(lambda x: x if x[0] != \".\" else x[1:]).astype(np.float64)\n",
    "data_clean.loc[correccionSurfaceTotalInM2Final.index, \"surface_total_in_m2\"] = correccionSurfaceTotalInM2Final"
   ]
  },
  {
   "cell_type": "code",
   "execution_count": 23,
   "metadata": {},
   "outputs": [],
   "source": [
    "property_type_dummies = pd.get_dummies(data_clean, columns=[\"property_type\"], prefix=\"tipo_propiedad\")\n",
    "data_clean = pd.concat([data_clean, property_type_dummies], axis=1)"
   ]
  },
  {
   "cell_type": "code",
   "execution_count": 21,
   "metadata": {},
   "outputs": [],
   "source": [
    "data_clean.drop(\n",
    "    ['Unnamed: 0'], \\\n",
    "    axis=1, inplace=True)"
   ]
  },
  {
   "cell_type": "code",
   "execution_count": 24,
   "metadata": {},
   "outputs": [],
   "source": [
    "data_clean.to_csv(\"CleanCSV/Clean02_DummiesYSuperficie.csv\")"
   ]
  }
 ],
 "metadata": {
  "kernelspec": {
   "display_name": "Python 3",
   "language": "python",
   "name": "python3"
  },
  "language_info": {
   "codemirror_mode": {
    "name": "ipython",
    "version": 3
   },
   "file_extension": ".py",
   "mimetype": "text/x-python",
   "name": "python",
   "nbconvert_exporter": "python",
   "pygments_lexer": "ipython3",
   "version": "3.7.7"
  }
 },
 "nbformat": 4,
 "nbformat_minor": 4
}
