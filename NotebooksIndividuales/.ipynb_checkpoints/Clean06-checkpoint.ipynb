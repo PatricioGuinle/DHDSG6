{
 "cells": [
  {
   "cell_type": "code",
   "execution_count": 1,
   "metadata": {},
   "outputs": [
    {
     "name": "stdout",
     "output_type": "stream",
     "text": [
      "default checking\n",
      "Running command `conda list`... ok\n",
      "jupyterlab=1.2.6 already installed\n",
      "pandas=1.0.3 already installed\n",
      "matplotlib=2.2.2 already installed\n",
      "bokeh=2.0.0 already installed\n",
      "seaborn=0.10.0 already installed\n",
      "ipywidgets=7.5.1 already installed\n",
      "pytest=5.3.4 already installed\n",
      "chardet=3.0.4 already installed\n",
      "psutil=5.7.0 already installed\n",
      "scipy=1.4.1 already installed\n",
      "statsmodels=0.11.0 already installed\n",
      "scikit-learn=0.22.1 already installed\n",
      "xlrd=1.2.0 already installed\n",
      "plotly=4.6.0 already installed\n",
      "chart-studio=1.1.0 already installed\n",
      "plotly-orca=1.3.1 already installed\n",
      "Running command `conda install --yes unicodedata2`... ok\n",
      "Collecting package metadata (current_repodata.json): ...working... done\n",
      "Solving environment: ...working... done\n",
      "\n",
      "# All requested packages already installed.\n",
      "\n",
      "\n",
      "Importando librerías ...\n",
      "Las librerías has sido importadas con éxito\n"
     ]
    }
   ],
   "source": [
    "# initial setup\n",
    "try:\n",
    "    # settings colab:\n",
    "    import google.colab\n",
    "        \n",
    "except ModuleNotFoundError:    \n",
    "    # settings local:\n",
    "    %run \"common/0_notebooks_base_setup.py\""
   ]
  },
  {
   "cell_type": "code",
   "execution_count": 2,
   "metadata": {},
   "outputs": [],
   "source": [
    "data = pd.read_csv(\"properati.csv\")"
   ]
  },
  {
   "cell_type": "code",
   "execution_count": 3,
   "metadata": {},
   "outputs": [],
   "source": [
    "data_clean = pd.read_csv(\"CleanCSV/Clean04_Outliers.csv\")"
   ]
  },
  {
   "cell_type": "markdown",
   "metadata": {},
   "source": [
    "<hr id=\"Ubicaciones\">\n",
    "<h2 style=\"color: lightblue\">UBICACIONES</h2>"
   ]
  },
  {
   "cell_type": "code",
   "execution_count": 4,
   "metadata": {},
   "outputs": [
    {
     "data": {
      "text/plain": [
       "True"
      ]
     },
     "execution_count": 4,
     "metadata": {},
     "output_type": "execute_result"
    }
   ],
   "source": [
    "# CHUEQUEO DE SANIDAD - PLACE:\n",
    "# PARA CONFIRMAR QUE EL INDEX DEL DATAFRAME ORIGINAL ES CORRRELATIVO Y NO TIENE FALTANTES\n",
    "ref = np.arange(data['place_with_parent_names'].size)\n",
    "all(data['place_with_parent_names'].index == ref)"
   ]
  },
  {
   "cell_type": "code",
   "execution_count": 5,
   "metadata": {},
   "outputs": [
    {
     "data": {
      "text/plain": [
       "5"
      ]
     },
     "metadata": {},
     "output_type": "display_data"
    },
    {
     "data": {
      "text/plain": [
       "2"
      ]
     },
     "metadata": {},
     "output_type": "display_data"
    }
   ],
   "source": [
    "place_with_parent = data['place_with_parent_names']\n",
    "place_with_parent_temp = [x.strip(\"|\") for x in place_with_parent]       \n",
    "place_with_parent_split = [x.split(\"|\") for x in place_with_parent_temp]\n",
    "\n",
    "place_with_parent_size = [len(x) for x in place_with_parent_split]\n",
    "display(max(place_with_parent_size))                                      # máxima cantidad de información reginal = 5\n",
    "display(min(place_with_parent_size))                                      # mínima cantidad de información reginal = 2\n",
    "\n",
    "place_with_parent_split_0 = [x[0] for x in place_with_parent_split]   # / PAIS\n",
    "place_with_parent_split_1 = [x[1] for x in place_with_parent_split]   # / PROVINCIA O CABA\n",
    "#place_with_parent_split_2 = [x[2] for x in place_with_parent_split]  # / LOCALIDAD\n",
    "#place_with_parent_split_3 = [x[3] for x in place_with_parent_split]  # / ZONA\n",
    "#place_with_parent_split_4 = [x[4] for x in place_with_parent_split]  # / LUGAR\n",
    "\n",
    "#display(np.unique(place_with_parent_split_0))\n",
    "#display(np.unique(place_with_parent_split_1))\n",
    "#display(np.unique(place_with_parent_split_2))\n",
    "#display(np.unique(place_with_parent_split_3))"
   ]
  },
  {
   "cell_type": "code",
   "execution_count": 6,
   "metadata": {},
   "outputs": [
    {
     "data": {
      "text/plain": [
       "array(['Argentina'], dtype='<U9')"
      ]
     },
     "metadata": {},
     "output_type": "display_data"
    },
    {
     "data": {
      "text/plain": [
       "array(['Bs.As. G.B.A. Zona Norte', 'Bs.As. G.B.A. Zona Oeste',\n",
       "       'Bs.As. G.B.A. Zona Sur', 'Buenos Aires Costa Atlántica',\n",
       "       'Buenos Aires Interior', 'Capital Federal', 'Catamarca', 'Chaco',\n",
       "       'Chubut', 'Corrientes', 'Córdoba', 'Entre Ríos', 'Formosa',\n",
       "       'Jujuy', 'La Pampa', 'La Rioja', 'Mendoza', 'Misiones', 'Neuquén',\n",
       "       'Río Negro', 'Salta', 'San Juan', 'San Luis', 'Santa Cruz',\n",
       "       'Santa Fe', 'Santiago Del Estero', 'Tierra Del Fuego', 'Tucumán'],\n",
       "      dtype='<U28')"
      ]
     },
     "metadata": {},
     "output_type": "display_data"
    }
   ],
   "source": [
    "display(np.unique(place_with_parent_split_0))\n",
    "display(np.unique(place_with_parent_split_1))"
   ]
  },
  {
   "cell_type": "code",
   "execution_count": 7,
   "metadata": {},
   "outputs": [
    {
     "data": {
      "text/plain": [
       "array(['Buenos Aires', 'Capital Federal', 'Catamarca', 'Chaco', 'Chubut',\n",
       "       'Corrientes', 'Córdoba', 'Entre Ríos', 'Formosa', 'Jujuy',\n",
       "       'La Pampa', 'La Rioja', 'Mendoza', 'Misiones', 'Neuquén',\n",
       "       'Río Negro', 'Salta', 'San Juan', 'San Luis', 'Santa Cruz',\n",
       "       'Santa Fe', 'Santiago Del Estero', 'Tierra Del Fuego', 'Tucumán'],\n",
       "      dtype='<U19')"
      ]
     },
     "metadata": {},
     "output_type": "display_data"
    },
    {
     "data": {
      "text/plain": [
       "array(['Capital Federal', 'Catamarca', 'Chaco', 'Chubut', 'Corrientes',\n",
       "       'Costa Atlántica', 'Córdoba', 'Entre Ríos', 'Formosa', 'Interior',\n",
       "       'Jujuy', 'La Pampa', 'La Rioja', 'Mendoza', 'Misiones', 'Neuquén',\n",
       "       'Río Negro', 'Salta', 'San Juan', 'San Luis', 'Santa Cruz',\n",
       "       'Santa Fe', 'Santiago Del Estero', 'Tierra Del Fuego', 'Tucumán',\n",
       "       'Zona Norte', 'Zona Oeste', 'Zona Sur'], dtype='<U19')"
      ]
     },
     "metadata": {},
     "output_type": "display_data"
    },
    {
     "data": {
      "text/html": [
       "<div>\n",
       "<style scoped>\n",
       "    .dataframe tbody tr th:only-of-type {\n",
       "        vertical-align: middle;\n",
       "    }\n",
       "\n",
       "    .dataframe tbody tr th {\n",
       "        vertical-align: top;\n",
       "    }\n",
       "\n",
       "    .dataframe thead th {\n",
       "        text-align: right;\n",
       "    }\n",
       "</style>\n",
       "<table border=\"1\" class=\"dataframe\">\n",
       "  <thead>\n",
       "    <tr style=\"text-align: right;\">\n",
       "      <th></th>\n",
       "      <th>País</th>\n",
       "      <th>Provincia</th>\n",
       "      <th>Área</th>\n",
       "    </tr>\n",
       "  </thead>\n",
       "  <tbody>\n",
       "    <tr>\n",
       "      <th>0</th>\n",
       "      <td>Argentina</td>\n",
       "      <td>Capital Federal</td>\n",
       "      <td>Capital Federal</td>\n",
       "    </tr>\n",
       "    <tr>\n",
       "      <th>1</th>\n",
       "      <td>Argentina</td>\n",
       "      <td>Buenos Aires</td>\n",
       "      <td>Zona Sur</td>\n",
       "    </tr>\n",
       "    <tr>\n",
       "      <th>2</th>\n",
       "      <td>Argentina</td>\n",
       "      <td>Capital Federal</td>\n",
       "      <td>Capital Federal</td>\n",
       "    </tr>\n",
       "    <tr>\n",
       "      <th>3</th>\n",
       "      <td>Argentina</td>\n",
       "      <td>Capital Federal</td>\n",
       "      <td>Capital Federal</td>\n",
       "    </tr>\n",
       "    <tr>\n",
       "      <th>4</th>\n",
       "      <td>Argentina</td>\n",
       "      <td>Buenos Aires</td>\n",
       "      <td>Costa Atlántica</td>\n",
       "    </tr>\n",
       "    <tr>\n",
       "      <th>...</th>\n",
       "      <td>...</td>\n",
       "      <td>...</td>\n",
       "      <td>...</td>\n",
       "    </tr>\n",
       "    <tr>\n",
       "      <th>121215</th>\n",
       "      <td>Argentina</td>\n",
       "      <td>Capital Federal</td>\n",
       "      <td>Capital Federal</td>\n",
       "    </tr>\n",
       "    <tr>\n",
       "      <th>121216</th>\n",
       "      <td>Argentina</td>\n",
       "      <td>Buenos Aires</td>\n",
       "      <td>Zona Norte</td>\n",
       "    </tr>\n",
       "    <tr>\n",
       "      <th>121217</th>\n",
       "      <td>Argentina</td>\n",
       "      <td>Capital Federal</td>\n",
       "      <td>Capital Federal</td>\n",
       "    </tr>\n",
       "    <tr>\n",
       "      <th>121218</th>\n",
       "      <td>Argentina</td>\n",
       "      <td>Buenos Aires</td>\n",
       "      <td>Costa Atlántica</td>\n",
       "    </tr>\n",
       "    <tr>\n",
       "      <th>121219</th>\n",
       "      <td>Argentina</td>\n",
       "      <td>Capital Federal</td>\n",
       "      <td>Capital Federal</td>\n",
       "    </tr>\n",
       "  </tbody>\n",
       "</table>\n",
       "<p>121220 rows × 3 columns</p>\n",
       "</div>"
      ],
      "text/plain": [
       "             País        Provincia             Área\n",
       "0       Argentina  Capital Federal  Capital Federal\n",
       "1       Argentina     Buenos Aires         Zona Sur\n",
       "2       Argentina  Capital Federal  Capital Federal\n",
       "3       Argentina  Capital Federal  Capital Federal\n",
       "4       Argentina     Buenos Aires  Costa Atlántica\n",
       "...           ...              ...              ...\n",
       "121215  Argentina  Capital Federal  Capital Federal\n",
       "121216  Argentina     Buenos Aires       Zona Norte\n",
       "121217  Argentina  Capital Federal  Capital Federal\n",
       "121218  Argentina     Buenos Aires  Costa Atlántica\n",
       "121219  Argentina  Capital Federal  Capital Federal\n",
       "\n",
       "[121220 rows x 3 columns]"
      ]
     },
     "execution_count": 7,
     "metadata": {},
     "output_type": "execute_result"
    }
   ],
   "source": [
    "# ARMAMOS LAS PRIMERAS DOS COLUMNAS\n",
    "\n",
    "place_with_parent_split_1a = [\"Buenos Aires\" if ((x=='Bs.As. G.B.A. Zona Norte') or (x=='Bs.As. G.B.A. Zona Oeste')  or (x=='Bs.As. G.B.A. Zona Sur')\n",
    "                                                  or (x=='Buenos Aires Costa Atlántica') or (x=='Buenos Aires Interior') ) else x for x in place_with_parent_split_1]\n",
    "display(np.unique(place_with_parent_split_1a))\n",
    "\n",
    "place_with_parent_split_1b =[]\n",
    "\n",
    "for x in place_with_parent_split_1:\n",
    "    if (x=='Bs.As. G.B.A. Zona Norte'):\n",
    "        place_with_parent_split_1b.append(\"Zona Norte\")\n",
    "    elif (x=='Bs.As. G.B.A. Zona Oeste'):\n",
    "        place_with_parent_split_1b.append(\"Zona Oeste\")\n",
    "    elif (x=='Bs.As. G.B.A. Zona Sur'):\n",
    "        place_with_parent_split_1b.append(\"Zona Sur\")\n",
    "    elif (x=='Buenos Aires Costa Atlántica'):\n",
    "        place_with_parent_split_1b.append(\"Costa Atlántica\")\n",
    "    elif (x=='Buenos Aires Interior'):\n",
    "        place_with_parent_split_1b.append(\"Interior\")\n",
    "    else: \n",
    "        place_with_parent_split_1b.append(x)\n",
    "\n",
    "display(np.unique(place_with_parent_split_1b))\n",
    "\n",
    "# ARMAMOS LA PRIMER PARTE DEL DATAFRAME:\n",
    "\n",
    "place_with_parent_df_0=pd.DataFrame(place_with_parent_split_0)\n",
    "place_with_parent_df_1a=pd.DataFrame(place_with_parent_split_1a)\n",
    "place_with_parent_df_1b=pd.DataFrame(place_with_parent_split_1b)\n",
    "\n",
    "lugares = pd.concat([place_with_parent_df_0, place_with_parent_df_1a, place_with_parent_df_1b], axis=1, sort=False, join='inner')\n",
    "lugares.columns = [\"País\", \"Provincia\", \"Área\"]\n",
    "\n",
    "lugares"
   ]
  },
  {
   "cell_type": "code",
   "execution_count": 8,
   "metadata": {},
   "outputs": [
    {
     "data": {
      "text/plain": [
       "23"
      ]
     },
     "metadata": {},
     "output_type": "display_data"
    },
    {
     "data": {
      "text/plain": [
       "23"
      ]
     },
     "metadata": {},
     "output_type": "display_data"
    },
    {
     "data": {
      "text/plain": [
       "True"
      ]
     },
     "execution_count": 8,
     "metadata": {},
     "output_type": "execute_result"
    }
   ],
   "source": [
    "# SANIDAD DE LA COLUMNA place_name:\n",
    "# VERIFICAR QUE EL ÚLTIMO DATO DE LA COLUMNA place_with_parent_names SE CORRESPONDE CON LA COLUMNA place_name\n",
    "\n",
    "sanidad =[]\n",
    "i=0\n",
    "for x in data['place_name']:\n",
    "    if (str(x) == str(place_with_parent_split[i][-1])):\n",
    "        sanidad.append(False)\n",
    "    else:\n",
    "        sanidad.append(True)\n",
    "    i +=1\n",
    "sanidad\n",
    "\n",
    "display(sum(sanidad))\n",
    "display(data['place_name'].isnull().sum())   # lOS QUE SON DIFERENTES SON LOS NULOS DE data['place_name']\n",
    "mask_place = data['place_name'].isnull()\n",
    "\n",
    "prueba = mask_place == sanidad\n",
    "all(prueba)           # exactamente los mismo que la máscara son los que no coinciden --> puedo reemplazar los que falten con la info que obtenga del último dato de la columna \"place_with_parent_names\""
   ]
  },
  {
   "cell_type": "code",
   "execution_count": 9,
   "metadata": {},
   "outputs": [
    {
     "data": {
      "text/plain": [
       "['Mataderos', 'La Plata', 'Mataderos', 'Liniers', 'Centro']"
      ]
     },
     "execution_count": 9,
     "metadata": {},
     "output_type": "execute_result"
    }
   ],
   "source": [
    "place_name =[x[-1] for x in place_with_parent_split]   # EL REGISTRO [-1] ES EL QUE QUIERO PARA CADA FILA\n",
    "place_name[0:5]  # VEO LOS PRIMEROS CINCO PARA VERIFICAR QUE LOS EXTRAIGO BIEN"
   ]
  },
  {
   "cell_type": "code",
   "execution_count": 10,
   "metadata": {},
   "outputs": [],
   "source": [
    "#COMPLETAR COLUMNAS CON LOS DATOS DISPONIBLES\n",
    "\n",
    "sub_zona_1_temp = []\n",
    "sub_zona_2_temp = []\n",
    "sub_zona_3_temp = []\n",
    "i=0\n",
    "\n",
    "for x in place_with_parent_split:\n",
    "    if (len(x) == 5):                                         # SI LA PROPIEDAD TIENE TODOS LOS CAMPOS, LOS USO TODOS\n",
    "        sub_zona_3_temp.append(x[-1])                         # lugar   \n",
    "        sub_zona_2_temp.append(x[-2])                         # zona\n",
    "        sub_zona_1_temp.append(x[-3])                         # Localidad\n",
    "    elif (len(x) == 4):                                       # SI ESA PROPIEDAD TIENE 4 CAMPOS, REEMPLAZO EL ANTEÚLTIMO CON EL ÚLTIMO (con place)\n",
    "        sub_zona_3_temp.append(x[-1])                         # lugar   \n",
    "        sub_zona_2_temp.append(x[-2])                         # zona\n",
    "        sub_zona_1_temp.append(x[-2])                         # zona \n",
    "    else:                                                     # SINO REEMPLAZO TODOS LOS  ESA PROPIEDAD TIENE 4 CAMPOS, REEMPLAZO TODOS (con place)\n",
    "        sub_zona_3_temp.append(x[-1])                         # lugar                    \n",
    "        sub_zona_2_temp.append(x[-1])                         # lugar  \n",
    "        sub_zona_1_temp.append(x[-1])                         # lugar \n",
    "    i+=1\n"
   ]
  },
  {
   "cell_type": "code",
   "execution_count": 11,
   "metadata": {},
   "outputs": [
    {
     "data": {
      "text/html": [
       "<div>\n",
       "<style scoped>\n",
       "    .dataframe tbody tr th:only-of-type {\n",
       "        vertical-align: middle;\n",
       "    }\n",
       "\n",
       "    .dataframe tbody tr th {\n",
       "        vertical-align: top;\n",
       "    }\n",
       "\n",
       "    .dataframe thead th {\n",
       "        text-align: right;\n",
       "    }\n",
       "</style>\n",
       "<table border=\"1\" class=\"dataframe\">\n",
       "  <thead>\n",
       "    <tr style=\"text-align: right;\">\n",
       "      <th></th>\n",
       "      <th>País</th>\n",
       "      <th>Provincia</th>\n",
       "      <th>Área</th>\n",
       "      <th>Localidad</th>\n",
       "      <th>Zona</th>\n",
       "      <th>Lugar</th>\n",
       "    </tr>\n",
       "  </thead>\n",
       "  <tbody>\n",
       "    <tr>\n",
       "      <th>0</th>\n",
       "      <td>Argentina</td>\n",
       "      <td>Capital Federal</td>\n",
       "      <td>Capital Federal</td>\n",
       "      <td>Mataderos</td>\n",
       "      <td>Mataderos</td>\n",
       "      <td>Mataderos</td>\n",
       "    </tr>\n",
       "    <tr>\n",
       "      <th>1</th>\n",
       "      <td>Argentina</td>\n",
       "      <td>Buenos Aires</td>\n",
       "      <td>Zona Sur</td>\n",
       "      <td>La Plata</td>\n",
       "      <td>La Plata</td>\n",
       "      <td>La Plata</td>\n",
       "    </tr>\n",
       "    <tr>\n",
       "      <th>2</th>\n",
       "      <td>Argentina</td>\n",
       "      <td>Capital Federal</td>\n",
       "      <td>Capital Federal</td>\n",
       "      <td>Mataderos</td>\n",
       "      <td>Mataderos</td>\n",
       "      <td>Mataderos</td>\n",
       "    </tr>\n",
       "    <tr>\n",
       "      <th>3</th>\n",
       "      <td>Argentina</td>\n",
       "      <td>Capital Federal</td>\n",
       "      <td>Capital Federal</td>\n",
       "      <td>Liniers</td>\n",
       "      <td>Liniers</td>\n",
       "      <td>Liniers</td>\n",
       "    </tr>\n",
       "    <tr>\n",
       "      <th>4</th>\n",
       "      <td>Argentina</td>\n",
       "      <td>Buenos Aires</td>\n",
       "      <td>Costa Atlántica</td>\n",
       "      <td>Mar del Plata</td>\n",
       "      <td>Mar del Plata</td>\n",
       "      <td>Centro</td>\n",
       "    </tr>\n",
       "    <tr>\n",
       "      <th>...</th>\n",
       "      <td>...</td>\n",
       "      <td>...</td>\n",
       "      <td>...</td>\n",
       "      <td>...</td>\n",
       "      <td>...</td>\n",
       "      <td>...</td>\n",
       "    </tr>\n",
       "    <tr>\n",
       "      <th>121215</th>\n",
       "      <td>Argentina</td>\n",
       "      <td>Capital Federal</td>\n",
       "      <td>Capital Federal</td>\n",
       "      <td>Belgrano</td>\n",
       "      <td>Belgrano</td>\n",
       "      <td>Belgrano</td>\n",
       "    </tr>\n",
       "    <tr>\n",
       "      <th>121216</th>\n",
       "      <td>Argentina</td>\n",
       "      <td>Buenos Aires</td>\n",
       "      <td>Zona Norte</td>\n",
       "      <td>San Isidro</td>\n",
       "      <td>San Isidro</td>\n",
       "      <td>Beccar</td>\n",
       "    </tr>\n",
       "    <tr>\n",
       "      <th>121217</th>\n",
       "      <td>Argentina</td>\n",
       "      <td>Capital Federal</td>\n",
       "      <td>Capital Federal</td>\n",
       "      <td>Villa Urquiza</td>\n",
       "      <td>Villa Urquiza</td>\n",
       "      <td>Villa Urquiza</td>\n",
       "    </tr>\n",
       "    <tr>\n",
       "      <th>121218</th>\n",
       "      <td>Argentina</td>\n",
       "      <td>Buenos Aires</td>\n",
       "      <td>Costa Atlántica</td>\n",
       "      <td>Mar del Plata</td>\n",
       "      <td>Mar del Plata</td>\n",
       "      <td>Plaza Colón</td>\n",
       "    </tr>\n",
       "    <tr>\n",
       "      <th>121219</th>\n",
       "      <td>Argentina</td>\n",
       "      <td>Capital Federal</td>\n",
       "      <td>Capital Federal</td>\n",
       "      <td>Capital Federal</td>\n",
       "      <td>Capital Federal</td>\n",
       "      <td>Capital Federal</td>\n",
       "    </tr>\n",
       "  </tbody>\n",
       "</table>\n",
       "<p>121220 rows × 6 columns</p>\n",
       "</div>"
      ],
      "text/plain": [
       "             País        Provincia             Área        Localidad             Zona            Lugar\n",
       "0       Argentina  Capital Federal  Capital Federal        Mataderos        Mataderos        Mataderos\n",
       "1       Argentina     Buenos Aires         Zona Sur         La Plata         La Plata         La Plata\n",
       "2       Argentina  Capital Federal  Capital Federal        Mataderos        Mataderos        Mataderos\n",
       "3       Argentina  Capital Federal  Capital Federal          Liniers          Liniers          Liniers\n",
       "4       Argentina     Buenos Aires  Costa Atlántica    Mar del Plata    Mar del Plata           Centro\n",
       "...           ...              ...              ...              ...              ...              ...\n",
       "121215  Argentina  Capital Federal  Capital Federal         Belgrano         Belgrano         Belgrano\n",
       "121216  Argentina     Buenos Aires       Zona Norte       San Isidro       San Isidro           Beccar\n",
       "121217  Argentina  Capital Federal  Capital Federal    Villa Urquiza    Villa Urquiza    Villa Urquiza\n",
       "121218  Argentina     Buenos Aires  Costa Atlántica    Mar del Plata    Mar del Plata      Plaza Colón\n",
       "121219  Argentina  Capital Federal  Capital Federal  Capital Federal  Capital Federal  Capital Federal\n",
       "\n",
       "[121220 rows x 6 columns]"
      ]
     },
     "execution_count": 11,
     "metadata": {},
     "output_type": "execute_result"
    }
   ],
   "source": [
    "# AGREGO LAS NUEVAS COLUMNAS\n",
    "sub_zona_1_df= pd.DataFrame(sub_zona_1_temp)\n",
    "sub_zona_2_df= pd.DataFrame(sub_zona_2_temp)\n",
    "sub_zona_3_df= pd.DataFrame(sub_zona_3_temp)\n",
    "\n",
    "lugares = pd.concat([lugares, sub_zona_1_df, sub_zona_2_df, sub_zona_3_df], axis=1, sort=False, join='inner')\n",
    "lugares.columns = [\"País\", \"Provincia\", \"Área\", \"Localidad\", \"Zona\", \"Lugar\"]\n",
    "lugares"
   ]
  },
  {
   "cell_type": "code",
   "execution_count": 12,
   "metadata": {},
   "outputs": [
    {
     "data": {
      "text/plain": [
       "(121220, 55)"
      ]
     },
     "execution_count": 12,
     "metadata": {},
     "output_type": "execute_result"
    }
   ],
   "source": [
    "# ARMAMAOS NUESTRO NUEVO DATAFRAME Y HACEMOS UNA PRIMER ELIMINACIÓN DE COLUMNAS\n",
    "data_clean = pd.concat([lugares, data_clean], axis=1, sort=False, join='inner')\n",
    "data_clean.drop(['place_name', 'country_name', 'state_name', 'place_with_parent_names', 'lat-lon'], axis=1, inplace=True)\n",
    "data_clean.shape"
   ]
  },
  {
   "cell_type": "code",
   "execution_count": 13,
   "metadata": {},
   "outputs": [],
   "source": [
    "data_clean.drop(\n",
    "    ['Unnamed: 0'], \\\n",
    "    axis=1, inplace=True)"
   ]
  },
  {
   "cell_type": "code",
   "execution_count": 14,
   "metadata": {},
   "outputs": [],
   "source": [
    "data_clean.to_csv(\"CleanCSV/Clean06_Ubicacion.csv\")"
   ]
  },
  {
   "cell_type": "markdown",
   "metadata": {},
   "source": [
    "<br>\n",
    "<div style=\"width: 100%; text-align: right\"><a href=\"#Secciones\"><img src=\"GoUp.png\" style=\"height: 50px\"></a></div>"
   ]
  }
 ],
 "metadata": {
  "kernelspec": {
   "display_name": "Python 3",
   "language": "python",
   "name": "python3"
  },
  "language_info": {
   "codemirror_mode": {
    "name": "ipython",
    "version": 3
   },
   "file_extension": ".py",
   "mimetype": "text/x-python",
   "name": "python",
   "nbconvert_exporter": "python",
   "pygments_lexer": "ipython3",
   "version": "3.7.7"
  }
 },
 "nbformat": 4,
 "nbformat_minor": 4
}
