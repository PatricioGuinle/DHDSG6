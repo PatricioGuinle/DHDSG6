{
 "cells": [
  {
   "cell_type": "code",
   "execution_count": null,
   "metadata": {},
   "outputs": [],
   "source": [
    "# initial setup\n",
    "try:\n",
    "    # settings colab:\n",
    "    import google.colab\n",
    "        \n",
    "except ModuleNotFoundError:    \n",
    "    # settings local:\n",
    "    %run \"common/0_notebooks_base_setup.py\""
   ]
  },
  {
   "cell_type": "code",
   "execution_count": null,
   "metadata": {},
   "outputs": [],
   "source": [
    "data = pd.read_csv(\"properati.csv\")"
   ]
  },
  {
   "cell_type": "code",
   "execution_count": null,
   "metadata": {},
   "outputs": [],
   "source": [
    "#CREAR COPIA DEL DATASET ORIGINAL\n",
    "data_clean = data.copy(deep=True)"
   ]
  },
  {
   "cell_type": "markdown",
   "metadata": {},
   "source": [
    "<hr id=\"Generales\">"
   ]
  },
  {
   "cell_type": "markdown",
   "metadata": {},
   "source": [
    "<h2 style=\"color: lightblue\">GENERALES</h2>"
   ]
  },
  {
   "cell_type": "code",
   "execution_count": null,
   "metadata": {},
   "outputs": [],
   "source": [
    "print(\"cantidad de filas: \" + str(data.shape[0]))\n",
    "print(\"cantidad de columnas: \" + str(data.shape[1]))"
   ]
  },
  {
   "cell_type": "code",
   "execution_count": null,
   "metadata": {},
   "outputs": [],
   "source": [
    "#Columnas String\n",
    "columnas_str = ['operation', 'property_type', 'place_name', 'place_with_parent_names', 'country_name', 'state_name', 'description', 'title']"
   ]
  },
  {
   "cell_type": "code",
   "execution_count": null,
   "metadata": {},
   "outputs": [],
   "source": [
    "#Quitar espacios en blanco\n",
    "for columna in columnas_str:\n",
    "    data_clean[columna] = data_clean[columna].str.strip()"
   ]
  },
  {
   "cell_type": "code",
   "execution_count": null,
   "metadata": {},
   "outputs": [],
   "source": [
    "serieCantidadNulos = data_clean.isnull().sum()\n",
    "dataCantidadNulos = { \"Variable\" : serieCantidadNulos.index[1:], \"Cantidad\" : serieCantidadNulos.values[1:]}\n",
    "dfCantidadNulos = pd.DataFrame(dataCantidadNulos, columns=[\"Variable\", \"Cantidad\"])\n",
    "\n",
    "fig1, ax1 = plt.subplots(figsize=(15, 15))\n",
    "ax1.pie(dfCantidadNulos.Cantidad.values, startangle=90)\n",
    "ax1.axis('equal')\n",
    "total = data_clean.shape[0]\n",
    "labels = dfCantidadNulos.Variable.values\n",
    "\n",
    "plt.legend(\n",
    "    loc='upper left',\n",
    "    labels=['%s, %1.1f%%' % (\n",
    "        l, (s / total) * 100) for l, s in zip(labels, dfCantidadNulos.Cantidad.values)],\n",
    "    prop={'size': 12},\n",
    "    bbox_to_anchor=(0.0, 1),\n",
    "    bbox_transform=fig1.transFigure\n",
    ")\n",
    "\n",
    "fig1.set_facecolor('lightgrey')\n",
    "plt.show()"
   ]
  },
  {
   "cell_type": "markdown",
   "metadata": {},
   "source": [
    "<br>\n",
    "<div style=\"width: 100%; text-align: right\"><a href=\"#Secciones\"><img src=\"GoUp.png\" style=\"height: 50px\"></a></div>"
   ]
  },
  {
   "cell_type": "markdown",
   "metadata": {},
   "source": [
    "<hr id=\"Operaciones\">\n",
    "<h2 style=\"color: lightblue\">TIPOS DE OPERACIONES</h2>"
   ]
  },
  {
   "cell_type": "code",
   "execution_count": null,
   "metadata": {},
   "outputs": [],
   "source": [
    "#Expresión regular para buscar venta o alquiler\n",
    "regex = re.compile(\"(venta)|(alquiler)\", flags = re.IGNORECASE)"
   ]
  },
  {
   "cell_type": "code",
   "execution_count": null,
   "metadata": {},
   "outputs": [],
   "source": [
    "#Buscar Venta o Alquiler en description\n",
    "regexOperacionesDescription = data_clean.description.apply(lambda x: regex.search(str(x)))\n",
    "dfVentasDescription = regexOperacionesDescription.apply(lambda x: np.NaN if x is None else x.group(0))\n",
    "\n",
    "#Normalizar\n",
    "dfVentasDescription[dfVentasDescription.notnull()].unique()\n",
    "dfVentasDescription.replace([\"VENTA\", \"venta\"], \"Venta\", inplace=True)\n",
    "dfVentasDescription.replace([\"alquiler\", \"ALQUILER\"], \"Alquiler\", inplace=True)\n",
    "dfVentasDescription[dfVentasDescription.notnull()].unique()\n",
    "\n",
    "#Crear columna Operacion\n",
    "data_clean[\"Operacion_Description\"] = dfVentasDescription\n",
    "data_clean[\"Operacion_Description\"].value_counts()"
   ]
  },
  {
   "cell_type": "code",
   "execution_count": null,
   "metadata": {},
   "outputs": [],
   "source": [
    "#Buscar Venta o Alquiler en title\n",
    "regexOperacionesTitle = data_clean.title.apply(lambda x: regex.search(str(x)))\n",
    "dfVentasTitle = regexOperacionesTitle.apply(lambda x: np.NaN if x is None else x.group(0))\n",
    "\n",
    "#Normalizar\n",
    "dfVentasTitle[dfVentasTitle.notnull()].unique()\n",
    "dfVentasTitle.replace([\"VENTA\", \"venta\"], \"Venta\", inplace=True)\n",
    "dfVentasTitle.replace([\"alquiler\", \"ALQUILER\"], \"Alquiler\", inplace=True)\n",
    "dfVentasTitle[dfVentasTitle.notnull()].unique()\n",
    "\n",
    "#Crear columna Title\n",
    "data_clean[\"Operacion_Title\"] = dfVentasTitle\n",
    "data_clean[\"Operacion_Title\"].value_counts()"
   ]
  },
  {
   "cell_type": "code",
   "execution_count": null,
   "metadata": {},
   "outputs": [],
   "source": [
    "#Buscar Venta o Alquiler en properati_url\n",
    "regexOperacionesURL = data_clean.properati_url.apply(lambda x: regex.search(str(x)))\n",
    "dfVentasURL = regexOperacionesURL.apply(lambda x: np.NaN if x is None else x.group(0))\n",
    "\n",
    "#Normalizar\n",
    "dfVentasURL[dfVentasURL.notnull()].unique()\n",
    "dfVentasURL.replace([\"VENTA\", \"venta\"], \"Venta\", inplace=True)\n",
    "dfVentasURL.replace([\"alquiler\", \"ALQUILER\"], \"Alquiler\", inplace=True)\n",
    "dfVentasURL[dfVentasURL.notnull()].unique()\n",
    "\n",
    "#Crear columna URL\n",
    "data_clean[\"Operacion_URL\"] = dfVentasURL\n",
    "data_clean[\"Operacion_URL\"].value_counts()"
   ]
  },
  {
   "cell_type": "code",
   "execution_count": null,
   "metadata": {},
   "outputs": [],
   "source": [
    "#Precios mínimos y máximos para alquiler\n",
    "data_clean[data_clean.price_aprox_usd > 0].filter(items=[\"property_type\", \"price_aprox_usd\"]).groupby(by=\"property_type\").agg(['min', 'max'])"
   ]
  },
  {
   "cell_type": "code",
   "execution_count": null,
   "metadata": {},
   "outputs": [],
   "source": [
    "#Revisar los casos con precios menores a 10.000 para ver que no sean alquileres\n",
    "data_clean[(data_clean.property_type == \"house\") & (data_clean.price_aprox_usd < 10000)].filter(items=[\"price_aprox_usd\", \"description\"]).head(10)"
   ]
  },
  {
   "cell_type": "code",
   "execution_count": null,
   "metadata": {},
   "outputs": [],
   "source": [
    "#Revisar los casos con precios menores a 10.000 para ver que no sean alquileres\n",
    "data_clean[(data_clean.property_type == \"apartment\") & (data_clean.price_aprox_usd < 10000)].filter(items=[\"price_aprox_usd\", \"description\"]).head(10)"
   ]
  },
  {
   "cell_type": "code",
   "execution_count": null,
   "metadata": {},
   "outputs": [],
   "source": [
    "#Revisar los casos con precios menores a 10.000 para ver que no sean alquileres\n",
    "data_clean[(data_clean.property_type == \"store\") & (data_clean.price_aprox_usd < 10000)].filter(items=[\"price_aprox_usd\", \"description\"]).head(10)"
   ]
  },
  {
   "cell_type": "code",
   "execution_count": null,
   "metadata": {},
   "outputs": [],
   "source": [
    "#Asignar \"Fondo de Comercio\"\n",
    "regex = re.compile(\"venta de negocio|fondo de comercio\", flags = re.IGNORECASE)\n",
    "regexLocal = data_clean[(data_clean.property_type == \"store\")].description.apply(lambda x: regex.search(str(x)))\n",
    "locales = regexLocal[regexLocal.notnull()].apply(lambda x: np.NaN if x is None else x.group(0))\n",
    "data_clean.loc[locales.index, \"property_type\"] = \"Fondo de Comercio\""
   ]
  },
  {
   "cell_type": "code",
   "execution_count": null,
   "metadata": {},
   "outputs": [],
   "source": [
    "data_clean.property_type.unique()"
   ]
  },
  {
   "cell_type": "code",
   "execution_count": null,
   "metadata": {},
   "outputs": [],
   "source": [
    "property_type_dummies = pd.get_dummies(data_clean, columns=[\"property_type\"], prefix=\"tipo_propiedad\")\n",
    "data_clean = pd.concat([data_clean, property_type_dummies], axis=1)"
   ]
  },
  {
   "cell_type": "code",
   "execution_count": null,
   "metadata": {},
   "outputs": [],
   "source": [
    "data_clean.drop(\n",
    "    ['Unnamed: 0'], \\\n",
    "    axis=1, inplace=True)"
   ]
  },
  {
   "cell_type": "code",
   "execution_count": null,
   "metadata": {},
   "outputs": [],
   "source": [
    "data_clean.to_csv(\"CleanCSV/Clean01_TipoOperacion.csv\")"
   ]
  }
 ],
 "metadata": {
  "kernelspec": {
   "display_name": "Python 3",
   "language": "python",
   "name": "python3"
  },
  "language_info": {
   "codemirror_mode": {
    "name": "ipython",
    "version": 3
   },
   "file_extension": ".py",
   "mimetype": "text/x-python",
   "name": "python",
   "nbconvert_exporter": "python",
   "pygments_lexer": "ipython3",
   "version": "3.7.7"
  }
 },
 "nbformat": 4,
 "nbformat_minor": 4
}
