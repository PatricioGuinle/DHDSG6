{
 "cells": [
  {
   "cell_type": "code",
   "execution_count": 2,
   "metadata": {},
   "outputs": [
    {
     "name": "stdout",
     "output_type": "stream",
     "text": [
      "default checking\n",
      "Running command `conda list`... ok\n",
      "jupyterlab=1.2.6 already installed\n",
      "pandas=1.0.3 already installed\n",
      "matplotlib=2.2.2 already installed\n",
      "bokeh=2.0.0 already installed\n",
      "seaborn=0.10.0 already installed\n",
      "ipywidgets=7.5.1 already installed\n",
      "pytest=5.3.4 already installed\n",
      "chardet=3.0.4 already installed\n",
      "psutil=5.7.0 already installed\n",
      "scipy=1.4.1 already installed\n",
      "statsmodels=0.11.0 already installed\n",
      "scikit-learn=0.22.1 already installed\n",
      "xlrd=1.2.0 already installed\n",
      "plotly=4.6.0 already installed\n",
      "chart-studio=1.1.0 already installed\n",
      "plotly-orca=1.3.1 already installed\n",
      "Running command `conda install --yes unicodedata2`... ok\n",
      "Collecting package metadata (current_repodata.json): ...working... done\n",
      "Solving environment: ...working... done\n",
      "\n",
      "# All requested packages already installed.\n",
      "\n",
      "\n",
      "Importando librerías ...\n",
      "Las librerías has sido importadas con éxito\n"
     ]
    }
   ],
   "source": [
    "# initial setup\n",
    "try:\n",
    "    # settings colab:\n",
    "    import google.colab\n",
    "        \n",
    "except ModuleNotFoundError:    \n",
    "    # settings local:\n",
    "    %run \"common/0_notebooks_base_setup.py\""
   ]
  },
  {
   "cell_type": "code",
   "execution_count": 3,
   "metadata": {},
   "outputs": [],
   "source": [
    "data_clean = pd.read_csv(\"CleanCSV/Clean02_DummiesYSuperficie.csv\")"
   ]
  },
  {
   "cell_type": "markdown",
   "metadata": {},
   "source": [
    "<hr id=\"PreciosYSuperficie\">\n",
    "<h2 style=\"color: lightblue\">PRECIOS Y SUPERFICIE</h2>"
   ]
  },
  {
   "cell_type": "markdown",
   "metadata": {},
   "source": [
    "<span style=\"font-size:18px\">COMPLETAR price_aprox_usd<span>"
   ]
  },
  {
   "cell_type": "code",
   "execution_count": 5,
   "metadata": {},
   "outputs": [
    {
     "name": "stdout",
     "output_type": "stream",
     "text": [
      "Antes:  20410\n",
      "Después:  20274\n"
     ]
    }
   ],
   "source": [
    "regex = re.compile(\"USD\\s+[\\d|.]{3,10}\", flags = re.IGNORECASE)\n",
    "regexPrecio = data_clean[(data_clean.price_aprox_usd.isnull())].description.apply(lambda x: regex.search(str(x)))\n",
    "resultado = regexPrecio.apply(lambda x: np.NaN if x is None else x.group(0).lower().replace(\"usd\", \"\").replace(\".\", \"\").strip()).astype(np.float64)\n",
    "print(\"Antes: \", data_clean.price_aprox_usd.isnull().sum())\n",
    "data_clean.loc[resultado.index, \"price_aprox_usd\"]  = resultado\n",
    "print(\"Después: \", data_clean.price_aprox_usd.isnull().sum())"
   ]
  },
  {
   "cell_type": "code",
   "execution_count": 6,
   "metadata": {},
   "outputs": [
    {
     "name": "stdout",
     "output_type": "stream",
     "text": [
      "Antes:  20274\n",
      "Después:  20273\n"
     ]
    }
   ],
   "source": [
    "regexPrecio = data_clean[(data_clean.price_aprox_usd.isnull())].title.apply(lambda x: regex.search(str(x)))\n",
    "resultado = regexPrecio.apply(lambda x: np.NaN if x is None else x.group(0).lower().replace(\"usd\", \"\").replace(\".\", \"\").strip()).astype(np.float64)\n",
    "print(\"Antes: \", data_clean.price_aprox_usd.isnull().sum())\n",
    "data_clean.loc[resultado.index, \"price_aprox_usd\"]  = resultado\n",
    "print(\"Después: \", data_clean.price_aprox_usd.isnull().sum())"
   ]
  },
  {
   "cell_type": "markdown",
   "metadata": {},
   "source": [
    "<span style=\"font-size:18px\">COMPLETAR price_usd_per_m2<span>"
   ]
  },
  {
   "cell_type": "markdown",
   "metadata": {},
   "source": [
    "<span style=\"font-size:16px; text-decoration: underline\">NULOS price_usd_per_m2<span>"
   ]
  },
  {
   "cell_type": "code",
   "execution_count": 7,
   "metadata": {},
   "outputs": [
    {
     "name": "stdout",
     "output_type": "stream",
     "text": [
      "Nulos:  52603 \n",
      "\n"
     ]
    },
    {
     "data": {
      "text/html": [
       "<div>\n",
       "<style scoped>\n",
       "    .dataframe tbody tr th:only-of-type {\n",
       "        vertical-align: middle;\n",
       "    }\n",
       "\n",
       "    .dataframe tbody tr th {\n",
       "        vertical-align: top;\n",
       "    }\n",
       "\n",
       "    .dataframe thead th {\n",
       "        text-align: right;\n",
       "    }\n",
       "</style>\n",
       "<table border=\"1\" class=\"dataframe\">\n",
       "  <thead>\n",
       "    <tr style=\"text-align: right;\">\n",
       "      <th></th>\n",
       "      <th>Unnamed: 0</th>\n",
       "      <th>Unnamed: 0.1</th>\n",
       "      <th>Unnamed: 0.1.1</th>\n",
       "      <th>operation</th>\n",
       "      <th>property_type</th>\n",
       "      <th>place_name</th>\n",
       "      <th>place_with_parent_names</th>\n",
       "      <th>country_name</th>\n",
       "      <th>state_name</th>\n",
       "      <th>geonames_id</th>\n",
       "      <th>...</th>\n",
       "      <th>patio_dummy</th>\n",
       "      <th>jardin_dummy</th>\n",
       "      <th>quincho_dummy</th>\n",
       "      <th>aire acondicionado_dummy</th>\n",
       "      <th>amenities_dummy</th>\n",
       "      <th>estrenar_dummy</th>\n",
       "      <th>gimnasio_dummy</th>\n",
       "      <th>frente_dummy</th>\n",
       "      <th>subte_dummy</th>\n",
       "      <th>baulera_dummy</th>\n",
       "    </tr>\n",
       "  </thead>\n",
       "  <tbody>\n",
       "    <tr>\n",
       "      <th>1</th>\n",
       "      <td>1</td>\n",
       "      <td>1</td>\n",
       "      <td>1</td>\n",
       "      <td>sell</td>\n",
       "      <td>apartment</td>\n",
       "      <td>La Plata</td>\n",
       "      <td>|Argentina|Bs.As. G.B.A. Zona Sur|La Plata|</td>\n",
       "      <td>Argentina</td>\n",
       "      <td>Bs.As. G.B.A. Zona Sur</td>\n",
       "      <td>3432039.0</td>\n",
       "      <td>...</td>\n",
       "      <td>False</td>\n",
       "      <td>False</td>\n",
       "      <td>False</td>\n",
       "      <td>False</td>\n",
       "      <td>False</td>\n",
       "      <td>True</td>\n",
       "      <td>False</td>\n",
       "      <td>True</td>\n",
       "      <td>False</td>\n",
       "      <td>False</td>\n",
       "    </tr>\n",
       "    <tr>\n",
       "      <th>3</th>\n",
       "      <td>3</td>\n",
       "      <td>3</td>\n",
       "      <td>3</td>\n",
       "      <td>sell</td>\n",
       "      <td>PH</td>\n",
       "      <td>Liniers</td>\n",
       "      <td>|Argentina|Capital Federal|Liniers|</td>\n",
       "      <td>Argentina</td>\n",
       "      <td>Capital Federal</td>\n",
       "      <td>3431333.0</td>\n",
       "      <td>...</td>\n",
       "      <td>True</td>\n",
       "      <td>False</td>\n",
       "      <td>False</td>\n",
       "      <td>False</td>\n",
       "      <td>False</td>\n",
       "      <td>False</td>\n",
       "      <td>False</td>\n",
       "      <td>False</td>\n",
       "      <td>False</td>\n",
       "      <td>False</td>\n",
       "    </tr>\n",
       "  </tbody>\n",
       "</table>\n",
       "<p>2 rows × 47 columns</p>\n",
       "</div>"
      ],
      "text/plain": [
       "   Unnamed: 0  Unnamed: 0.1  Unnamed: 0.1.1 operation property_type place_name                      place_with_parent_names country_name              state_name  geonames_id  ... patio_dummy  jardin_dummy  quincho_dummy  aire acondicionado_dummy amenities_dummy  estrenar_dummy  gimnasio_dummy  frente_dummy  subte_dummy  baulera_dummy\n",
       "1           1             1               1      sell     apartment   La Plata  |Argentina|Bs.As. G.B.A. Zona Sur|La Plata|    Argentina  Bs.As. G.B.A. Zona Sur    3432039.0  ...       False         False          False                     False           False            True           False          True        False          False\n",
       "3           3             3               3      sell            PH    Liniers          |Argentina|Capital Federal|Liniers|    Argentina         Capital Federal    3431333.0  ...        True         False          False                     False           False           False           False         False        False          False\n",
       "\n",
       "[2 rows x 47 columns]"
      ]
     },
     "metadata": {},
     "output_type": "display_data"
    }
   ],
   "source": [
    "#Buscar nulos\n",
    "priceUSDPerM2NullMask = data_clean.price_usd_per_m2.isnull()\n",
    "print(\"Nulos: \", priceUSDPerM2NullMask.sum(), \"\\n\")\n",
    "display(data_clean[priceUSDPerM2NullMask].head(2))"
   ]
  },
  {
   "cell_type": "code",
   "execution_count": 8,
   "metadata": {},
   "outputs": [
    {
     "data": {
      "text/plain": [
       "property_type\n",
       "Fondo de Comercio       93\n",
       "PH                    2497\n",
       "apartment            28178\n",
       "house                19909\n",
       "store                 1926\n",
       "Name: property_type, dtype: int64"
      ]
     },
     "execution_count": 8,
     "metadata": {},
     "output_type": "execute_result"
    }
   ],
   "source": [
    "#Nulos por tipo de propiedad\n",
    "popertyTypeGroupBy1 = data_clean[priceUSDPerM2NullMask].groupby(by=\"property_type\")\n",
    "popertyTypeGroupBy1[\"property_type\"].count()\n",
    "\n",
    "#Con esto se puede iterar sobre cada grupo y ver los registros por separado\n",
    "#for name, group in popertyTypeGroupBy1: \n",
    "#    display(name) \n",
    "#    display(group) \n",
    "#    print() "
   ]
  },
  {
   "cell_type": "markdown",
   "metadata": {},
   "source": [
    "<span style=\"font-size:16px; text-decoration: underline\">NULOS price_per_m2<span>"
   ]
  },
  {
   "cell_type": "code",
   "execution_count": 9,
   "metadata": {},
   "outputs": [
    {
     "name": "stdout",
     "output_type": "stream",
     "text": [
      "33562\n"
     ]
    },
    {
     "data": {
      "text/html": [
       "<div>\n",
       "<style scoped>\n",
       "    .dataframe tbody tr th:only-of-type {\n",
       "        vertical-align: middle;\n",
       "    }\n",
       "\n",
       "    .dataframe tbody tr th {\n",
       "        vertical-align: top;\n",
       "    }\n",
       "\n",
       "    .dataframe thead th {\n",
       "        text-align: right;\n",
       "    }\n",
       "</style>\n",
       "<table border=\"1\" class=\"dataframe\">\n",
       "  <thead>\n",
       "    <tr style=\"text-align: right;\">\n",
       "      <th></th>\n",
       "      <th>price_per_m2</th>\n",
       "      <th>currency</th>\n",
       "    </tr>\n",
       "  </thead>\n",
       "  <tbody>\n",
       "    <tr>\n",
       "      <th>1</th>\n",
       "      <td>NaN</td>\n",
       "      <td>USD</td>\n",
       "    </tr>\n",
       "    <tr>\n",
       "      <th>3</th>\n",
       "      <td>NaN</td>\n",
       "      <td>USD</td>\n",
       "    </tr>\n",
       "    <tr>\n",
       "      <th>5</th>\n",
       "      <td>NaN</td>\n",
       "      <td>NaN</td>\n",
       "    </tr>\n",
       "    <tr>\n",
       "      <th>9</th>\n",
       "      <td>NaN</td>\n",
       "      <td>ARS</td>\n",
       "    </tr>\n",
       "    <tr>\n",
       "      <th>10</th>\n",
       "      <td>NaN</td>\n",
       "      <td>USD</td>\n",
       "    </tr>\n",
       "  </tbody>\n",
       "</table>\n",
       "</div>"
      ],
      "text/plain": [
       "    price_per_m2 currency\n",
       "1            NaN      USD\n",
       "3            NaN      USD\n",
       "5            NaN      NaN\n",
       "9            NaN      ARS\n",
       "10           NaN      USD"
      ]
     },
     "metadata": {},
     "output_type": "display_data"
    }
   ],
   "source": [
    "#Buscar nulos\n",
    "pricePerM2NullMask = data_clean.price_per_m2.isnull()\n",
    "print(pricePerM2NullMask.sum())\n",
    "display(data_clean[pricePerM2NullMask].filter(items=[\"price_per_m2\", \"currency\"]).head(5))"
   ]
  },
  {
   "cell_type": "code",
   "execution_count": 10,
   "metadata": {},
   "outputs": [
    {
     "data": {
      "text/plain": [
       "property_type\n",
       "Fondo de Comercio       85\n",
       "PH                    1199\n",
       "apartment            18871\n",
       "house                11915\n",
       "store                 1492\n",
       "Name: property_type, dtype: int64"
      ]
     },
     "execution_count": 10,
     "metadata": {},
     "output_type": "execute_result"
    }
   ],
   "source": [
    "#Nulos por tipo de propiedad\n",
    "popertyTypeGroupBy2 = data_clean[pricePerM2NullMask].groupby(by=\"property_type\")\n",
    "popertyTypeGroupBy2[\"property_type\"].count()"
   ]
  },
  {
   "cell_type": "markdown",
   "metadata": {},
   "source": [
    "<span style=\"font-size:16px; text-decoration: underline\">IMPUTAR VALORES EN price_usd_per_m2 a partir de price_per_m2<span>"
   ]
  },
  {
   "cell_type": "code",
   "execution_count": 11,
   "metadata": {},
   "outputs": [
    {
     "data": {
      "text/plain": [
       "68    3263.888889\n",
       "77    1764.705882\n",
       "79    2809.523810\n",
       "Name: price_per_m2, dtype: float64"
      ]
     },
     "metadata": {},
     "output_type": "display_data"
    }
   ],
   "source": [
    "#Buscar price_per_m2 en USD para imputar en price_usd_per_m2\n",
    "pricePerM2NoNulos = data_clean[(priceUSDPerM2NullMask) & \\\n",
    "                   (~pricePerM2NullMask) & \\\n",
    "                   (data_clean.currency == \"USD\")].price_per_m2\n",
    "display(pricePerM2NoNulos.head(3))"
   ]
  },
  {
   "cell_type": "code",
   "execution_count": 12,
   "metadata": {},
   "outputs": [
    {
     "name": "stdout",
     "output_type": "stream",
     "text": [
      "Nulos antes:  52603\n",
      "Nulos después:  31166\n"
     ]
    }
   ],
   "source": [
    "print(\"Nulos antes: \", data_clean.price_usd_per_m2.isnull().sum())\n",
    "data_clean.loc[pricePerM2NoNulos.index, \"price_usd_per_m2\"] = pricePerM2NoNulos\n",
    "print(\"Nulos después: \", data_clean.price_usd_per_m2.isnull().sum())\n"
   ]
  },
  {
   "cell_type": "code",
   "execution_count": 13,
   "metadata": {},
   "outputs": [
    {
     "data": {
      "text/html": [
       "<div>\n",
       "<style scoped>\n",
       "    .dataframe tbody tr th:only-of-type {\n",
       "        vertical-align: middle;\n",
       "    }\n",
       "\n",
       "    .dataframe tbody tr th {\n",
       "        vertical-align: top;\n",
       "    }\n",
       "\n",
       "    .dataframe thead th {\n",
       "        text-align: right;\n",
       "    }\n",
       "</style>\n",
       "<table border=\"1\" class=\"dataframe\">\n",
       "  <thead>\n",
       "    <tr style=\"text-align: right;\">\n",
       "      <th></th>\n",
       "      <th>price_usd_per_m2</th>\n",
       "      <th>price_per_m2</th>\n",
       "      <th>currency</th>\n",
       "    </tr>\n",
       "  </thead>\n",
       "  <tbody>\n",
       "  </tbody>\n",
       "</table>\n",
       "</div>"
      ],
      "text/plain": [
       "Empty DataFrame\n",
       "Columns: [price_usd_per_m2, price_per_m2, currency]\n",
       "Index: []"
      ]
     },
     "metadata": {},
     "output_type": "display_data"
    }
   ],
   "source": [
    "#Buscar price_por_m2 en pesos\n",
    "display(data_clean[(priceUSDPerM2NullMask) & \\\n",
    "                   (~pricePerM2NullMask) & \\\n",
    "                   (data_clean.currency == \"ARG\")].filter(items=[\"price_usd_per_m2\", \"price_per_m2\", \"currency\"]))"
   ]
  },
  {
   "cell_type": "markdown",
   "metadata": {},
   "source": [
    "<span style=\"font-size:16px; text-decoration: underline\">IMPUTAR VALORES EN price_usd_per_m2 CRUZANDO POR UBICACIONES y precio_aprox_usd<span>"
   ]
  },
  {
   "cell_type": "code",
   "execution_count": 14,
   "metadata": {},
   "outputs": [],
   "source": [
    "#Apartment sin price_usd_per_m2 con price_aprox_usd\n",
    "data_clean[\"Indice\"] = data_clean.index\n",
    "dfGrupo1 = data_clean[(data_clean.price_usd_per_m2.isnull()) & (data_clean.price_aprox_usd.notnull())].filter(items=[\"property_type\", \"Indice\", \"state_name\", \"place_name\", \"place_with_parent_names\", \"price_aprox_usd\"])\n",
    "#Apartment con price_usd_per_m2 y con price_aprox_usd\n",
    "dfGrupo2 = data_clean[(data_clean.price_usd_per_m2.notnull()) & (data_clean.price_aprox_usd.notnull())].filter(items=[\"property_type\", \"state_name\", \"place_name\", \"place_with_parent_names\", \"price_usd_per_m2\", \"price_aprox_usd\"])"
   ]
  },
  {
   "cell_type": "code",
   "execution_count": 15,
   "metadata": {},
   "outputs": [
    {
     "name": "stdout",
     "output_type": "stream",
     "text": [
      "Nulos antes:  31166\n",
      "Nulos después:  25115\n"
     ]
    }
   ],
   "source": [
    "print(\"Nulos antes: \", data_clean.price_usd_per_m2.isnull().sum())\n",
    "gruposMerge = pd.merge(dfGrupo1, dfGrupo2, how=\"inner\", on=[\"property_type\", \"place_with_parent_names\", \"price_aprox_usd\"])\n",
    "medianaPriceUSDPerM2 = gruposMerge.groupby(by=[\"property_type\", \"Indice\"])[['price_usd_per_m2']].median()\n",
    "medianaPriceUSDPerM2.reset_index(inplace=True)\n",
    "medianaPriceUSDPerM2.set_index([\"Indice\"], inplace=True)\n",
    "data_clean.loc[gruposMerge.Indice, \"price_usd_per_m2\"] = medianaPriceUSDPerM2.price_usd_per_m2\n",
    "print(\"Nulos después: \", data_clean.price_usd_per_m2.isnull().sum())\n"
   ]
  },
  {
   "cell_type": "code",
   "execution_count": 16,
   "metadata": {},
   "outputs": [
    {
     "name": "stdout",
     "output_type": "stream",
     "text": [
      "Nulos antes:  25115\n",
      "Nulos después:  24826\n"
     ]
    }
   ],
   "source": [
    "print(\"Nulos antes: \", data_clean.price_usd_per_m2.isnull().sum())\n",
    "gruposMerge = pd.merge(dfGrupo1, dfGrupo2, how=\"inner\", on=[\"property_type\", \"place_name\", \"price_aprox_usd\"])\n",
    "medianaPriceUSDPerM2 = gruposMerge.groupby(by=[\"property_type\", \"Indice\"])[['price_usd_per_m2']].median()\n",
    "medianaPriceUSDPerM2.reset_index(inplace=True)\n",
    "medianaPriceUSDPerM2.set_index([\"Indice\"], inplace=True)\n",
    "data_clean.loc[gruposMerge.Indice, \"price_usd_per_m2\"] = medianaPriceUSDPerM2.price_usd_per_m2\n",
    "print(\"Nulos después: \", data_clean.price_usd_per_m2.isnull().sum())"
   ]
  },
  {
   "cell_type": "code",
   "execution_count": 17,
   "metadata": {},
   "outputs": [
    {
     "name": "stdout",
     "output_type": "stream",
     "text": [
      "Nulos antes:  24826\n",
      "Nulos después:  22839\n"
     ]
    }
   ],
   "source": [
    "print(\"Nulos antes: \", data_clean.price_usd_per_m2.isnull().sum())\n",
    "gruposMerge = pd.merge(dfGrupo1, dfGrupo2, how=\"inner\", on=[\"property_type\", \"state_name\", \"price_aprox_usd\"])\n",
    "medianaPriceUSDPerM2 = gruposMerge.groupby(by=[\"property_type\", \"Indice\"])[['price_usd_per_m2']].median()\n",
    "medianaPriceUSDPerM2.reset_index(inplace=True)\n",
    "medianaPriceUSDPerM2.set_index([\"Indice\"], inplace=True)\n",
    "data_clean.loc[gruposMerge.Indice, \"price_usd_per_m2\"] = medianaPriceUSDPerM2.price_usd_per_m2\n",
    "print(\"Nulos después: \", data_clean.price_usd_per_m2.isnull().sum())"
   ]
  },
  {
   "cell_type": "code",
   "execution_count": 18,
   "metadata": {},
   "outputs": [
    {
     "name": "stdout",
     "output_type": "stream",
     "text": [
      "Nulos antes:  22839\n",
      "Nulos después:  20389\n"
     ]
    }
   ],
   "source": [
    "print(\"Nulos antes: \", data_clean.price_usd_per_m2.isnull().sum())\n",
    "gruposMerge = pd.merge(dfGrupo1, dfGrupo2, how=\"inner\", on=[\"property_type\", \"place_with_parent_names\"])\n",
    "medianaPriceUSDPerM2 = gruposMerge.groupby(by=[\"property_type\", \"Indice\"])[['price_usd_per_m2']].median()\n",
    "medianaPriceUSDPerM2.reset_index(inplace=True)\n",
    "medianaPriceUSDPerM2.set_index([\"Indice\"], inplace=True)\n",
    "data_clean.loc[gruposMerge.Indice, \"price_usd_per_m2\"] = medianaPriceUSDPerM2.price_usd_per_m2\n",
    "print(\"Nulos después: \", data_clean.price_usd_per_m2.isnull().sum())"
   ]
  },
  {
   "cell_type": "code",
   "execution_count": 19,
   "metadata": {},
   "outputs": [
    {
     "name": "stdout",
     "output_type": "stream",
     "text": [
      "Nulos antes:  20389\n",
      "Nulos después:  20365\n"
     ]
    }
   ],
   "source": [
    "print(\"Nulos antes: \", data_clean.price_usd_per_m2.isnull().sum())\n",
    "gruposMerge = pd.merge(dfGrupo1, dfGrupo2, how=\"inner\", on=[\"property_type\", \"place_name\"])\n",
    "medianaPriceUSDPerM2 = gruposMerge.groupby(by=[\"property_type\", \"Indice\"])[['price_usd_per_m2']].median()\n",
    "medianaPriceUSDPerM2.reset_index(inplace=True)\n",
    "medianaPriceUSDPerM2.set_index([\"Indice\"], inplace=True)\n",
    "data_clean.loc[gruposMerge.Indice, \"price_usd_per_m2\"] = medianaPriceUSDPerM2.price_usd_per_m2\n",
    "print(\"Nulos después: \", data_clean.price_usd_per_m2.isnull().sum())"
   ]
  },
  {
   "cell_type": "code",
   "execution_count": 20,
   "metadata": {},
   "outputs": [
    {
     "name": "stdout",
     "output_type": "stream",
     "text": [
      "Nulos antes:  20365\n",
      "Nulos después:  20283\n"
     ]
    }
   ],
   "source": [
    "print(\"Nulos antes: \", data_clean.price_usd_per_m2.isnull().sum())\n",
    "gruposMerge = pd.merge(dfGrupo1, dfGrupo2, how=\"inner\", on=[\"property_type\", \"state_name\"])\n",
    "medianaPriceUSDPerM2 = gruposMerge.groupby(by=[\"property_type\", \"Indice\"])[['price_usd_per_m2']].median()\n",
    "medianaPriceUSDPerM2.reset_index(inplace=True)\n",
    "medianaPriceUSDPerM2.set_index([\"Indice\"], inplace=True)\n",
    "data_clean.loc[gruposMerge.Indice, \"price_usd_per_m2\"] = medianaPriceUSDPerM2.price_usd_per_m2\n",
    "print(\"Nulos después: \", data_clean.price_usd_per_m2.isnull().sum())\n",
    "\n",
    "data_clean.reset_index(inplace=True)"
   ]
  },
  {
   "cell_type": "code",
   "execution_count": 21,
   "metadata": {},
   "outputs": [],
   "source": [
    "dfOtros1 = data_clean[(data_clean.price_aprox_usd.notnull()) & (data_clean.surface_total_in_m2.notnull()) & (data_clean.price_usd_per_m2.isnull())]"
   ]
  },
  {
   "cell_type": "code",
   "execution_count": 22,
   "metadata": {},
   "outputs": [],
   "source": [
    "dfOtros2 = data_clean[(data_clean.price_aprox_usd.notnull()) & (data_clean.surface_covered_in_m2.notnull()) & (data_clean.price_usd_per_m2.isnull())]"
   ]
  },
  {
   "cell_type": "code",
   "execution_count": 23,
   "metadata": {},
   "outputs": [],
   "source": [
    "data_clean.loc[dfOtros2.index, \"price_usd_per_m2\"] = data_clean.loc[dfOtros2.index, \"price_aprox_usd\"] / data_clean.loc[dfOtros2.index, \"surface_covered_in_m2\"]"
   ]
  },
  {
   "cell_type": "markdown",
   "metadata": {},
   "source": [
    "<span style=\"font-size:18px\">IMPUTAR VALORES EN surface_total_in_m2 CON price_aprox_usd / price_usd_per_m2<span>"
   ]
  },
  {
   "cell_type": "code",
   "execution_count": 24,
   "metadata": {},
   "outputs": [
    {
     "name": "stdout",
     "output_type": "stream",
     "text": [
      "Antes:  37779\n",
      "Despues:  7094\n"
     ]
    }
   ],
   "source": [
    "surfaceTotalInM2NullMask = (data_clean.surface_total_in_m2.isnull()) & \\\n",
    "                           (data_clean.price_aprox_usd.notnull()) & \\\n",
    "                           (data_clean.price_usd_per_m2.notnull())\n",
    "\n",
    "print(\"Antes: \", data_clean.surface_total_in_m2.isnull().sum())\n",
    "data_clean.loc[surfaceTotalInM2NullMask, \"surface_total_in_m2\"] = \\\n",
    "    data_clean.loc[surfaceTotalInM2NullMask, \"price_aprox_usd\"] / data_clean.loc[surfaceTotalInM2NullMask, \"price_usd_per_m2\"]\n",
    "print(\"Despues: \", data_clean.surface_total_in_m2.isnull().sum())"
   ]
  },
  {
   "cell_type": "code",
   "execution_count": 25,
   "metadata": {},
   "outputs": [
    {
     "name": "stdout",
     "output_type": "stream",
     "text": [
      "Antes:  7094\n",
      "Despues:  6502\n"
     ]
    }
   ],
   "source": [
    "regex = re.compile(\"([\\d|.]{3,10})\\sm2|superficie\\s([\\d|.]{3,10})\", flags = re.IGNORECASE)\n",
    "regexSuperficie = data_clean[(data_clean.surface_total_in_m2.isnull()) & \\\n",
    "                             ((data_clean.property_type == \"PH\") | \\\n",
    "                             (data_clean.property_type == \"apartment\") | \\\n",
    "                             (data_clean.property_type == \"house\"))].description.apply(lambda x: regex.search(str(x)))\n",
    "resultadoSuperficie = regexSuperficie.apply(lambda x: np.NaN if x is None else x.group(0).lower().replace(\"m2\", \"\").replace(\"superficie\", \"\").strip())\n",
    "resultadoSuperficieMaskNotNull = resultadoSuperficie.notnull()\n",
    "resultadoSuperficieSinNulos = resultadoSuperficie[resultadoSuperficieMaskNotNull]\n",
    "print(\"Antes: \", data_clean.surface_total_in_m2.isnull().sum())\n",
    "data_clean.loc[resultadoSuperficieSinNulos.index, \"surface_total_in_m2\"] = resultadoSuperficieSinNulos.astype(np.float64)\n",
    "print(\"Despues: \", data_clean.surface_total_in_m2.isnull().sum())\n",
    "#data_clean.surface_total_in_m2 = data_clean.surface_total_in_m2.apply(lambda x: str(x).lower().replace(\"m2\", \"\").strip())\n",
    "#data_clean.surface_total_in_m2 = data_clean.surface_total_in_m2.astype(np.float64)\n"
   ]
  },
  {
   "cell_type": "code",
   "execution_count": 26,
   "metadata": {},
   "outputs": [
    {
     "data": {
      "text/html": [
       "<div>\n",
       "<style scoped>\n",
       "    .dataframe tbody tr th:only-of-type {\n",
       "        vertical-align: middle;\n",
       "    }\n",
       "\n",
       "    .dataframe tbody tr th {\n",
       "        vertical-align: top;\n",
       "    }\n",
       "\n",
       "    .dataframe thead th {\n",
       "        text-align: right;\n",
       "    }\n",
       "</style>\n",
       "<table border=\"1\" class=\"dataframe\">\n",
       "  <thead>\n",
       "    <tr style=\"text-align: right;\">\n",
       "      <th></th>\n",
       "      <th>price_aprox_usd</th>\n",
       "      <th>surface_total_in_m2</th>\n",
       "    </tr>\n",
       "  </thead>\n",
       "  <tbody>\n",
       "  </tbody>\n",
       "</table>\n",
       "</div>"
      ],
      "text/plain": [
       "Empty DataFrame\n",
       "Columns: [price_aprox_usd, surface_total_in_m2]\n",
       "Index: []"
      ]
     },
     "execution_count": 26,
     "metadata": {},
     "output_type": "execute_result"
    }
   ],
   "source": [
    "dfSuperficies1 = data_clean.loc[resultadoSuperficieSinNulos.index, :]\n",
    "dfSuperficies2 = dfSuperficies1[(dfSuperficies1.price_aprox_usd.notnull()) & (dfSuperficies1.price_usd_per_m2.isnull())]\n",
    "dfSuperficies2.filter(items=[\"price_aprox_usd\", \"surface_total_in_m2\"])"
   ]
  },
  {
   "cell_type": "code",
   "execution_count": 29,
   "metadata": {},
   "outputs": [],
   "source": [
    "data_clean.drop(\n",
    "    ['Unnamed: 0', 'Indice'], \\\n",
    "    axis=1, inplace=True)"
   ]
  },
  {
   "cell_type": "code",
   "execution_count": 33,
   "metadata": {},
   "outputs": [],
   "source": [
    "data_clean.to_csv(\"CleanCSV/Clean03_PreciosYSuperficie.csv\")"
   ]
  }
 ],
 "metadata": {
  "kernelspec": {
   "display_name": "Python 3",
   "language": "python",
   "name": "python3"
  },
  "language_info": {
   "codemirror_mode": {
    "name": "ipython",
    "version": 3
   },
   "file_extension": ".py",
   "mimetype": "text/x-python",
   "name": "python",
   "nbconvert_exporter": "python",
   "pygments_lexer": "ipython3",
   "version": "3.7.7"
  }
 },
 "nbformat": 4,
 "nbformat_minor": 4
}
