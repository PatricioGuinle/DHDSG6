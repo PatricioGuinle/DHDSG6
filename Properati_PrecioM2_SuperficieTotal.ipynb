{
 "cells": [
  {
   "cell_type": "code",
   "execution_count": 369,
   "metadata": {},
   "outputs": [
    {
     "name": "stdout",
     "output_type": "stream",
     "text": [
      "pandas=1.0.3 already installed\n",
      "matplotlib=2.2.2 already installed\n",
      "bokeh=2.0.0 already installed\n",
      "seaborn=0.10.0 already installed\n"
     ]
    }
   ],
   "source": [
    "# initial setup\n",
    "try:\n",
    "    # settings colab:\n",
    "    import google.colab\n",
    "        \n",
    "except ModuleNotFoundError:    \n",
    "    # settings local:\n",
    "    %run \"../../../common/0_notebooks_base_setup.py\""
   ]
  },
  {
   "cell_type": "code",
   "execution_count": 370,
   "metadata": {},
   "outputs": [],
   "source": [
    "import pandas as pd\n",
    "import seaborn as sns\n",
    "import re\n",
    "import numpy as np\n",
    "import matplotlib as mpl\n",
    "import matplotlib.pyplot as plt\n",
    "import plotly.graph_objects as go\n",
    "import plotly.express as px\n",
    "import chart_studio\n",
    "import chart_studio.plotly as py\n",
    "import unidecode as ud"
   ]
  },
  {
   "cell_type": "code",
   "execution_count": 371,
   "metadata": {},
   "outputs": [],
   "source": [
    "pd.set_option('display.max_rows', 300)\n",
    "pd.set_option('display.width', 5000)"
   ]
  },
  {
   "cell_type": "code",
   "execution_count": 372,
   "metadata": {},
   "outputs": [],
   "source": [
    "import chardet\n",
    "def get_encoding_type(csv_path):\n",
    "    rawdata = open(csv_path, 'rb').read()\n",
    "    result = chardet.detect(rawdata)\n",
    "    return result.get('encoding')"
   ]
  },
  {
   "cell_type": "code",
   "execution_count": 373,
   "metadata": {},
   "outputs": [],
   "source": [
    "data = pd.read_csv(\"properati.csv\", encoding=\"iso-8859-1\")"
   ]
  },
  {
   "cell_type": "code",
   "execution_count": 374,
   "metadata": {},
   "outputs": [],
   "source": [
    "#Creo una copia del DF\n",
    "data_clean = data.copy(deep=True)"
   ]
  },
  {
   "cell_type": "markdown",
   "metadata": {},
   "source": [
    "<span style=\"font-size:24px\">COMPLETAR price_aprox_usd<span>"
   ]
  },
  {
   "cell_type": "code",
   "execution_count": 375,
   "metadata": {},
   "outputs": [
    {
     "name": "stdout",
     "output_type": "stream",
     "text": [
      "Antes:  4112\n",
      "Después:  4031\n"
     ]
    }
   ],
   "source": [
    "regex = re.compile(\"USD\\s+[\\d|.]{3,10}\", flags = re.IGNORECASE)\n",
    "regexPrecio = data_clean[(data_clean.price_aprox_usd.isnull())].description.apply(lambda x: regex.search(str(x)))\n",
    "resultado = regexPrecio.apply(lambda x: np.NaN if x is None else x.group(0).lower().replace(\"usd\", \"\").replace(\".\", \"\").strip()).astype(np.float64)\n",
    "print(\"Antes: \", data_clean.price_aprox_usd.isnull().sum())\n",
    "data_clean.loc[resultado.index, \"price_aprox_usd\"]  = resultado\n",
    "print(\"Después: \", data_clean.price_aprox_usd.isnull().sum())"
   ]
  },
  {
   "cell_type": "code",
   "execution_count": 376,
   "metadata": {},
   "outputs": [
    {
     "name": "stdout",
     "output_type": "stream",
     "text": [
      "Antes:  4031\n",
      "Después:  4031\n"
     ]
    }
   ],
   "source": [
    "regexPrecio = data_clean[(data_clean.price_aprox_usd.isnull())].title.apply(lambda x: regex.search(str(x)))\n",
    "resultado = regexPrecio.apply(lambda x: np.NaN if x is None else x.group(0).lower().replace(\"usd\", \"\").replace(\".\", \"\").strip()).astype(np.float64)\n",
    "print(\"Antes: \", data_clean.price_aprox_usd.isnull().sum())\n",
    "data_clean.loc[resultado.index, \"price_aprox_usd\"]  = resultado\n",
    "print(\"Después: \", data_clean.price_aprox_usd.isnull().sum())"
   ]
  },
  {
   "cell_type": "markdown",
   "metadata": {},
   "source": [
    "<hr>\n",
    "<span style=\"font-size:24px\">COMPLETAR price_usd_per_m2<span>"
   ]
  },
  {
   "cell_type": "markdown",
   "metadata": {},
   "source": [
    "<hr>\n",
    "<span style=\"font-size:18px\">NULOS price_usd_per_m2<span>"
   ]
  },
  {
   "cell_type": "code",
   "execution_count": 377,
   "metadata": {},
   "outputs": [
    {
     "name": "stdout",
     "output_type": "stream",
     "text": [
      "Nulos:  7023 \n",
      "\n"
     ]
    },
    {
     "data": {
      "text/html": [
       "<div>\n",
       "<style scoped>\n",
       "    .dataframe tbody tr th:only-of-type {\n",
       "        vertical-align: middle;\n",
       "    }\n",
       "\n",
       "    .dataframe tbody tr th {\n",
       "        vertical-align: top;\n",
       "    }\n",
       "\n",
       "    .dataframe thead th {\n",
       "        text-align: right;\n",
       "    }\n",
       "</style>\n",
       "<table border=\"1\" class=\"dataframe\">\n",
       "  <thead>\n",
       "    <tr style=\"text-align: right;\">\n",
       "      <th></th>\n",
       "      <th>Unnamed: 0</th>\n",
       "      <th>operation</th>\n",
       "      <th>property_type</th>\n",
       "      <th>place_name</th>\n",
       "      <th>place_with_parent_names</th>\n",
       "      <th>country_name</th>\n",
       "      <th>state_name</th>\n",
       "      <th>geonames_id</th>\n",
       "      <th>lat-lon</th>\n",
       "      <th>lat</th>\n",
       "      <th>...</th>\n",
       "      <th>surface_covered_in_m2</th>\n",
       "      <th>price_usd_per_m2</th>\n",
       "      <th>price_per_m2</th>\n",
       "      <th>floor</th>\n",
       "      <th>rooms</th>\n",
       "      <th>expenses</th>\n",
       "      <th>properati_url</th>\n",
       "      <th>description</th>\n",
       "      <th>title</th>\n",
       "      <th>image_thumbnail</th>\n",
       "    </tr>\n",
       "  </thead>\n",
       "  <tbody>\n",
       "    <tr>\n",
       "      <th>1</th>\n",
       "      <td>1</td>\n",
       "      <td>sell</td>\n",
       "      <td>apartment</td>\n",
       "      <td>La Plata</td>\n",
       "      <td>|Argentina|Bs.As. G.B.A. Zona Sur|La Plata|</td>\n",
       "      <td>Argentina</td>\n",
       "      <td>Bs.As. G.B.A. Zona Sur</td>\n",
       "      <td>3432039.0</td>\n",
       "      <td>-34.9038831,-57.9643295</td>\n",
       "      <td>-34.903883</td>\n",
       "      <td>...</td>\n",
       "      <td>NaN</td>\n",
       "      <td>NaN</td>\n",
       "      <td>NaN</td>\n",
       "      <td>NaN</td>\n",
       "      <td>NaN</td>\n",
       "      <td>NaN</td>\n",
       "      <td>http://www.properati.com.ar/15bob_venta_depart...</td>\n",
       "      <td>Venta de departamento en dÃ©cimo piso al frent...</td>\n",
       "      <td>VENTA Depto 2 dorm. a estrenar 7 e/ 36 y 37   ...</td>\n",
       "      <td>https://thumbs4.properati.com/7/ikpVBu2ztHA7jv...</td>\n",
       "    </tr>\n",
       "    <tr>\n",
       "      <th>3</th>\n",
       "      <td>3</td>\n",
       "      <td>sell</td>\n",
       "      <td>PH</td>\n",
       "      <td>Liniers</td>\n",
       "      <td>|Argentina|Capital Federal|Liniers|</td>\n",
       "      <td>Argentina</td>\n",
       "      <td>Capital Federal</td>\n",
       "      <td>3431333.0</td>\n",
       "      <td>-34.6477969,-58.5164244</td>\n",
       "      <td>-34.647797</td>\n",
       "      <td>...</td>\n",
       "      <td>NaN</td>\n",
       "      <td>NaN</td>\n",
       "      <td>NaN</td>\n",
       "      <td>NaN</td>\n",
       "      <td>NaN</td>\n",
       "      <td>NaN</td>\n",
       "      <td>http://www.properati.com.ar/15boh_venta_ph_lin...</td>\n",
       "      <td>PH 3 ambientes con patio. Hay 3 deptos en lote...</td>\n",
       "      <td>PH 3 amb. cfte. reciclado</td>\n",
       "      <td>https://thumbs4.properati.com/3/DgIfX-85Mog5SP...</td>\n",
       "    </tr>\n",
       "  </tbody>\n",
       "</table>\n",
       "<p>2 rows × 26 columns</p>\n",
       "</div>"
      ],
      "text/plain": [
       "   Unnamed: 0 operation property_type place_name                      place_with_parent_names country_name              state_name  geonames_id                  lat-lon        lat  ...  surface_covered_in_m2  price_usd_per_m2 price_per_m2  floor  rooms  expenses                                      properati_url                                        description                                              title                                    image_thumbnail\n",
       "1           1      sell     apartment   La Plata  |Argentina|Bs.As. G.B.A. Zona Sur|La Plata|    Argentina  Bs.As. G.B.A. Zona Sur    3432039.0  -34.9038831,-57.9643295 -34.903883  ...                    NaN               NaN          NaN    NaN    NaN       NaN  http://www.properati.com.ar/15bob_venta_depart...  Venta de departamento en dÃ©cimo piso al frent...  VENTA Depto 2 dorm. a estrenar 7 e/ 36 y 37   ...  https://thumbs4.properati.com/7/ikpVBu2ztHA7jv...\n",
       "3           3      sell            PH    Liniers          |Argentina|Capital Federal|Liniers|    Argentina         Capital Federal    3431333.0  -34.6477969,-58.5164244 -34.647797  ...                    NaN               NaN          NaN    NaN    NaN       NaN  http://www.properati.com.ar/15boh_venta_ph_lin...  PH 3 ambientes con patio. Hay 3 deptos en lote...                       PH 3 amb. cfte. reciclado     https://thumbs4.properati.com/3/DgIfX-85Mog5SP...\n",
       "\n",
       "[2 rows x 26 columns]"
      ]
     },
     "metadata": {},
     "output_type": "display_data"
    }
   ],
   "source": [
    "#Buscar nulos\n",
    "priceUSDPerM2NullMask = data_clean.price_usd_per_m2.isnull()\n",
    "print(\"Nulos: \", priceUSDPerM2NullMask.sum(), \"\\n\")\n",
    "display(data_clean[priceUSDPerM2NullMask].head(2))"
   ]
  },
  {
   "cell_type": "code",
   "execution_count": 378,
   "metadata": {},
   "outputs": [
    {
     "data": {
      "text/plain": [
       "property_type\n",
       "PH            223\n",
       "apartment    3461\n",
       "house        3130\n",
       "store         209\n",
       "Name: property_type, dtype: int64"
      ]
     },
     "execution_count": 378,
     "metadata": {},
     "output_type": "execute_result"
    }
   ],
   "source": [
    "#Nulos por tipo de propiedad\n",
    "popertyTypeGroupBy1 = data_clean[priceUSDPerM2NullMask].groupby(by=\"property_type\")\n",
    "popertyTypeGroupBy1[\"property_type\"].count()\n",
    "\n",
    "#Con esto se puede iterar sobre cada grupo y ver los registros por separado\n",
    "#for name, group in popertyTypeGroupBy1: \n",
    "#    display(name) \n",
    "#    display(group) \n",
    "#    print() "
   ]
  },
  {
   "cell_type": "markdown",
   "metadata": {},
   "source": [
    "<hr>\n",
    "<span style=\"font-size:18px\">NULOS price_per_m2<span>"
   ]
  },
  {
   "cell_type": "code",
   "execution_count": 379,
   "metadata": {},
   "outputs": [
    {
     "name": "stdout",
     "output_type": "stream",
     "text": [
      "5140\n"
     ]
    },
    {
     "data": {
      "text/html": [
       "<div>\n",
       "<style scoped>\n",
       "    .dataframe tbody tr th:only-of-type {\n",
       "        vertical-align: middle;\n",
       "    }\n",
       "\n",
       "    .dataframe tbody tr th {\n",
       "        vertical-align: top;\n",
       "    }\n",
       "\n",
       "    .dataframe thead th {\n",
       "        text-align: right;\n",
       "    }\n",
       "</style>\n",
       "<table border=\"1\" class=\"dataframe\">\n",
       "  <thead>\n",
       "    <tr style=\"text-align: right;\">\n",
       "      <th></th>\n",
       "      <th>price_per_m2</th>\n",
       "      <th>currency</th>\n",
       "    </tr>\n",
       "  </thead>\n",
       "  <tbody>\n",
       "    <tr>\n",
       "      <th>1</th>\n",
       "      <td>NaN</td>\n",
       "      <td>USD</td>\n",
       "    </tr>\n",
       "    <tr>\n",
       "      <th>3</th>\n",
       "      <td>NaN</td>\n",
       "      <td>USD</td>\n",
       "    </tr>\n",
       "    <tr>\n",
       "      <th>5</th>\n",
       "      <td>NaN</td>\n",
       "      <td>NaN</td>\n",
       "    </tr>\n",
       "    <tr>\n",
       "      <th>9</th>\n",
       "      <td>NaN</td>\n",
       "      <td>ARS</td>\n",
       "    </tr>\n",
       "    <tr>\n",
       "      <th>10</th>\n",
       "      <td>NaN</td>\n",
       "      <td>USD</td>\n",
       "    </tr>\n",
       "  </tbody>\n",
       "</table>\n",
       "</div>"
      ],
      "text/plain": [
       "    price_per_m2 currency\n",
       "1            NaN      USD\n",
       "3            NaN      USD\n",
       "5            NaN      NaN\n",
       "9            NaN      ARS\n",
       "10           NaN      USD"
      ]
     },
     "metadata": {},
     "output_type": "display_data"
    }
   ],
   "source": [
    "#Buscar nulos\n",
    "pricePerM2NullMask = data_clean.price_per_m2.isnull()\n",
    "print(pricePerM2NullMask.sum())\n",
    "display(data_clean[pricePerM2NullMask].filter(items=[\"price_per_m2\", \"currency\"]).head(5))"
   ]
  },
  {
   "cell_type": "code",
   "execution_count": 380,
   "metadata": {},
   "outputs": [
    {
     "data": {
      "text/plain": [
       "property_type\n",
       "PH            118\n",
       "apartment    2143\n",
       "house        2708\n",
       "store         171\n",
       "Name: property_type, dtype: int64"
      ]
     },
     "execution_count": 380,
     "metadata": {},
     "output_type": "execute_result"
    }
   ],
   "source": [
    "#Nulos por tipo de propiedad\n",
    "popertyTypeGroupBy2 = data_clean[pricePerM2NullMask].groupby(by=\"property_type\")\n",
    "popertyTypeGroupBy2[\"property_type\"].count()"
   ]
  },
  {
   "cell_type": "markdown",
   "metadata": {},
   "source": [
    "<hr>\n",
    "<span style=\"font-size:18px\">IMPUTAR VALORES EN price_usd_per_m2 a partir de price_per_m2<span>"
   ]
  },
  {
   "cell_type": "code",
   "execution_count": 381,
   "metadata": {},
   "outputs": [
    {
     "data": {
      "text/plain": [
       "68    3263.888889\n",
       "77    1764.705882\n",
       "79    2809.523810\n",
       "Name: price_per_m2, dtype: float64"
      ]
     },
     "metadata": {},
     "output_type": "display_data"
    }
   ],
   "source": [
    "#Buscar price_per_m2 en USD para imputar en price_usd_per_m2\n",
    "pricePerM2NoNulos = data_clean[(priceUSDPerM2NullMask) & \\\n",
    "                   (~pricePerM2NullMask) & \\\n",
    "                   (data_clean.currency == \"USD\")].price_per_m2\n",
    "display(pricePerM2NoNulos.head(3))"
   ]
  },
  {
   "cell_type": "code",
   "execution_count": 382,
   "metadata": {},
   "outputs": [
    {
     "name": "stdout",
     "output_type": "stream",
     "text": [
      "Nulos antes:  7023\n",
      "Nulos después:  4986\n"
     ]
    }
   ],
   "source": [
    "print(\"Nulos antes: \", data_clean.price_usd_per_m2.isnull().sum())\n",
    "data_clean.loc[pricePerM2NoNulos.index, \"price_usd_per_m2\"] = pricePerM2NoNulos\n",
    "print(\"Nulos después: \", data_clean.price_usd_per_m2.isnull().sum())\n"
   ]
  },
  {
   "cell_type": "code",
   "execution_count": 383,
   "metadata": {},
   "outputs": [
    {
     "data": {
      "text/html": [
       "<div>\n",
       "<style scoped>\n",
       "    .dataframe tbody tr th:only-of-type {\n",
       "        vertical-align: middle;\n",
       "    }\n",
       "\n",
       "    .dataframe tbody tr th {\n",
       "        vertical-align: top;\n",
       "    }\n",
       "\n",
       "    .dataframe thead th {\n",
       "        text-align: right;\n",
       "    }\n",
       "</style>\n",
       "<table border=\"1\" class=\"dataframe\">\n",
       "  <thead>\n",
       "    <tr style=\"text-align: right;\">\n",
       "      <th></th>\n",
       "      <th>price_usd_per_m2</th>\n",
       "      <th>price_per_m2</th>\n",
       "      <th>currency</th>\n",
       "    </tr>\n",
       "  </thead>\n",
       "  <tbody>\n",
       "  </tbody>\n",
       "</table>\n",
       "</div>"
      ],
      "text/plain": [
       "Empty DataFrame\n",
       "Columns: [price_usd_per_m2, price_per_m2, currency]\n",
       "Index: []"
      ]
     },
     "metadata": {},
     "output_type": "display_data"
    }
   ],
   "source": [
    "#Buscar price_por_m2 en pesos\n",
    "display(data_clean[(priceUSDPerM2NullMask) & \\\n",
    "                   (~pricePerM2NullMask) & \\\n",
    "                   (data_clean.currency == \"ARG\")].filter(items=[\"price_usd_per_m2\", \"price_per_m2\", \"currency\"]))"
   ]
  },
  {
   "cell_type": "markdown",
   "metadata": {},
   "source": [
    "<hr>\n",
    "<span style=\"font-size:18px\">IMPUTAR VALORES EN price_usd_per_m2 CRUZANDO POR UBICACIONES y precio_aprox_usd<span>"
   ]
  },
  {
   "cell_type": "code",
   "execution_count": 384,
   "metadata": {},
   "outputs": [],
   "source": [
    "#Apartment sin price_usd_per_m2 con price_aprox_usd\n",
    "data_clean[\"Indice\"] = data_clean.index\n",
    "dfGrupo1 = data_clean[(data_clean.price_usd_per_m2.isnull()) & (data_clean.price_aprox_usd.notnull())].filter(items=[\"property_type\", \"Indice\", \"state_name\", \"place_name\", \"place_with_parent_names\", \"price_aprox_usd\"])\n",
    "#Apartment con price_usd_per_m2 y con price_aprox_usd\n",
    "dfGrupo2 = data_clean[(data_clean.price_usd_per_m2.notnull()) & (data_clean.price_aprox_usd.notnull())].filter(items=[\"property_type\", \"state_name\", \"place_name\", \"place_with_parent_names\", \"price_usd_per_m2\", \"price_aprox_usd\"])"
   ]
  },
  {
   "cell_type": "code",
   "execution_count": 385,
   "metadata": {},
   "outputs": [
    {
     "name": "stdout",
     "output_type": "stream",
     "text": [
      "Nulos antes:  4986\n",
      "Nulos después:  4763\n"
     ]
    }
   ],
   "source": [
    "print(\"Nulos antes: \", data_clean.price_usd_per_m2.isnull().sum())\n",
    "gruposMerge = pd.merge(dfGrupo1, dfGrupo2, how=\"inner\", on=[\"property_type\", \"place_with_parent_names\", \"price_aprox_usd\"])\n",
    "medianaPriceUSDPerM2 = gruposMerge.groupby(by=[\"property_type\", \"Indice\"])[['price_usd_per_m2']].median()\n",
    "medianaPriceUSDPerM2.reset_index(inplace=True)\n",
    "medianaPriceUSDPerM2.set_index([\"Indice\"], inplace=True)\n",
    "data_clean.loc[gruposMerge.Indice, \"price_usd_per_m2\"] = medianaPriceUSDPerM2.price_usd_per_m2\n",
    "print(\"Nulos después: \", data_clean.price_usd_per_m2.isnull().sum())\n"
   ]
  },
  {
   "cell_type": "code",
   "execution_count": 386,
   "metadata": {},
   "outputs": [
    {
     "name": "stdout",
     "output_type": "stream",
     "text": [
      "Nulos antes:  4763\n",
      "Nulos después:  4747\n"
     ]
    }
   ],
   "source": [
    "print(\"Nulos antes: \", data_clean.price_usd_per_m2.isnull().sum())\n",
    "gruposMerge = pd.merge(dfGrupo1, dfGrupo2, how=\"inner\", on=[\"property_type\", \"place_name\", \"price_aprox_usd\"])\n",
    "medianaPriceUSDPerM2 = gruposMerge.groupby(by=[\"property_type\", \"Indice\"])[['price_usd_per_m2']].median()\n",
    "medianaPriceUSDPerM2.reset_index(inplace=True)\n",
    "medianaPriceUSDPerM2.set_index([\"Indice\"], inplace=True)\n",
    "data_clean.loc[gruposMerge.Indice, \"price_usd_per_m2\"] = medianaPriceUSDPerM2.price_usd_per_m2\n",
    "print(\"Nulos después: \", data_clean.price_usd_per_m2.isnull().sum())"
   ]
  },
  {
   "cell_type": "code",
   "execution_count": 387,
   "metadata": {},
   "outputs": [
    {
     "name": "stdout",
     "output_type": "stream",
     "text": [
      "Nulos antes:  4747\n",
      "Nulos después:  4531\n"
     ]
    }
   ],
   "source": [
    "print(\"Nulos antes: \", data_clean.price_usd_per_m2.isnull().sum())\n",
    "gruposMerge = pd.merge(dfGrupo1, dfGrupo2, how=\"inner\", on=[\"property_type\", \"state_name\", \"price_aprox_usd\"])\n",
    "medianaPriceUSDPerM2 = gruposMerge.groupby(by=[\"property_type\", \"Indice\"])[['price_usd_per_m2']].median()\n",
    "medianaPriceUSDPerM2.reset_index(inplace=True)\n",
    "medianaPriceUSDPerM2.set_index([\"Indice\"], inplace=True)\n",
    "data_clean.loc[gruposMerge.Indice, \"price_usd_per_m2\"] = medianaPriceUSDPerM2.price_usd_per_m2\n",
    "print(\"Nulos después: \", data_clean.price_usd_per_m2.isnull().sum())"
   ]
  },
  {
   "cell_type": "code",
   "execution_count": 388,
   "metadata": {},
   "outputs": [
    {
     "name": "stdout",
     "output_type": "stream",
     "text": [
      "Nulos antes:  4531\n",
      "Nulos después:  4078\n"
     ]
    }
   ],
   "source": [
    "print(\"Nulos antes: \", data_clean.price_usd_per_m2.isnull().sum())\n",
    "gruposMerge = pd.merge(dfGrupo1, dfGrupo2, how=\"inner\", on=[\"property_type\", \"place_with_parent_names\"])\n",
    "medianaPriceUSDPerM2 = gruposMerge.groupby(by=[\"property_type\", \"Indice\"])[['price_usd_per_m2']].median()\n",
    "medianaPriceUSDPerM2.reset_index(inplace=True)\n",
    "medianaPriceUSDPerM2.set_index([\"Indice\"], inplace=True)\n",
    "data_clean.loc[gruposMerge.Indice, \"price_usd_per_m2\"] = medianaPriceUSDPerM2.price_usd_per_m2\n",
    "print(\"Nulos después: \", data_clean.price_usd_per_m2.isnull().sum())"
   ]
  },
  {
   "cell_type": "code",
   "execution_count": 389,
   "metadata": {},
   "outputs": [
    {
     "name": "stdout",
     "output_type": "stream",
     "text": [
      "Nulos antes:  4078\n",
      "Nulos después:  4074\n"
     ]
    }
   ],
   "source": [
    "print(\"Nulos antes: \", data_clean.price_usd_per_m2.isnull().sum())\n",
    "gruposMerge = pd.merge(dfGrupo1, dfGrupo2, how=\"inner\", on=[\"property_type\", \"place_name\"])\n",
    "medianaPriceUSDPerM2 = gruposMerge.groupby(by=[\"property_type\", \"Indice\"])[['price_usd_per_m2']].median()\n",
    "medianaPriceUSDPerM2.reset_index(inplace=True)\n",
    "medianaPriceUSDPerM2.set_index([\"Indice\"], inplace=True)\n",
    "data_clean.loc[gruposMerge.Indice, \"price_usd_per_m2\"] = medianaPriceUSDPerM2.price_usd_per_m2\n",
    "print(\"Nulos después: \", data_clean.price_usd_per_m2.isnull().sum())"
   ]
  },
  {
   "cell_type": "code",
   "execution_count": 390,
   "metadata": {},
   "outputs": [
    {
     "name": "stdout",
     "output_type": "stream",
     "text": [
      "Nulos antes:  4074\n",
      "Nulos después:  4037\n"
     ]
    }
   ],
   "source": [
    "print(\"Nulos antes: \", data_clean.price_usd_per_m2.isnull().sum())\n",
    "gruposMerge = pd.merge(dfGrupo1, dfGrupo2, how=\"inner\", on=[\"property_type\", \"state_name\"])\n",
    "medianaPriceUSDPerM2 = gruposMerge.groupby(by=[\"property_type\", \"Indice\"])[['price_usd_per_m2']].median()\n",
    "medianaPriceUSDPerM2.reset_index(inplace=True)\n",
    "medianaPriceUSDPerM2.set_index([\"Indice\"], inplace=True)\n",
    "data_clean.loc[gruposMerge.Indice, \"price_usd_per_m2\"] = medianaPriceUSDPerM2.price_usd_per_m2\n",
    "print(\"Nulos después: \", data_clean.price_usd_per_m2.isnull().sum())"
   ]
  },
  {
   "cell_type": "code",
   "execution_count": 391,
   "metadata": {},
   "outputs": [
    {
     "data": {
      "text/html": [
       "<div>\n",
       "<style scoped>\n",
       "    .dataframe tbody tr th:only-of-type {\n",
       "        vertical-align: middle;\n",
       "    }\n",
       "\n",
       "    .dataframe tbody tr th {\n",
       "        vertical-align: top;\n",
       "    }\n",
       "\n",
       "    .dataframe thead th {\n",
       "        text-align: right;\n",
       "    }\n",
       "</style>\n",
       "<table border=\"1\" class=\"dataframe\">\n",
       "  <thead>\n",
       "    <tr style=\"text-align: right;\">\n",
       "      <th></th>\n",
       "      <th>Unnamed: 0</th>\n",
       "      <th>operation</th>\n",
       "      <th>property_type</th>\n",
       "      <th>place_name</th>\n",
       "      <th>place_with_parent_names</th>\n",
       "      <th>country_name</th>\n",
       "      <th>state_name</th>\n",
       "      <th>geonames_id</th>\n",
       "      <th>lat-lon</th>\n",
       "      <th>lat</th>\n",
       "      <th>...</th>\n",
       "      <th>price_usd_per_m2</th>\n",
       "      <th>price_per_m2</th>\n",
       "      <th>floor</th>\n",
       "      <th>rooms</th>\n",
       "      <th>expenses</th>\n",
       "      <th>properati_url</th>\n",
       "      <th>description</th>\n",
       "      <th>title</th>\n",
       "      <th>image_thumbnail</th>\n",
       "      <th>Indice</th>\n",
       "    </tr>\n",
       "  </thead>\n",
       "  <tbody>\n",
       "  </tbody>\n",
       "</table>\n",
       "<p>0 rows × 27 columns</p>\n",
       "</div>"
      ],
      "text/plain": [
       "Empty DataFrame\n",
       "Columns: [Unnamed: 0, operation, property_type, place_name, place_with_parent_names, country_name, state_name, geonames_id, lat-lon, lat, lon, price, currency, price_aprox_local_currency, price_aprox_usd, surface_total_in_m2, surface_covered_in_m2, price_usd_per_m2, price_per_m2, floor, rooms, expenses, properati_url, description, title, image_thumbnail, Indice]\n",
       "Index: []\n",
       "\n",
       "[0 rows x 27 columns]"
      ]
     },
     "execution_count": 391,
     "metadata": {},
     "output_type": "execute_result"
    }
   ],
   "source": [
    "data_clean[(data_clean.price_aprox_usd.notnull()) & (data_clean.surface_total_in_m2.notnull()) & (data_clean.price_usd_per_m2.isnull())]"
   ]
  },
  {
   "cell_type": "code",
   "execution_count": 392,
   "metadata": {},
   "outputs": [
    {
     "data": {
      "text/html": [
       "<div>\n",
       "<style scoped>\n",
       "    .dataframe tbody tr th:only-of-type {\n",
       "        vertical-align: middle;\n",
       "    }\n",
       "\n",
       "    .dataframe tbody tr th {\n",
       "        vertical-align: top;\n",
       "    }\n",
       "\n",
       "    .dataframe thead th {\n",
       "        text-align: right;\n",
       "    }\n",
       "</style>\n",
       "<table border=\"1\" class=\"dataframe\">\n",
       "  <thead>\n",
       "    <tr style=\"text-align: right;\">\n",
       "      <th></th>\n",
       "      <th>Unnamed: 0</th>\n",
       "      <th>operation</th>\n",
       "      <th>property_type</th>\n",
       "      <th>place_name</th>\n",
       "      <th>place_with_parent_names</th>\n",
       "      <th>country_name</th>\n",
       "      <th>state_name</th>\n",
       "      <th>geonames_id</th>\n",
       "      <th>lat-lon</th>\n",
       "      <th>lat</th>\n",
       "      <th>...</th>\n",
       "      <th>price_usd_per_m2</th>\n",
       "      <th>price_per_m2</th>\n",
       "      <th>floor</th>\n",
       "      <th>rooms</th>\n",
       "      <th>expenses</th>\n",
       "      <th>properati_url</th>\n",
       "      <th>description</th>\n",
       "      <th>title</th>\n",
       "      <th>image_thumbnail</th>\n",
       "      <th>Indice</th>\n",
       "    </tr>\n",
       "  </thead>\n",
       "  <tbody>\n",
       "  </tbody>\n",
       "</table>\n",
       "<p>0 rows × 27 columns</p>\n",
       "</div>"
      ],
      "text/plain": [
       "Empty DataFrame\n",
       "Columns: [Unnamed: 0, operation, property_type, place_name, place_with_parent_names, country_name, state_name, geonames_id, lat-lon, lat, lon, price, currency, price_aprox_local_currency, price_aprox_usd, surface_total_in_m2, surface_covered_in_m2, price_usd_per_m2, price_per_m2, floor, rooms, expenses, properati_url, description, title, image_thumbnail, Indice]\n",
       "Index: []\n",
       "\n",
       "[0 rows x 27 columns]"
      ]
     },
     "execution_count": 392,
     "metadata": {},
     "output_type": "execute_result"
    }
   ],
   "source": [
    "data_clean[(data_clean.price_aprox_usd.notnull()) & (data_clean.surface_covered_in_m2.notnull()) & (data_clean.price_usd_per_m2.isnull())]"
   ]
  },
  {
   "cell_type": "markdown",
   "metadata": {},
   "source": [
    "<hr>\n",
    "<span style=\"font-size:18px\">IMPUTAR VALORES EN surface_total_in_m2 CON price_aprox_usd / price_usd_per_m2<span>"
   ]
  },
  {
   "cell_type": "code",
   "execution_count": 393,
   "metadata": {},
   "outputs": [
    {
     "name": "stdout",
     "output_type": "stream",
     "text": [
      "Antes:  3944\n",
      "Despues:  1054\n"
     ]
    }
   ],
   "source": [
    "surfaceTotalInM2NullMask = (data_clean.surface_total_in_m2.isnull()) & \\\n",
    "                           (data_clean.price_aprox_usd.notnull()) & \\\n",
    "                           (data_clean.price_usd_per_m2.notnull())\n",
    "\n",
    "print(\"Antes: \", data_clean.surface_total_in_m2.isnull().sum())\n",
    "data_clean.loc[surfaceTotalInM2NullMask, \"surface_total_in_m2\"] = \\\n",
    "    data_clean.loc[surfaceTotalInM2NullMask, \"price_aprox_usd\"] / data_clean.loc[surfaceTotalInM2NullMask, \"price_usd_per_m2\"]\n",
    "print(\"Despues: \", data_clean.surface_total_in_m2.isnull().sum())"
   ]
  },
  {
   "cell_type": "code",
   "execution_count": null,
   "metadata": {},
   "outputs": [],
   "source": []
  }
 ],
 "metadata": {
  "kernelspec": {
   "display_name": "Python 3",
   "language": "python",
   "name": "python3"
  },
  "language_info": {
   "codemirror_mode": {
    "name": "ipython",
    "version": 3
   },
   "file_extension": ".py",
   "mimetype": "text/x-python",
   "name": "python",
   "nbconvert_exporter": "python",
   "pygments_lexer": "ipython3",
   "version": "3.7.7"
  }
 },
 "nbformat": 4,
 "nbformat_minor": 4
}
